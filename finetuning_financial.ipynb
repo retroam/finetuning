{
  "nbformat": 4,
  "nbformat_minor": 0,
  "metadata": {
    "colab": {
      "provenance": [],
      "gpuType": "T4",
      "include_colab_link": true
    },
    "kernelspec": {
      "name": "python3",
      "display_name": "Python 3"
    },
    "language_info": {
      "name": "python"
    },
    "accelerator": "GPU"
  },
  "cells": [
    {
      "cell_type": "markdown",
      "metadata": {
        "id": "view-in-github",
        "colab_type": "text"
      },
      "source": [
        "<a href=\"https://colab.research.google.com/github/retroam/finetuning/blob/project_1/finetuning_financial.ipynb\" target=\"_parent\"><img src=\"https://colab.research.google.com/assets/colab-badge.svg\" alt=\"Open In Colab\"/></a>"
      ]
    },
    {
      "cell_type": "markdown",
      "source": [
        "# Project 1 Learning Goals\n",
        "\n",
        "1. **Understand Encoder and Decoder Models**: Get familiar with both types of models and how they work in text analytics.\n",
        "2. **Model Selection**: Learn how to choose the right model for a specific task.\n",
        "3. **Apply Few-Shot Learning**: Use few-shot learning techniques to enhance model performance.\n",
        "4. **Evaluate Models**: Use metrics like accuracy and F1-score to assess model effectiveness.\n",
        "5. **Compare Models**: Learn how to draw comparisons between different models based on evaluation metrics."
      ],
      "metadata": {
        "id": "8jVCEL9l4VQr"
      }
    },
    {
      "cell_type": "markdown",
      "source": [
        "# Introduction\n",
        "\n",
        "Welcome to this project notebook! In this exercise, we aim to explore and understand the capabilities of different language models, specifically focusing on encoder and decoder architectures.\n",
        "\n",
        "## Dataset\n",
        "\n",
        "We will be working with the Financial Phrasebank dataset, which consists of sentences from English language financial news categorized by sentiment. This dataset provides a real-world scenario for us to test and evaluate the selected models.\n",
        "\n",
        "Let's get started!\n"
      ],
      "metadata": {
        "id": "wkQG3PHj4t93"
      }
    },
    {
      "cell_type": "markdown",
      "source": [
        "# Setup\n",
        "\n",
        "Before we dive into the project, we need to set up our environment. This involves installing the necessary Python libraries and importing them for use in this notebook.\n",
        "\n",
        "## Installing Libraries\n",
        "\n",
        "Run the following cell to install the required libraries.\n"
      ],
      "metadata": {
        "id": "kXaHpbiL7yro"
      }
    },
    {
      "cell_type": "code",
      "source": [
        "!pip install transformers datasets --quiet\n",
        "!pip install scikit-learn --quiet\n",
        "!pip install openai --quiet\n",
        "!pip install einops --quiet"
      ],
      "metadata": {
        "id": "M1WW3nMn4tVg",
        "colab": {
          "base_uri": "https://localhost:8080/"
        },
        "outputId": "d8352910-fcd2-498d-f223-2e1ebdfb31b1"
      },
      "execution_count": null,
      "outputs": [
        {
          "output_type": "stream",
          "name": "stdout",
          "text": [
            "\u001b[2K     \u001b[90m━━━━━━━━━━━━━━━━━━━━━━━━━━━━━━━━━━━━━━━━\u001b[0m \u001b[32m7.7/7.7 MB\u001b[0m \u001b[31m57.4 MB/s\u001b[0m eta \u001b[36m0:00:00\u001b[0m\n",
            "\u001b[2K     \u001b[90m━━━━━━━━━━━━━━━━━━━━━━━━━━━━━━━━━━━━━━━━\u001b[0m \u001b[32m519.6/519.6 kB\u001b[0m \u001b[31m42.9 MB/s\u001b[0m eta \u001b[36m0:00:00\u001b[0m\n",
            "\u001b[2K     \u001b[90m━━━━━━━━━━━━━━━━━━━━━━━━━━━━━━━━━━━━━━━━\u001b[0m \u001b[32m302.0/302.0 kB\u001b[0m \u001b[31m26.5 MB/s\u001b[0m eta \u001b[36m0:00:00\u001b[0m\n",
            "\u001b[2K     \u001b[90m━━━━━━━━━━━━━━━━━━━━━━━━━━━━━━━━━━━━━━━━\u001b[0m \u001b[32m3.8/3.8 MB\u001b[0m \u001b[31m63.1 MB/s\u001b[0m eta \u001b[36m0:00:00\u001b[0m\n",
            "\u001b[2K     \u001b[90m━━━━━━━━━━━━━━━━━━━━━━━━━━━━━━━━━━━━━━━━\u001b[0m \u001b[32m1.3/1.3 MB\u001b[0m \u001b[31m63.0 MB/s\u001b[0m eta \u001b[36m0:00:00\u001b[0m\n",
            "\u001b[2K     \u001b[90m━━━━━━━━━━━━━━━━━━━━━━━━━━━━━━━━━━━━━━━━\u001b[0m \u001b[32m115.3/115.3 kB\u001b[0m \u001b[31m12.5 MB/s\u001b[0m eta \u001b[36m0:00:00\u001b[0m\n",
            "\u001b[2K     \u001b[90m━━━━━━━━━━━━━━━━━━━━━━━━━━━━━━━━━━━━━━━━\u001b[0m \u001b[32m134.8/134.8 kB\u001b[0m \u001b[31m9.3 MB/s\u001b[0m eta \u001b[36m0:00:00\u001b[0m\n",
            "\u001b[2K     \u001b[90m━━━━━━━━━━━━━━━━━━━━━━━━━━━━━━━━━━━━━━━━\u001b[0m \u001b[32m295.0/295.0 kB\u001b[0m \u001b[31m22.9 MB/s\u001b[0m eta \u001b[36m0:00:00\u001b[0m\n",
            "\u001b[?25h"
          ]
        }
      ]
    },
    {
      "cell_type": "markdown",
      "source": [
        "## Importing Libraries\n",
        "\n",
        "After installation, import the libraries needed for this project. This typically includes Transformers for handling our encoder and decoder models, and scikit-learn for evaluation metrics."
      ],
      "metadata": {
        "id": "IKrSjFwn8BIG"
      }
    },
    {
      "cell_type": "code",
      "source": [
        "from datasets import get_dataset_config_names, load_dataset\n",
        "from collections import Counter, defaultdict\n",
        "import matplotlib.pyplot as plt\n",
        "import random\n",
        "from typing import List, Dict, Any, Union, Generator, Callable\n",
        "from transformers import AutoModelForCausalLM, AutoModelForSequenceClassification, AutoConfig, AutoTokenizer\n",
        "import openai\n",
        "from getpass import getpass\n",
        "from tqdm import tqdm\n",
        "from sklearn.metrics import accuracy_score, f1_score\n",
        "import torch\n",
        "import matplotlib.pyplot as plt\n",
        "import numpy as np\n",
        "import json\n",
        "import unittest\n",
        "from unittest.mock import Mock\n",
        "\n",
        "torch_device = \"cuda\" if torch.cuda.is_available() else \"cpu\"\n",
        "torch.set_default_device(torch_device)"
      ],
      "metadata": {
        "id": "GpyX9Bdv8Ahi"
      },
      "execution_count": null,
      "outputs": []
    },
    {
      "cell_type": "markdown",
      "source": [
        "# Data Exploration\n",
        "\n",
        "## Dataset Overview\n",
        "\n",
        "We'll be working with the Financial Phrasebank dataset for this project. This dataset contains sentences extracted from financial news articles, each labeled with a sentiment category. The dataset serves as a real-world testbed for evaluating the performance of various language models in the domain of financial text analytics.\n",
        "\n",
        "## Loading the Dataset\n",
        "\n",
        "We'll be using the Financial Phrasebank dataset available on Hugging Face. This dataset comes with a few different configurations based on the agreement rate among annotators. The configurations available are:\n",
        "\n",
        "- `sentences_allagree`\n",
        "- `sentences_75agree`\n",
        "- `sentences_66agree`\n",
        "- `sentences_50agree`\n",
        "\n",
        "For this project, we'll use the `sentences_50agree` configuration.\n",
        "\n",
        "## Splitting Data\n",
        "\n",
        "The dataset from Hugging Face doesn't come pre-split into training and test sets; it only has a 'train' split. Therefore, we'll need to create our own test set.\n",
        "\n",
        "Run the following code to load the dataset and then split it into training and test sets."
      ],
      "metadata": {
        "id": "31p0-kTR8bsl"
      }
    },
    {
      "cell_type": "code",
      "source": [
        "# List available configurations\n",
        "configs = get_dataset_config_names(\"financial_phrasebank\")\n",
        "\n",
        "# Load the dataset with the 'sentences_50agree' configuration\n",
        "phrasebank = load_dataset(\"financial_phrasebank\", \"sentences_50agree\")\n",
        "\n",
        "# Split the 'train' data into training and test sets\n",
        "phrasebank_split = phrasebank[\"train\"].train_test_split(test_size=0.1, shuffle=True)"
      ],
      "metadata": {
        "id": "W925WpK08y0N"
      },
      "execution_count": null,
      "outputs": []
    },
    {
      "cell_type": "markdown",
      "source": [
        "## Basic Statistics\n",
        "\n",
        "Once the dataset is loaded, it's useful to get a quick sense of its size and structure. Specifically, we'll look at the number of samples and the distribution of sentiment labels.  Note that the dataset labels are 0, 1, and 2 which correspond to negative, neutral, and positive (respectively).\n",
        "\n",
        "**Note to Students**: In this project, we are working with pre-trained models, which means we won't be using the training set to update the model weights through training. Instead, the training set will serve a different purpose: we will use it for one-shot or few-shot learning. This approach allows us to leverage a small subset of labeled examples to guide the model's predictions. We will then evaluate how these adjustments impact the model's performance on the test set."
      ],
      "metadata": {
        "id": "YmJd_uDy-kLJ"
      }
    },
    {
      "cell_type": "code",
      "source": [
        "# Count the number of samples in the training set\n",
        "num_samples_train = len(phrasebank_split['train'])\n",
        "# Count the number of samples in the test set\n",
        "num_samples_test = len(phrasebank_split['test'])\n",
        "\n",
        "# Display basic statistics\n",
        "print(f\"Number of samples in training set: {num_samples_train}\")\n",
        "print(f\"Number of samples in test set: {num_samples_test}\")\n",
        "\n",
        "# Extract labels from the training set and count occurrences\n",
        "label_list = [example['label'] for example in phrasebank_split['train']]\n",
        "label_counts = Counter(label_list)\n",
        "# Create the histogram\n",
        "labels, counts = zip(*label_counts.items())\n",
        "\n",
        "# Note: In the dataset, 0 represents 'negative', 1 represents 'neutral', and 2 represents 'positive'\n",
        "label_names = ['Negative (0)', 'Neutral (1)', 'Positive (2)']\n",
        "plt.bar(label_names, counts)\n",
        "plt.xlabel('Sentiment Labels')\n",
        "plt.ylabel('Frequency')\n",
        "plt.title('Label Distribution in Training Set')\n",
        "plt.show()"
      ],
      "metadata": {
        "id": "SB7zqv3t8y2j"
      },
      "execution_count": null,
      "outputs": []
    },
    {
      "cell_type": "markdown",
      "source": [
        "## Sample Data\n",
        "\n",
        "After loading and splitting the dataset, it's a good idea to take a quick look at some sample entries. This will give you a sense of what the data actually looks like.\n",
        "\n",
        "Run the following code snippet to display a few random samples from the training set:"
      ],
      "metadata": {
        "id": "1AylXBtYG_fm"
      }
    },
    {
      "cell_type": "code",
      "source": [
        "# Randomly pick 5 samples from the training set\n",
        "random_samples = random.choices(phrasebank_split['train'], k=5)\n",
        "\n",
        "# Display the samples\n",
        "for i, sample in enumerate(random_samples):\n",
        "    print(f\"Sample {i+1}:\")\n",
        "    print(f\"Text: {sample['sentence']}\")\n",
        "    print(f\"Label: {sample['label']} (0: Negative, 1: Neutral, 2: Positive)\")\n",
        "    print(\"---\")\n"
      ],
      "metadata": {
        "id": "j-0A5fQ48y4b"
      },
      "execution_count": null,
      "outputs": []
    },
    {
      "cell_type": "markdown",
      "source": [
        "# Few-Shot Learning\n",
        "\n",
        "Few-shot learning is a pivotal aspect of this project, specifically for flexing the capabilities of decoder models like Phi-1.5 and ChatGPT. In contrast to encoder models, which are highly specialized but not very adaptable, few-shot learning allows decoder models to perform different tasks without requiring any retraining.\n",
        "\n",
        "In this project, you'll get hands-on experience by writing your own function to prepare few-shot examples. These examples will come from the training set and will \"prime\" the models to perform sentiment analysis on the test set. Essentially, you'll use a handful of examples to guide the model's understanding of what 'Negative,' 'Neutral,' and 'Positive' sentiments look like.\n",
        "\n",
        "We will be using a python [generator](https://docs.python.org/3/reference/simple_stmts.html#yield) to create the examples on the fly.\n",
        "\n",
        "Each example will have the following format:\n",
        "\n",
        "```text\n",
        "Classify the sentiment (negative, neutral, positive) of the following statement:\n",
        "[This is a negative sample from the phrasebank.]\n",
        "Reponse: negative\n",
        "```\n",
        "For the test phrase \"Export declined by 6 percent to 16.4 million liters\", a zero shot example would look like:\n",
        "```text\n",
        "Classify the sentiment (negative, neutral, positive) of the following statement:\n",
        "[Export declined by 6 percent to 16.4 million liters]\n",
        "Reponse:\n",
        "```\n",
        "A one-shot example would look like:\n",
        "```text\n",
        "Classify the sentiment (negative, neutral, positive) of the following statement:\n",
        "[Finnish Raisio ( Diagnostics ) is launching new DNA-based quick tests to ensure the safety of food .]\n",
        "Reponse: positive\n",
        "[Export declined by 6 percent to 16.4 million liters]\n",
        "Reponse:\n",
        "```\n",
        "A two-shot example would look like:\n",
        "```text\n",
        "Classify the sentiment (negative, neutral, positive) of the following statement:\n",
        "[Finnish meat company Atria can no longer promise a sufficient amount of domestic beef to its customers .]\n",
        "Reponse: negative\n",
        "[Finnish Raisio ( Diagnostics ) is launching new DNA-based quick tests to ensure the safety of food .]\n",
        "Reponse: positive\n",
        "[Export declined by 6 percent to 16.4 million liters]\n",
        "Reponse:\n",
        "```\n",
        "\n",
        "Let's give this a shot!"
      ],
      "metadata": {
        "id": "-b1Y5qQjLXtC"
      }
    },
    {
      "cell_type": "code",
      "source": [
        "def generate_n_shot_examples(prompt: str,\n",
        "                             train_set: List[Dict[str, Any]],\n",
        "                             test_set: List[Dict[str, Any]],\n",
        "                             n: int) -> Generator[str, None, None]:\n",
        "    \"\"\"\n",
        "    Generates simple n-shot examples using sequential samples from the training set.\n",
        "\n",
        "    This function selects the next 'n' examples from the training set and appends them\n",
        "    to each query from the test set to create n-shot learning examples.\n",
        "\n",
        "    Args:\n",
        "        prompt: The prompt text to be used for the few-shot examples.\n",
        "        train_set: The training set, a list of dictionaries containing 'sentence' and 'label' keys.\n",
        "        test_set: The test set, a list of dictionaries containing 'sentence' and 'label' keys.\n",
        "        n: The number of examples to select from the training set.\n",
        "\n",
        "    Yields:\n",
        "        A sample, label representing an n-shot example.\n",
        "    \"\"\"\n",
        "\n",
        "    sentiment_labels = {0: 'negative', 1: 'neutral', 2: 'positive'}\n",
        "\n",
        "    ########################\n",
        "    # START YOUR CODE HERE #\n",
        "    ########################\n",
        "    # REPLACE None WITH YOUR CODE\n",
        "\n",
        "    # Calculate how many samples can be created from the test set length, train set length, and n\n",
        "    if n != 0 and len(train_set) >= n:\n",
        "        n_samples = min(None, None)\n",
        "    else:\n",
        "        n_samples = None\n",
        "\n",
        "    # Create a generator that iterates over the examples\n",
        "    test_gen = iter(None)\n",
        "    train_gen = iter(None)\n",
        "\n",
        "    # Generate n-shot examples\n",
        "    for _ in range(n_samples):\n",
        "        test_sample = next(test_gen)\n",
        "        n_shot_example = f\"{prompt}:\\n\"\n",
        "\n",
        "        # Add the n-shot examples to the prompt\n",
        "        for _ in range(n):\n",
        "            train_sample = next(train_gen)\n",
        "            n_shot_example += f\"[{train_sample['sentence']}]\\nResponse: {sentiment_labels[train_sample['label']]}\\n\"\n",
        "\n",
        "        # Add the final test sentence without its label\n",
        "        n_shot_example += f\"[{None}]\\nResponse:\"\n",
        "\n",
        "        # Use the sentiment_labels dict to convert the numeric (0,1,2) to a text label\n",
        "        sentiment_label = None\n",
        "\n",
        "        yield n_shot_example, sentiment_label\n",
        "\n",
        "    #########################\n",
        "    # FINISH YOUR CODE HERE #\n",
        "    #########################\n",
        "\n",
        "\n",
        "# Generate 2-shot examples\n",
        "n_shot_generator = generate_n_shot_examples(\"Classify the sentiment (negative, neutral, positive) of the following statement\",\n",
        "                                            phrasebank_split['train'], phrasebank_split['test'], 2)\n",
        "\n",
        "# Display a couple generated n-shot examples\n",
        "for _ in range(2):\n",
        "    sample = next(n_shot_generator)\n",
        "    print(sample[0])\n",
        "    print()\n",
        "    print(sample[1])\n",
        "    print()"
      ],
      "metadata": {
        "id": "WPVL0GCkLpYT"
      },
      "execution_count": null,
      "outputs": []
    },
    {
      "cell_type": "code",
      "source": [
        "# @title Test Your Code!\n",
        "class TestGenerateNShotExamplesUpdated(unittest.TestCase):\n",
        "\n",
        "    def test_generate_n_shot_examples(self):\n",
        "        \"\"\"\n",
        "        Test the functionality of generate_n_shot_examples using static data.\n",
        "        \"\"\"\n",
        "        prompt = \"Classify the sentiment (negative, neutral, positive) of the following statement\"\n",
        "        train_set: List[Dict[str, Any]] = [\n",
        "            {'sentence': 'I love this product', 'label': 2},\n",
        "            {'sentence': 'This is just okay', 'label': 1},\n",
        "            {'sentence': 'I hate this', 'label': 0},\n",
        "            {'sentence': 'This is amazing', 'label': 2}\n",
        "        ]\n",
        "        test_set: List[Dict[str, Any]] = [\n",
        "            {'sentence': 'This is terrible', 'label': 0},\n",
        "            {'sentence': 'This is fantastic', 'label': 2}\n",
        "        ]\n",
        "        n = 2\n",
        "\n",
        "        expected_output = [\n",
        "            f\"{prompt}:\\n[I love this product]\\nResponse: positive\\n[This is just okay]\\nResponse: neutral\\n[This is terrible]\\nResponse:\",\n",
        "            f\"{prompt}:\\n[I hate this]\\nResponse: negative\\n[This is amazing]\\nResponse: positive\\n[This is fantastic]\\nResponse:\"\n",
        "        ]\n",
        "        expected_labels = ['negative', 'positive']\n",
        "\n",
        "        gen: Generator[str, None, None] = generate_n_shot_examples(prompt, train_set, test_set, n)\n",
        "\n",
        "        for prompt, label in zip(expected_output, expected_labels):\n",
        "            produced = next(gen)\n",
        "            self.assertEqual(produced[0], prompt)\n",
        "            self.assertEqual(produced[1], label)\n",
        "\n",
        "        # Test for exhaustion of generator\n",
        "        with self.assertRaises(StopIteration):\n",
        "            next(gen)\n",
        "\n",
        "    def test_small_train_set(self):\n",
        "        \"\"\"\n",
        "        Test the case where the train set is smaller than the test set.\n",
        "        \"\"\"\n",
        "        prompt = \"Classify the sentiment\"\n",
        "        train_set: List[Dict[str, Any]] = [\n",
        "            {'sentence': 'I love this', 'label': 2}\n",
        "        ]\n",
        "        test_set: List[Dict[str, Any]] = [\n",
        "            {'sentence': 'This is bad', 'label': 0},\n",
        "            {'sentence': 'This is good', 'label': 2}\n",
        "        ]\n",
        "        n = 1\n",
        "\n",
        "        # Since there's only one training example, it should be repeated for each test example.\n",
        "        expected_output = [\n",
        "            f\"{prompt}:\\n[I love this]\\nResponse: positive\\n[This is bad]\\nResponse:\",\n",
        "        ]\n",
        "\n",
        "        gen: Generator[str, None, None] = generate_n_shot_examples(prompt, train_set, test_set, n)\n",
        "\n",
        "        for expected in expected_output:\n",
        "            self.assertEqual(next(gen)[0], expected)\n",
        "\n",
        "        # Test for exhaustion of generator\n",
        "        with self.assertRaises(StopIteration):\n",
        "            next(gen)\n",
        "\n",
        "    def test_small_test_set(self):\n",
        "        \"\"\"\n",
        "        Test the case where the test set is smaller than the train set.\n",
        "        \"\"\"\n",
        "        prompt = \"Classify the sentiment\"\n",
        "        train_set: List[Dict[str, Any]] = [\n",
        "            {'sentence': 'I love this', 'label': 2},\n",
        "            {'sentence': 'This is okay', 'label': 1},\n",
        "            {'sentence': 'I hate this', 'label': 0}\n",
        "        ]\n",
        "        test_set: List[Dict[str, Any]] = [\n",
        "            {'sentence': 'This is bad', 'label': 0}\n",
        "        ]\n",
        "        n = 2\n",
        "\n",
        "        expected_output = [\n",
        "            f\"{prompt}:\\n[I love this]\\nResponse: positive\\n[This is okay]\\nResponse: neutral\\n[This is bad]\\nResponse:\"\n",
        "        ]\n",
        "\n",
        "        gen: Generator[str, None, None] = generate_n_shot_examples(prompt, train_set, test_set, n)\n",
        "\n",
        "        for expected in expected_output:\n",
        "            self.assertEqual(next(gen)[0], expected)\n",
        "\n",
        "        # Test for exhaustion of generator\n",
        "        with self.assertRaises(StopIteration):\n",
        "            next(gen)\n",
        "\n",
        "# Run the tests\n",
        "unittest.TextTestRunner().run(unittest.TestLoader().loadTestsFromTestCase(TestGenerateNShotExamplesUpdated))\n"
      ],
      "metadata": {
        "cellView": "form",
        "id": "2q_97QEIxVQn"
      },
      "execution_count": null,
      "outputs": []
    },
    {
      "cell_type": "markdown",
      "source": [
        "# Model Overview & Initialization\n",
        "\n",
        "## Why Encoder and Decoder Models?\n",
        "\n",
        "In this project, we focus on two distinct types of language models: encoder models and decoder models. You may wonder why we're using both. Encoder models like Roberta and FinBERT are highly specialized for tasks like sentiment analysis. They take text input and transform it into a fixed-size vector that captures essential information. While effective for their specialized tasks, they aren't very flexible for others.\n",
        "\n",
        "Decoder models such as ChatGPT and Phi-1.5 are fundamentally designed to generate text. These models can be adapted for various tasks, like sentiment analysis, through a technique known as few-shot learning. This makes them versatile, even without task-specific training.\n",
        "\n",
        "By exploring both encoder and decoder models, we aim to provide a well-rounded understanding of their capabilities and constraints. This sets the stage for a comprehensive evaluation later in the notebook, especially when we change tasks to demonstrate the adaptability of decoder models.\n",
        "\n",
        "## Running models form different sources\n",
        "\n",
        "We will execute both open and closed source models:  Roberta, FinBERT, and Phi-1.5 are open source, while GPT-3.5 is closed source and only accessible via API.\n",
        "\n",
        "## Coding Examples\n",
        "\n",
        "First, we'll show you how to download and run inference on the encoder models. These will include the general-purpose text classification model cardiffnlp/twitter-roberta-base-sentiment-latest and the financial news-focused model ProsusAI/finbert.\n"
      ],
      "metadata": {
        "id": "fiE35YdpHkaD"
      }
    },
    {
      "cell_type": "code",
      "source": [
        "sentiment_names = phrasebank[\"train\"].features[\"label\"].names\n",
        "\n",
        "# Initialize Roberta tokenizer and model\n",
        "checkpoint = \"cardiffnlp/twitter-roberta-base-sentiment-latest\"\n",
        "roberta_tokenizer = AutoTokenizer.from_pretrained(checkpoint)\n",
        "roberta_config = AutoConfig.from_pretrained(checkpoint)\n",
        "roberta_model = AutoModelForSequenceClassification.from_pretrained(checkpoint)\n",
        "\n",
        "# Initialize the Finbert tokenizer and model\n",
        "checkpoint = \"ProsusAI/finbert\"\n",
        "finbert_tokenizer = AutoTokenizer.from_pretrained(checkpoint)\n",
        "finbert_config = AutoConfig.from_pretrained(checkpoint)\n",
        "finbert_model = AutoModelForSequenceClassification.from_pretrained(checkpoint)"
      ],
      "metadata": {
        "id": "X8zxs8T9k1dL"
      },
      "execution_count": null,
      "outputs": []
    },
    {
      "cell_type": "code",
      "source": [
        "sentiment = ['negative', 'neutral', 'positive']\n",
        "\n",
        "# Run inference on a positive example\n",
        "text = \"Revenue grew 12 percent to (  x20ac ) 3.6 billion ( US$ 4.5 billion ) .\"\n",
        "finbert_inputs = finbert_tokenizer(text, return_tensors=\"pt\")\n",
        "finbert_outputs = finbert_model(**finbert_inputs)\n",
        "finbert_prediction = finbert_outputs.logits.argmax(dim=1).item()\n",
        "finbert_sentiment = finbert_config.id2label[finbert_prediction]\n",
        "\n",
        "roberta_inputs = roberta_tokenizer(text, return_tensors=\"pt\")\n",
        "roberta_outputs = roberta_model(**roberta_inputs)\n",
        "roberta_prediction = roberta_outputs.logits.argmax(dim=1).item()\n",
        "roberta_sentiment = roberta_config.id2label[roberta_prediction]\n",
        "\n",
        "print(text)\n",
        "print(f\"Finbert Sentiment Prediction: {finbert_sentiment} ({sentiment_names.index(finbert_sentiment)})\")\n",
        "print(f\"Roberta Sentiment Prediction: {roberta_sentiment} ({sentiment_names.index(roberta_sentiment)})\")"
      ],
      "metadata": {
        "id": "qVOO1HNamEBk"
      },
      "execution_count": null,
      "outputs": []
    },
    {
      "cell_type": "markdown",
      "source": [
        "Let's make this a more generic inference function so we can run it in a generic inference loop later."
      ],
      "metadata": {
        "id": "C4bObWvFr17d"
      }
    },
    {
      "cell_type": "code",
      "source": [
        "def generate_encoder_infer(model_name: str) -> Callable[[str], int]:\n",
        "    \"\"\"\n",
        "    Generates a model_infer function for a given encoder model.\n",
        "\n",
        "    Args:\n",
        "        model_name: The name of the model to use for inference.\n",
        "\n",
        "    Returns:\n",
        "        A model_infer function that takes a sentence as input and returns a predicted label as an integer.\n",
        "    \"\"\"\n",
        "\n",
        "    ########################\n",
        "    # START YOUR CODE HERE #\n",
        "    ########################\n",
        "    # REPLACE None WITH YOUR CODE\n",
        "\n",
        "    # Initialize the model\n",
        "    tokenizer = None\n",
        "    config = None\n",
        "    model = None\n",
        "\n",
        "    def model_infer(text: str) -> int:\n",
        "        \"\"\"\n",
        "        Runs inference on a encoder model and classifies the classification of a given text.\n",
        "\n",
        "        Args:\n",
        "            text: The sentence to classify.\n",
        "\n",
        "        Returns:\n",
        "            The predicted label as an integer.\n",
        "        \"\"\"\n",
        "\n",
        "        # Run inference\n",
        "        inputs = None\n",
        "        outputs = None\n",
        "        prediction = None\n",
        "        sentiment = None\n",
        "\n",
        "        # Finally, we will get the sentiment index associated with this sentiment\n",
        "        # You might be wondering why we don't just use the argmax over the output logits!\n",
        "        # This is because the model might have used different indices for its labels.\n",
        "        sentiment_index = None\n",
        "\n",
        "        #########################\n",
        "        # FINISH YOUR CODE HERE #\n",
        "        #########################\n",
        "\n",
        "        return sentiment_index\n",
        "\n",
        "    return model_infer\n",
        "\n",
        "finbert_infer = generate_encoder_infer(\"ProsusAI/finbert\")\n",
        "roberta_infer = generate_encoder_infer(\"cardiffnlp/twitter-roberta-base-sentiment-latest\")"
      ],
      "metadata": {
        "id": "eOJBh39tr7kk"
      },
      "execution_count": null,
      "outputs": []
    },
    {
      "cell_type": "code",
      "source": [
        "# @title Test Your Code!\n",
        "class TestGenerateEncoderInfer(unittest.TestCase):\n",
        "\n",
        "    def test_generate_encoder_infer_finbert(self):\n",
        "        \"\"\"\n",
        "        Test generate_encoder_infer with a mock for Finbert model.\n",
        "        \"\"\"\n",
        "        model_infer = generate_encoder_infer(\"ProsusAI/finbert\")\n",
        "\n",
        "        # Mocked behavior for this test\n",
        "        text = \"Revenue grew 12 percent to (  x20ac ) 3.6 billion ( US$ 4.5 billion ) .\"\n",
        "        expected_output = 2  # 'positive' in the sentiment_names list\n",
        "\n",
        "        # Running the model inference function\n",
        "        result = model_infer(text)\n",
        "\n",
        "        # Assert that the result is as expected\n",
        "        self.assertEqual(result, expected_output)\n",
        "\n",
        "    def test_generate_encoder_infer_roberta(self):\n",
        "        \"\"\"\n",
        "        Test generate_encoder_infer with a mock for Roberta model.\n",
        "        \"\"\"\n",
        "        model_infer = generate_encoder_infer(\"cardiffnlp/twitter-roberta-base-sentiment-latest\")\n",
        "\n",
        "        # Mocked behavior for this test\n",
        "        text = \"Revenue grew 12 percent to (  x20ac ) 3.6 billion ( US$ 4.5 billion ) .\"\n",
        "        expected_output = 2  # 'positive' in the sentiment_names list\n",
        "\n",
        "        # Running the model inference function\n",
        "        result = model_infer(text)\n",
        "\n",
        "        # Assert that the result is as expected\n",
        "        self.assertEqual(result, expected_output)\n",
        "\n",
        "# Run the updated tests\n",
        "unittest.TextTestRunner().run(unittest.TestLoader().loadTestsFromTestCase(TestGenerateEncoderInfer))"
      ],
      "metadata": {
        "cellView": "form",
        "id": "jGlJZdAHHHWJ"
      },
      "execution_count": null,
      "outputs": []
    },
    {
      "cell_type": "markdown",
      "source": [
        "## Decoder Inference\n",
        "\n",
        "Now let's do the same for the decoder model: Phi-1.5.  First, we'll provide some example code that demonstrates the use and versatility of a decoder model."
      ],
      "metadata": {
        "id": "UZGQ9ZB2nXWX"
      }
    },
    {
      "cell_type": "code",
      "source": [
        "# First, load the Tokenizer and Model, just like with FinBert and RoBerta\n",
        "model = AutoModelForCausalLM.from_pretrained(\"microsoft/phi-1_5\", trust_remote_code=True)\n",
        "tokenizer = AutoTokenizer.from_pretrained(\"microsoft/phi-1_5\", trust_remote_code=True)"
      ],
      "metadata": {
        "id": "2y58QJJuqkOY"
      },
      "execution_count": null,
      "outputs": []
    },
    {
      "cell_type": "code",
      "source": [
        "# Let's first show the model's versatility.\n",
        "# We're going to have it write some code and then run the code!\n",
        "# This is an example from the model card on huggingface: https://huggingface.co/microsoft/phi-1_5\n",
        "# Note that the model card explains that the model is not fine-tuned, so it tends to ramble and continue generating text after it answers the question.\n",
        "# We'll use some very basic filtering to extract exactly what we want from the generated output\n",
        "inputs = tokenizer('''```python\n",
        "def print_prime(n):\n",
        "   \"\"\"\n",
        "   Print all primes between 1 and n\n",
        "   \"\"\"''', return_tensors=\"pt\", return_attention_mask=False)\n",
        "\n",
        "outputs = model.generate(**inputs, max_length=200)\n",
        "text = tokenizer.batch_decode(outputs)[0]\n",
        "start_index = text.find(\"```python\")\n",
        "end_index = text.find(\"```\", start_index + 3)\n",
        "generated_code = text[start_index + 9:end_index]\n",
        "\n",
        "print(\"This is the code that the model generated:\")\n",
        "print(\"---------\")\n",
        "print(generated_code)\n",
        "print(\"---------\")\n",
        "print(\"Now, let's execute that code:\")\n",
        "exec(generated_code)"
      ],
      "metadata": {
        "id": "6MFMK09UWI1z"
      },
      "execution_count": null,
      "outputs": []
    },
    {
      "cell_type": "markdown",
      "source": [
        "It's hard to really comprehend how amazing this last code cell is.  This model is reliably generating executable, syntax compliant, python code.  Decoder models have incredible versatility- maybe this model could even help you with this coding project!\n",
        "\n",
        "Now we're going to ask the same model to do an entirely different task: sentiment analysis.  Let's check it out!"
      ],
      "metadata": {
        "id": "8M1JG8S3YUNu"
      }
    },
    {
      "cell_type": "code",
      "source": [
        "# Now, try it out for classifying a zero-shot prompt!\n",
        "zero_shot_generator = generate_n_shot_examples(\"Classify the sentiment (negative, neutral, positive) of the following statement\",\n",
        "                                               phrasebank_split['train'], phrasebank_split['test'], 0)\n",
        "zero_shot_sample = next(zero_shot_generator)\n",
        "\n",
        "\n",
        "zero_shot_prompt = zero_shot_sample[0]\n",
        "zero_shot_label = zero_shot_sample[1]\n",
        "# zero_shot_inputs = tokenizer(zero_shot_prompt, return_tensors=\"pt\", return_attention_mask=False)\n",
        "# input_length = zero_shot_inputs.input_ids.shape[1]\n",
        "# zero_shot_outputs = model.generate(**zero_shot_inputs, max_new_tokens=20, return_dict_in_generate=True, pad_token_id=tokenizer.eos_token_id)\n",
        "# zero_shot_output_tokens = zero_shot_outputs.sequences[0, input_length:]\n",
        "# zero_shot_output_str = tokenizer.decode(zero_shot_output_tokens)\n",
        "\n",
        "print(zero_shot_prompt)\n",
        "print('-----------')\n",
        "print(f'True label: {zero_shot_label}')\n",
        "print('-----------')\n",
        "print('(generating...)')\n",
        "zero_shot_inputs = tokenizer(zero_shot_prompt, return_tensors=\"pt\", return_attention_mask=False)\n",
        "input_len = zero_shot_inputs.input_ids.shape[1]\n",
        "zero_shot_outputs = model.generate(**zero_shot_inputs, max_length=200)\n",
        "zero_shot_output_str = tokenizer.batch_decode(zero_shot_outputs[:,input_len:])[0]\n",
        "print('-----------')\n",
        "print(f'Decoder output (cleaned): {zero_shot_output_str.strip().split()[0]}')\n",
        "print('-----------')\n",
        "print(f'Decoder output (raw): {zero_shot_output_str}')"
      ],
      "metadata": {
        "id": "A-wYYm-KnjmE"
      },
      "execution_count": null,
      "outputs": []
    },
    {
      "cell_type": "code",
      "source": [
        "# Now, try it out for classifying a one-shot prompt!\n",
        "one_shot_generator = generate_n_shot_examples(\"Classify the sentiment (negative, neutral, positive) of the following statement\",\n",
        "                                               phrasebank_split['train'], phrasebank_split['test'], 1)\n",
        "one_shot_sample = next(one_shot_generator)\n",
        "\n",
        "\n",
        "one_shot_prompt = one_shot_sample[0]\n",
        "one_shot_label = one_shot_sample[1]\n",
        "\n",
        "print(one_shot_prompt)\n",
        "print('-----------')\n",
        "print(f'True label: {one_shot_label}')\n",
        "print('-----------')\n",
        "print('(generating...)')\n",
        "one_shot_inputs = tokenizer(one_shot_prompt, return_tensors=\"pt\", return_attention_mask=False)\n",
        "input_len = one_shot_inputs.input_ids.shape[1]\n",
        "one_shot_outputs = model.generate(**one_shot_inputs, max_length=200)\n",
        "one_shot_output_str = tokenizer.batch_decode(one_shot_outputs[:,input_len:])[0]\n",
        "print('-----------')\n",
        "print(f'Decoder output (cleaned): {one_shot_output_str.strip().split()[0]}')\n",
        "print('-----------')\n",
        "print(f'Decoder output (raw): {one_shot_output_str}')"
      ],
      "metadata": {
        "id": "GVypVzLEnjnl"
      },
      "execution_count": null,
      "outputs": []
    },
    {
      "cell_type": "code",
      "source": [
        "# Now, try it out for classifying a ten-shot prompt!\n",
        "ten_shot_generator = generate_n_shot_examples(\"Classify the sentiment (negative, neutral, positive) of the following statement\",\n",
        "                                               phrasebank_split['train'], phrasebank_split['test'], 10)\n",
        "ten_shot_sample = next(ten_shot_generator)\n",
        "\n",
        "\n",
        "ten_shot_prompt = ten_shot_sample[0]\n",
        "ten_shot_label = ten_shot_sample[1]\n",
        "\n",
        "print(ten_shot_prompt)\n",
        "print('-----------')\n",
        "print(f'True label: {ten_shot_label}')\n",
        "print('-----------')\n",
        "print('(generating...)')\n",
        "ten_shot_inputs = tokenizer(ten_shot_prompt, return_tensors=\"pt\", return_attention_mask=False)\n",
        "input_len = ten_shot_inputs.input_ids.shape[1]\n",
        "ten_shot_outputs = model.generate(**ten_shot_inputs, max_length=200)\n",
        "ten_shot_output_str = tokenizer.batch_decode(ten_shot_outputs[:,input_len:])[0]\n",
        "print('-----------')\n",
        "print(f'Decoder output (cleaned): {ten_shot_output_str.strip().split()[0]}')\n",
        "print('-----------')\n",
        "print(f'Decoder output (raw): {ten_shot_output_str}')"
      ],
      "metadata": {
        "id": "Yo67upisnjpj"
      },
      "execution_count": null,
      "outputs": []
    },
    {
      "cell_type": "code",
      "source": [
        "del model            # Delete the model variable\n",
        "torch.cuda.empty_cache()  # Empty CUDA cache to release GPU memory"
      ],
      "metadata": {
        "id": "T29gEKirnWX0"
      },
      "execution_count": null,
      "outputs": []
    },
    {
      "cell_type": "markdown",
      "source": [
        "Now that we've played around a little with Phi-1.5 inference, let'\n",
        "s build an inference function that is similar to the one we built earlier for the encoder models."
      ],
      "metadata": {
        "id": "2ckVz3uhrz81"
      }
    },
    {
      "cell_type": "code",
      "source": [
        "def generate_decoder_infer(model_name: str) -> Callable[[str], int]:\n",
        "    \"\"\"\n",
        "    Generates a model_infer function for a given decoder model.\n",
        "\n",
        "    Args:\n",
        "        model_name: The name of the model to use for inference.\n",
        "\n",
        "    Returns:\n",
        "        A model_infer function that takes a sentence as input and returns a predicted label as an integer.\n",
        "    \"\"\"\n",
        "\n",
        "    ########################\n",
        "    # START YOUR CODE HERE #\n",
        "    ########################\n",
        "    # REPLACE None WITH YOUR CODE\n",
        "\n",
        "    # Initialize the model\n",
        "    tokenizer = None\n",
        "    model = None\n",
        "\n",
        "    def model_infer(text: str, max_new_tokens: int = 20) -> int:\n",
        "        \"\"\"\n",
        "        Runs inference on a decoder model and classifies the classification of a given text.\n",
        "\n",
        "            Args:\n",
        "                text: The sentence to classify.\n",
        "\n",
        "            Returns:\n",
        "                The \"cleaned\" output of the decoder.\n",
        "                (See example cell above.  Specifically, this should return the first complete word generated by the decoder in response to the input text.)\n",
        "        \"\"\"\n",
        "        # Run inference\n",
        "        inputs = None\n",
        "        input_len = None\n",
        "        outputs = None\n",
        "        output_str = None\n",
        "        output_str_cleaned = None\n",
        "\n",
        "        return output_str_cleaned\n",
        "\n",
        "        #########################\n",
        "        # FINISH YOUR CODE HERE #\n",
        "        #########################\n",
        "\n",
        "    return model_infer\n",
        "\n",
        "decoder_infer = generate_decoder_infer(\"microsoft/phi-1_5\")"
      ],
      "metadata": {
        "id": "uG_Kc5E-rzZQ"
      },
      "execution_count": null,
      "outputs": []
    },
    {
      "cell_type": "code",
      "source": [
        "# @title Test Your Code!\n",
        "class TestGenerateDecoderInfer(unittest.TestCase):\n",
        "\n",
        "    def test_generate_decoder_infer_1(self):\n",
        "        self.assertEqual(decoder_infer(\"one\"), \"_hot(labels,\")\n",
        "\n",
        "    def test_generate_decoder_infer_2(self):\n",
        "        self.assertEqual(decoder_infer(\"one two\"), \"-dimensional\")\n",
        "\n",
        "    def test_generate_decoder_infer_3(self):\n",
        "        self.assertEqual(decoder_infer(\"one two three four\"), \"-legged\")\n",
        "\n",
        "# Run the updated tests\n",
        "unittest.TextTestRunner().run(unittest.TestLoader().loadTestsFromTestCase(TestGenerateDecoderInfer))"
      ],
      "metadata": {
        "cellView": "form",
        "id": "jPoEEUpLnjro"
      },
      "execution_count": null,
      "outputs": []
    },
    {
      "cell_type": "markdown",
      "source": [
        "# Evaluation\n",
        "\n",
        "Now, let's evaluate how well our models do on the dataset!  We'll start with the encoder models because those are simple.  We just infer on each test example and check if the output matches!"
      ],
      "metadata": {
        "id": "GHZtA_SieFuo"
      }
    },
    {
      "cell_type": "code",
      "source": [
        "def evaluate_encoder_inference(model_infer: Callable[[str], int], test_dataset: iter) -> dict:\n",
        "    \"\"\"\n",
        "    Evaluate the performance of a model on a test dataset, with progress bar.\n",
        "\n",
        "    Args:\n",
        "        model_infer: The model inference function that takes text as input and returns an integer label.\n",
        "        test_dataset: A generator or iterable containing test samples. Each sample is a dict with keys \"label\" and \"sentence\".\n",
        "\n",
        "    Returns:\n",
        "        A dictionary containing the average accuracy and F1 score.\n",
        "    \"\"\"\n",
        "\n",
        "    ########################\n",
        "    # START YOUR CODE HERE #\n",
        "    ########################\n",
        "    # REPLACE None WITH YOUR CODE\n",
        "\n",
        "    # Initialize true and predicted labels to empty Python lists\n",
        "    true_labels = None\n",
        "    predicted_labels = None\n",
        "\n",
        "    for sample in tqdm(test_dataset, total=len(test_dataset), desc=\"Evaluating\"):\n",
        "        # Retrieve the 'label' and 'sentence' from the sample dict\n",
        "        true_label = None\n",
        "        sentence = None\n",
        "\n",
        "        # Run model inference to calculate the predicted_label\n",
        "        predicted_label = None\n",
        "\n",
        "        # Add the true and predicted labels to the true and predicted labels arrays\n",
        "        true_labels.append(None)\n",
        "        predicted_labels.append(None)\n",
        "\n",
        "    # calcualte accuracy and F1 score using sklearn's accuracy_score() and f1_score() functions\n",
        "    avg_accuracy = None\n",
        "    avg_f1 = None\n",
        "\n",
        "    #########################\n",
        "    # FINISH YOUR CODE HERE #\n",
        "    #########################\n",
        "\n",
        "    return {'Average Accuracy': avg_accuracy, 'Average F1 Score': avg_f1}"
      ],
      "metadata": {
        "id": "K-0Ayj0leW09"
      },
      "execution_count": null,
      "outputs": []
    },
    {
      "cell_type": "code",
      "source": [
        "# @title Test Your Code!\n",
        "class TestEvaluateEncoderInferenceExtended(unittest.TestCase):\n",
        "\n",
        "    def test_all_correct_predictions(self):\n",
        "        \"\"\"\n",
        "        Test when all predictions are correct.\n",
        "        \"\"\"\n",
        "        mock_model_infer = Mock()\n",
        "        mock_model_infer.side_effect = [0, 1, 2, 1, 0]  # All predictions are correct\n",
        "\n",
        "        mock_test_dataset = [\n",
        "            {'label': 0, 'sentence': 'This is bad.'},\n",
        "            {'label': 1, 'sentence': 'This is okay.'},\n",
        "            {'label': 2, 'sentence': 'This is great.'},\n",
        "            {'label': 1, 'sentence': 'This is fine.'},\n",
        "            {'label': 0, 'sentence': 'This is terrible.'}\n",
        "        ]\n",
        "\n",
        "        result = evaluate_encoder_inference(mock_model_infer, mock_test_dataset)\n",
        "        self.assertEqual(result['Average Accuracy'], 1.0)\n",
        "        self.assertEqual(result['Average F1 Score'], 1.0)\n",
        "\n",
        "    def test_some_incorrect_predictions(self):\n",
        "        \"\"\"\n",
        "        Test when some predictions are incorrect.\n",
        "        \"\"\"\n",
        "        mock_model_infer = Mock()\n",
        "        mock_model_infer.side_effect = [0, 1, 0, 1, 2]  # Some predictions are incorrect\n",
        "\n",
        "        mock_test_dataset = [\n",
        "            {'label': 0, 'sentence': 'This is bad.'},\n",
        "            {'label': 1, 'sentence': 'This is okay.'},\n",
        "            {'label': 2, 'sentence': 'This is great.'},\n",
        "            {'label': 1, 'sentence': 'This is fine.'},\n",
        "            {'label': 0, 'sentence': 'This is terrible.'}\n",
        "        ]\n",
        "\n",
        "        result = evaluate_encoder_inference(mock_model_infer, mock_test_dataset)\n",
        "        self.assertLess(result['Average Accuracy'], 1.0)\n",
        "        self.assertLess(result['Average F1 Score'], 1.0)\n",
        "\n",
        "    def test_all_incorrect_predictions(self):\n",
        "        \"\"\"\n",
        "        Test when all predictions are incorrect.\n",
        "        \"\"\"\n",
        "        mock_model_infer = Mock()\n",
        "        mock_model_infer.side_effect = [2, 2, 2, 2, 2]  # All predictions are incorrect\n",
        "\n",
        "        mock_test_dataset = [\n",
        "            {'label': 0, 'sentence': 'This is bad.'},\n",
        "            {'label': 1, 'sentence': 'This is okay.'},\n",
        "            {'label': 0, 'sentence': 'This is terrible.'},\n",
        "            {'label': 1, 'sentence': 'This is not good.'},\n",
        "            {'label': 0, 'sentence': 'This is awful.'}\n",
        "        ]\n",
        "\n",
        "        result = evaluate_encoder_inference(mock_model_infer, mock_test_dataset)\n",
        "        self.assertEqual(result['Average Accuracy'], 0.0)\n",
        "        self.assertEqual(result['Average F1 Score'], 0.0)\n",
        "\n",
        "# Run the extended test suite\n",
        "unittest.TextTestRunner().run(unittest.TestLoader().loadTestsFromTestCase(TestEvaluateEncoderInferenceExtended))"
      ],
      "metadata": {
        "cellView": "form",
        "id": "0das-vNh6dj7"
      },
      "execution_count": null,
      "outputs": []
    },
    {
      "cell_type": "code",
      "source": [
        "# Let's calculate the evaluation metrics (accuracy and F1 score) for Roberta and Finbert!\n",
        "roberta_results = evaluate_encoder_inference(roberta_infer, phrasebank_split['test'])\n",
        "finbert_results = evaluate_encoder_inference(finbert_infer, phrasebank_split['test'])"
      ],
      "metadata": {
        "id": "pvYlsArMnLSv"
      },
      "execution_count": null,
      "outputs": []
    },
    {
      "cell_type": "code",
      "source": [
        "# Prepare the ASCII table\n",
        "header = \"| Model Name  | Average Accuracy | Average F1 Score |\"\n",
        "separator = \"-\" * len(header)\n",
        "\n",
        "# Print the ASCII table\n",
        "print(separator)\n",
        "print(header)\n",
        "print(separator)\n",
        "print(f\"|   Roberta   | {roberta_results['Average Accuracy']:<16.4f} | {roberta_results['Average F1 Score']:<16.4f} |\")\n",
        "print(separator)\n",
        "print(f\"|   Finbert   | {finbert_results['Average Accuracy']:<16.4f} | {finbert_results['Average F1 Score']:<16.4f} |\")\n",
        "print(separator)"
      ],
      "metadata": {
        "id": "H46pt6mumfgd"
      },
      "execution_count": null,
      "outputs": []
    },
    {
      "cell_type": "markdown",
      "source": [
        "Now, let's do the same for the decoder model!  It's a little more complex because we need to generate the n-shot examples first."
      ],
      "metadata": {
        "id": "0yY1E3BQo4Wl"
      }
    },
    {
      "cell_type": "code",
      "source": [
        "def evaluate_decoder_inference(model_infer: Callable[[str], int], test_dataset: iter, train_set: List[Dict[str, Any]], n: int, prompt: str) -> dict:\n",
        "    \"\"\"\n",
        "    Evaluate the performance of a decoder model on a test dataset, with progress bar and n-shot learning.\n",
        "\n",
        "    Args:\n",
        "        model_infer: The model inference function that takes text as input and returns an integer label.\n",
        "        test_dataset: A generator or iterable containing test samples. Each sample is a dict with keys \"label\" and \"sentence\".\n",
        "        train_set: The training set used for generating n-shot examples.\n",
        "        n: The number of training examples to use for n-shot learning.\n",
        "        prompt: The prompt text to be used for the n-shot examples.\n",
        "\n",
        "    Returns:\n",
        "        A dictionary containing the average accuracy and F1 score.\n",
        "    \"\"\"\n",
        "\n",
        "    ########################\n",
        "    # START YOUR CODE HERE #\n",
        "    ########################\n",
        "    # REPLACE None WITH YOUR CODE\n",
        "\n",
        "    # Initialize true and predicted labels to empty Python lists\n",
        "    true_labels = None\n",
        "    predicted_labels = None\n",
        "\n",
        "    # This time, we need to use our generator function\n",
        "    # generate_n_shot_examples()\n",
        "    # Loaded with the prompt, train and test datasets, and n\n",
        "    n_shot_gen = None\n",
        "\n",
        "    for input_str, true_label in tqdm(n_shot_gen, total=len(test_dataset), desc=\"Evaluating\"):\n",
        "        # Calculate the predicted label from the n_shot_example\n",
        "        predicted_label = None\n",
        "\n",
        "        # Add the true and predicted labels to the true and predicted labels arrays\n",
        "        true_labels.append(None)\n",
        "        predicted_labels.append(None)\n",
        "\n",
        "    # Calculate accuracy and F1 score using sklearn's accuracy_score() and f1_score() functions\n",
        "    avg_accuracy = None\n",
        "    avg_f1 = None\n",
        "\n",
        "    #########################\n",
        "    # FINISH YOUR CODE HERE #\n",
        "    #########################\n",
        "\n",
        "    return {'Average Accuracy': avg_accuracy, 'Average F1 Score': avg_f1}"
      ],
      "metadata": {
        "id": "c-KLFxz2oSJf"
      },
      "execution_count": null,
      "outputs": []
    },
    {
      "cell_type": "code",
      "source": [
        "# @title Test Your Code!\n",
        "class TestEvaluateDecoderInference(unittest.TestCase):\n",
        "\n",
        "    def test_all_correct_predictions(self):\n",
        "        \"\"\"\n",
        "        Test when all predictions are correct.\n",
        "        \"\"\"\n",
        "        mock_model_infer = Mock()\n",
        "        mock_model_infer.side_effect = ['negative', 'neutral', 'positive', 'neutral', 'positive']  # All predictions are correct\n",
        "\n",
        "        mock_test_dataset = [\n",
        "            {'label': 0, 'sentence': 'This is bad.'},\n",
        "            {'label': 1, 'sentence': 'This is okay.'},\n",
        "            {'label': 2, 'sentence': 'This is great.'},\n",
        "            {'label': 1, 'sentence': 'This is fine.'},\n",
        "            {'label': 0, 'sentence': 'This is terrible.'}\n",
        "        ]\n",
        "\n",
        "        mock_train_set = [\n",
        "            {'label': 0, 'sentence': 'Not good'},\n",
        "            {'label': 1, 'sentence': 'So so'},\n",
        "            {'label': 2, 'sentence': 'Excellent'},\n",
        "            {'label': 1, 'sentence': 'Average'},\n",
        "            {'label': 0, 'sentence': 'Bad'}\n",
        "        ]\n",
        "\n",
        "        prompt = \"Classify the sentiment (negative, neutral, positive) of the following statement\"\n",
        "\n",
        "        result = evaluate_decoder_inference(mock_model_infer, mock_test_dataset, mock_train_set, 2, prompt)\n",
        "        self.assertEqual(result['Average Accuracy'], 1.0)\n",
        "        self.assertEqual(result['Average F1 Score'], 1.0)\n",
        "\n",
        "    def test_some_incorrect_predictions(self):\n",
        "        \"\"\"\n",
        "        Test when some predictions are incorrect.\n",
        "        \"\"\"\n",
        "        mock_model_infer = Mock()\n",
        "        mock_model_infer.side_effect = ['negative', 'neutral', 'negative', 'neutral', 'positive']  # Some predictions are incorrect\n",
        "\n",
        "        mock_test_dataset = [\n",
        "            {'label': 0, 'sentence': 'This is bad.'},\n",
        "            {'label': 1, 'sentence': 'This is okay.'},\n",
        "            {'label': 2, 'sentence': 'This is great.'},\n",
        "            {'label': 1, 'sentence': 'This is fine.'},\n",
        "            {'label': 0, 'sentence': 'This is terrible.'}\n",
        "        ]\n",
        "\n",
        "        mock_train_set = [\n",
        "            {'label': 0, 'sentence': 'Not good'},\n",
        "            {'label': 1, 'sentence': 'So so'},\n",
        "            {'label': 2, 'sentence': 'Excellent'},\n",
        "            {'label': 1, 'sentence': 'Average'},\n",
        "            {'label': 0, 'sentence': 'Bad'},\n",
        "            {'label': 0, 'sentence': 'Not good'},\n",
        "            {'label': 1, 'sentence': 'So so'},\n",
        "            {'label': 2, 'sentence': 'Excellent'},\n",
        "            {'label': 1, 'sentence': 'Average'},\n",
        "            {'label': 0, 'sentence': 'Bad'}\n",
        "        ]\n",
        "\n",
        "        prompt = \"Classify the sentiment (negative, neutral, positive) of the following statement\"\n",
        "\n",
        "        result = evaluate_decoder_inference(mock_model_infer, mock_test_dataset, mock_train_set, 2, prompt)\n",
        "        self.assertLess(result['Average Accuracy'], 1.0)\n",
        "        self.assertLess(result['Average F1 Score'], 1.0)\n",
        "\n",
        "# Run the extended test suite for evaluate_decoder_inference\n",
        "unittest.TextTestRunner().run(unittest.TestLoader().loadTestsFromTestCase(TestEvaluateDecoderInference))"
      ],
      "metadata": {
        "cellView": "form",
        "id": "K8O_7gSA-lcM"
      },
      "execution_count": null,
      "outputs": []
    },
    {
      "cell_type": "code",
      "source": [
        "# Let's calculate the evaluation metrics (accuracy and F1 score) for Phi-1.5 (0-shot, 1-shot, 2-shot, and 3-shot!\n",
        "# Increasing the size of the test set will increase the time required for inference.\n",
        "num_test_samples = 100\n",
        "decoder_zero_results = evaluate_decoder_inference(decoder_infer, phrasebank_split['test'].select(range(num_test_samples)), phrasebank_split['train'], 0, \"Classify the sentiment (negative, neutral, positive) of the following statement\")\n",
        "decoder_one_results = evaluate_decoder_inference(decoder_infer, phrasebank_split['test'].select(range(num_test_samples)), phrasebank_split['train'], 1, \"Classify the sentiment (negative, neutral, positive) of the following statement\")\n",
        "decoder_two_results = evaluate_decoder_inference(decoder_infer, phrasebank_split['test'].select(range(num_test_samples)), phrasebank_split['train'], 2, \"Classify the sentiment (negative, neutral, positive) of the following statement\")\n",
        "decoder_three_results = evaluate_decoder_inference(decoder_infer, phrasebank_split['test'].select(range(num_test_samples)), phrasebank_split['train'], 3, \"Classify the sentiment (negative, neutral, positive) of the following statement\")"
      ],
      "metadata": {
        "id": "OT-jO52au6y0"
      },
      "execution_count": null,
      "outputs": []
    },
    {
      "cell_type": "code",
      "source": [
        "# Prepare the ASCII table\n",
        "header = \"| Model Name  | Average Accuracy | Average F1 Score |\"\n",
        "separator = \"-\" * len(header)\n",
        "\n",
        "# Print the ASCII table\n",
        "print(separator)\n",
        "print(header)\n",
        "print(separator)\n",
        "print(f\"| Decoder (0-shot)| {decoder_zero_results['Average Accuracy']:<16.4f} | {decoder_zero_results['Average F1 Score']:<16.4f} |\")\n",
        "print(separator)\n",
        "print(f\"| Decoder (1-shot)| {decoder_one_results['Average Accuracy']:<16.4f} | {decoder_one_results['Average F1 Score']:<16.4f} |\")\n",
        "print(separator)\n",
        "print(f\"| Decoder (2-shot)| {decoder_two_results['Average Accuracy']:<16.4f} | {decoder_two_results['Average F1 Score']:<16.4f} |\")\n",
        "print(separator)\n",
        "print(f\"| Decoder (3-shot)| {decoder_three_results['Average Accuracy']:<16.4f} | {decoder_three_results['Average F1 Score']:<16.4f} |\")\n",
        "print(separator)"
      ],
      "metadata": {
        "id": "BMiM7PAKoSLd"
      },
      "execution_count": null,
      "outputs": []
    },
    {
      "cell_type": "code",
      "source": [
        "# Data preparation\n",
        "n_values = [0, 1, 2, 3]  # n-values for Phi-1.5\n",
        "decoder_accuracies = [\n",
        "    decoder_zero_results['Average Accuracy'],\n",
        "    decoder_one_results['Average Accuracy'],\n",
        "    decoder_two_results['Average Accuracy'],\n",
        "    decoder_three_results['Average Accuracy']\n",
        "]\n",
        "roberta_accuracy = roberta_results['Average Accuracy']\n",
        "finbert_accuracy = finbert_results['Average Accuracy']\n",
        "\n",
        "# Plotting\n",
        "plt.figure(figsize=(10, 6))\n",
        "\n",
        "# Plot Phi-1.5 accuracies\n",
        "plt.plot(n_values, decoder_accuracies, marker='o', linestyle='-', label='Phi-1.5', color='b')\n",
        "\n",
        "# Plot horizontal lines for Roberta and Finbert\n",
        "plt.axhline(y=roberta_accuracy, color='r', linestyle='--', label='Roberta')\n",
        "plt.axhline(y=finbert_accuracy, color='g', linestyle='--', label='Finbert')\n",
        "\n",
        "# Adding labels, title, and legend\n",
        "plt.xlabel('Number of Shots (n)')\n",
        "plt.ylabel('Average Accuracy')\n",
        "plt.title('Model Accuracy Comparison with n-shot Learning')\n",
        "plt.xticks(np.arange(min(n_values), max(n_values)+1, 1))\n",
        "plt.yticks(np.arange(0, 1.1, 0.1))\n",
        "plt.grid(True)\n",
        "plt.legend()\n",
        "\n",
        "# Show the plot\n",
        "plt.show()\n"
      ],
      "metadata": {
        "id": "Ryfr4bumoSPS"
      },
      "execution_count": null,
      "outputs": []
    },
    {
      "cell_type": "markdown",
      "source": [
        "# Evaluation Results and Discussion\n",
        "\n",
        "## Key Insights:\n",
        "\n",
        "1. **Finbert's Strength**: Among the encoder models, Finbert substantially outperformed Roberta. This could be due to Finbert's specialized training on financial text, making it particularly well-suited for our dataset.\n",
        "\n",
        "2. **Adaptability of Decoder Models**: Phi-1.5 performed poorly in a zero-shot setting but showed a remarkable ability to adapt and improve its performance with just a single example (one-shot).\n",
        "\n",
        "3. **Diminishing Returns**: For Phi-1.5, we observed that adding more examples (two-shot and three-shot) did not significantly improve the performance over the one-shot case.\n",
        "\n",
        "4. **Specialization vs. Flexibility**: While Finbert showed excellent performance, it's specialized for financial text sentiment analysis. Phi-1.5, on the other hand, demonstrated the capability to adapt to the task with minimal examples.\n",
        "\n",
        "This evaluation showcases the strengths and weaknesses of both encoder and decoder models in a few-shot learning scenario and provides valuable insights into choosing the right model for your NLP tasks.\n"
      ],
      "metadata": {
        "id": "waUUepAD4tYX"
      }
    },
    {
      "cell_type": "markdown",
      "source": [
        "# OpenAI API (OPTIONAL)\n",
        "\n",
        "**PLEASE NOTE THAT THE FOLLOWING SECTION IS OPTIONAL AND WILL COST UNDER $1 IN OPENAI CREDITS, AS WELL AS TAKE A FEW MINUTES TO RUN**\n",
        "\n",
        "We will explore using OpenAI's GPT-3.5 model to perform the same tasks as the open source HuggingFace models above.  Once you have signed up for OpenAI and generated an API secret key, continue with the rest fo the assignment!"
      ],
      "metadata": {
        "id": "MdLFneGImhZa"
      }
    },
    {
      "cell_type": "code",
      "source": [
        "# Initialize OpenAI API client\n",
        "if openai.api_key is None:\n",
        "    # Prompt for the API key\n",
        "    api_key = getpass(\"Enter your OpenAI API key: \")\n",
        "\n",
        "    # Assign the API key to your application-specific variable\n",
        "    openai.api_key = api_key"
      ],
      "metadata": {
        "id": "HtDMbgJimgfQ"
      },
      "execution_count": null,
      "outputs": []
    },
    {
      "cell_type": "markdown",
      "source": [
        "Before working on the next section of code, please take a minute to play with the OpenAI chat Playground.  We will be using the GPT-3.5 Turbo Chat API.  Once you have interacted a little with the model, click the View Code button to see how it works!  Try it with one of the example few-shot samples from earlier like this:\n",
        "\n",
        "![Image description](https://mrplantsdropbox.blob.core.windows.net/dropbox/openai_screenshot.jpg)\n",
        "\n",
        "Now that you've had a chance to practice with a GUI version of the API, let's create an inference function for OpenAI's GPT-3.5 Turbo."
      ],
      "metadata": {
        "id": "yWoJxUmLSdIl"
      }
    },
    {
      "cell_type": "code",
      "source": [
        "from typing import Callable\n",
        "\n",
        "def create_gpt3_infer(model_name: str) -> Callable[[str], str]:\n",
        "    \"\"\"\n",
        "    Creates an inference function for a GPT-3.5 Turbo model.\n",
        "\n",
        "    Args:\n",
        "        model_name: The name of the GPT-3.5 Turbo model to use for inference.\n",
        "\n",
        "    Returns:\n",
        "        A function that takes a sentence as input and returns a predicted label as an integer.\n",
        "    \"\"\"\n",
        "\n",
        "    def gpt3_infer(text: str) -> str:\n",
        "        \"\"\"\n",
        "        Runs inference on a specified GPT-3.5 Turbo model via the OpenAI API\n",
        "        and classifies the sentiment of a given text.\n",
        "\n",
        "        The function communicates with the GPT-3.5 Turbo model via the OpenAI API and\n",
        "        obtains a response based on the input text. The model may return out-of-range\n",
        "        responses (i.e., not 0, 1, or 2), in which case this function returns -1.\n",
        "\n",
        "        Args:\n",
        "            text: The sentence to classify.\n",
        "\n",
        "        Returns:\n",
        "            The predicted label as an string.\n",
        "        \"\"\"\n",
        "\n",
        "        ########################\n",
        "        # START YOUR CODE HERE #\n",
        "        ########################\n",
        "        # REPLACE None WITH YOUR CODE\n",
        "\n",
        "        # Make an API call to OpenAI for inference\n",
        "        response = openai.ChatCompletion.create(\n",
        "            model=model_name,\n",
        "            messages=None\n",
        "            temperature=1,\n",
        "            max_tokens=256,\n",
        "            top_p=1,\n",
        "            frequency_penalty=0,\n",
        "            presence_penalty=0\n",
        "        )\n",
        "\n",
        "        # Extract the response content from the API response\n",
        "        response_content = None\n",
        "\n",
        "        #########################\n",
        "        # FINISH YOUR CODE HERE #\n",
        "        #########################\n",
        "\n",
        "        return response_content\n",
        "\n",
        "    return gpt3_infer\n",
        "\n",
        "# Initialize the GPT-3.5 Turbo inference function with a model name\n",
        "gpt3_infer = create_gpt3_infer(\"gpt-3.5-turbo\")"
      ],
      "metadata": {
        "id": "xa_KGGtjJgEC"
      },
      "execution_count": null,
      "outputs": []
    },
    {
      "cell_type": "code",
      "source": [
        "# @title Test Your Code!\n",
        "class TestCreateGpt3InferIntegration(unittest.TestCase):\n",
        "\n",
        "    def test_create_gpt3_infer_example_sentence(self):\n",
        "        \"\"\"\n",
        "        Integration test for create_gpt3_infer using a provided example sentence.\n",
        "        Calls the API multiple times and takes the plurality result.\n",
        "        \"\"\"\n",
        "        # Initialize the inference function\n",
        "        gpt3_infer = create_gpt3_infer(\"gpt-3.5-turbo\")\n",
        "\n",
        "        # Provided example text\n",
        "        text = '''Classify the sentiment (negative, neutral, positive) of the following statement:\n",
        "        [Finnish meat company Atria can no longer promise a sufficient amount of domestic beef to its customers .]\n",
        "        Reponse: negative\n",
        "        [Finnish Raisio ( Diagnostics ) is launching new DNA-based quick tests to ensure the safety of food .]\n",
        "        Reponse: positive\n",
        "        [Export declined by 6 percent to 16.4 million liters]\n",
        "        Reponse: '''\n",
        "\n",
        "        # Run the inference function multiple times and collect results\n",
        "        num_trials = 10  # Number of times to call the API\n",
        "        results = [gpt3_infer(text) for _ in range(num_trials)]\n",
        "\n",
        "        # Find the most common result\n",
        "        counter = Counter(results)\n",
        "        most_common_result, _ = counter.most_common(1)[0]\n",
        "\n",
        "        # Check that the most common result is negative\n",
        "        self.assertEqual(most_common_result, 'negative')\n",
        "\n",
        "\n",
        "unittest.TextTestRunner().run(unittest.TestLoader().loadTestsFromTestCase(TestCreateGpt3InferIntegration))"
      ],
      "metadata": {
        "cellView": "form",
        "id": "meL5CxWQYC67"
      },
      "execution_count": null,
      "outputs": []
    },
    {
      "cell_type": "code",
      "source": [
        "# Note that the network connection will slow down these requests\n",
        "# To save time, let's only look at 20 of the test samples.\n",
        "# You can increase this to get a more precise value for the model's test set accuracy\n",
        "num_test_samples = 50"
      ],
      "metadata": {
        "id": "eUJzdKvwQrEx"
      },
      "execution_count": null,
      "outputs": []
    },
    {
      "cell_type": "code",
      "source": [
        "gpt3_0shot_results = evaluate_decoder_inference(gpt3_infer, phrasebank_split['test'].select(range(num_test_samples)), phrasebank_split['train'], 0, \"Classify the sentiment (negative, neutral, positive) of the following statement\")"
      ],
      "metadata": {
        "id": "hgovWXjjo-5J"
      },
      "execution_count": null,
      "outputs": []
    },
    {
      "cell_type": "code",
      "source": [
        "gpt3_1shot_results = evaluate_decoder_inference(gpt3_infer, phrasebank_split['test'].select(range(num_test_samples)), phrasebank_split['train'], 1, \"Classify the sentiment (negative, neutral, positive) of the following statement\")"
      ],
      "metadata": {
        "id": "74YVfxmpzqfU"
      },
      "execution_count": null,
      "outputs": []
    },
    {
      "cell_type": "code",
      "source": [
        "gpt3_2shot_results = evaluate_decoder_inference(gpt3_infer, phrasebank_split['test'].select(range(num_test_samples)), phrasebank_split['train'], 2, \"Classify the sentiment (negative, neutral, positive) of the following statement\")"
      ],
      "metadata": {
        "id": "qUiXYd4Yzqrr"
      },
      "execution_count": null,
      "outputs": []
    },
    {
      "cell_type": "code",
      "source": [
        "gpt3_3shot_results = evaluate_decoder_inference(gpt3_infer, phrasebank_split['test'].select(range(num_test_samples)), phrasebank_split['train'], 3, \"Classify the sentiment (negative, neutral, positive) of the following statement\")"
      ],
      "metadata": {
        "id": "vCTVDgyRzqw2"
      },
      "execution_count": null,
      "outputs": []
    },
    {
      "cell_type": "code",
      "source": [
        "# Prepare the ASCII table\n",
        "header = \"| Model Name  | Average Accuracy | Average F1 Score |\"\n",
        "separator = \"-\" * len(header)\n",
        "\n",
        "# Print the ASCII table\n",
        "print(separator)\n",
        "print(header)\n",
        "print(separator)\n",
        "print(f\"|GPT-3.5 (n=0)| {gpt3_0shot_results['Average Accuracy']:<16.4f} | {gpt3_0shot_results['Average F1 Score']:<16.4f} |\")\n",
        "print(separator)\n",
        "print(f\"|GPT-3.5 (n=1)| {gpt3_1shot_results['Average Accuracy']:<16.4f} | {gpt3_1shot_results['Average F1 Score']:<16.4f} |\")\n",
        "print(separator)\n",
        "print(f\"|GPT-3.5 (n=2)| {gpt3_2shot_results['Average Accuracy']:<16.4f} | {gpt3_2shot_results['Average F1 Score']:<16.4f} |\")\n",
        "print(separator)\n",
        "print(f\"|GPT-3.5 (n=3)| {gpt3_3shot_results['Average Accuracy']:<16.4f} | {gpt3_3shot_results['Average F1 Score']:<16.4f} |\")\n",
        "print(separator)"
      ],
      "metadata": {
        "id": "k2x-n3oHqQiz"
      },
      "execution_count": null,
      "outputs": []
    },
    {
      "cell_type": "code",
      "source": [
        "# Data preparation\n",
        "n_values = [0, 1, 2, 3]  # n-values for GPT-3.5\n",
        "gpt3_accuracies = [\n",
        "    gpt3_0shot_results['Average Accuracy'],\n",
        "    gpt3_1shot_results['Average Accuracy'],\n",
        "    gpt3_2shot_results['Average Accuracy'],\n",
        "    gpt3_3shot_results['Average Accuracy']\n",
        "]\n",
        "roberta_accuracy = roberta_results['Average Accuracy']\n",
        "finbert_accuracy = finbert_results['Average Accuracy']\n",
        "\n",
        "# Plotting\n",
        "plt.figure(figsize=(10, 6))\n",
        "\n",
        "# Plot GPT-3.5 accuracies\n",
        "plt.plot(n_values, gpt3_accuracies, marker='o', linestyle='-', label='GPT-3.5', color='orange')\n",
        "\n",
        "# Plot Phi-1.5 accuracies\n",
        "plt.plot(n_values, decoder_accuracies, marker='o', linestyle='-', label='Phi-1.5', color='b')\n",
        "\n",
        "# Plot horizontal lines for Roberta and Finbert\n",
        "plt.axhline(y=roberta_accuracy, color='r', linestyle='--', label='Roberta')\n",
        "plt.axhline(y=finbert_accuracy, color='g', linestyle='--', label='Finbert')\n",
        "\n",
        "# Adding labels, title, and legend\n",
        "plt.xlabel('Number of Shots (n)')\n",
        "plt.ylabel('Average Accuracy')\n",
        "plt.title('Model Accuracy Comparison with n-shot Learning')\n",
        "plt.xticks(np.arange(min(n_values), max(n_values)+1, 1))\n",
        "plt.yticks(np.arange(0, 1.1, 0.1))\n",
        "plt.grid(True)\n",
        "plt.legend()\n",
        "\n",
        "# Show the plot\n",
        "plt.show()\n"
      ],
      "metadata": {
        "id": "oPW_u-7Kz5cN"
      },
      "execution_count": null,
      "outputs": []
    },
    {
      "cell_type": "markdown",
      "source": [
        "# Fine-Tuning with GPT-3.5 Turbo (OPTIONAL)\n",
        "\n",
        "**PLEASE NOTE THAT THIS OPTIONAL FINE TUNING SECTION WILL COST AROUND $7 IN OPENAI CREDITS, AND TAKE A FEW HOURS TO RUN BASED ON THE OPENAI QUEUE**\n",
        "\n",
        "Note also that this section does not have any active coding exercises.  The cells will all run as-written and showcase how to fine-tune using the OpenAI API.\n",
        "\n",
        "In the previous sections, we explored how different models perform on sentiment classification tasks, using both encoder models like Roberta and Finbert as well as decoder models like GPT-3.5 Turbo. We also investigated the impact of n-shot learning on the performance of these models.\n",
        "\n",
        "Now, we're going to take it a step further by fine-tuning GPT-3.5 Turbo on our specific dataset. Fine-tuning allows us to adapt a pre-trained model to better perform on the task at hand, potentially increasing its accuracy and F1 score.\n",
        "\n",
        "In this section, you'll learn how to:\n",
        "\n",
        "1. Prepare your dataset in a format suitable for fine-tuning with OpenAI's API.\n",
        "2. Upload this dataset to OpenAI.\n",
        "3. Initiate and monitor the fine-tuning process.\n",
        "\n",
        "This will give you a comprehensive understanding of how fine-tuning can affect model performance and when it might be advantageous to use it.\n",
        "\n",
        "Before getting started, take a look at [OpenAI's fine-tuning documentation](https://platform.openai.com/docs/guides/fine-tuning), which describes the steps to fine-tuning their models.  We will focus on fine-tuning the GPT-3.5 Turbo model.\n"
      ],
      "metadata": {
        "id": "IMdtYxEvRAH6"
      }
    },
    {
      "cell_type": "markdown",
      "source": [
        "## Prepare dataset for OpenAI API\n",
        "OpenAI accepts fine-tuning data as jsonl files (a format that lists a json object on each line).  We will prepare such a file with zero-shot examples only, to save on tokens."
      ],
      "metadata": {
        "id": "PFmYxrITUJwA"
      }
    },
    {
      "cell_type": "code",
      "source": [
        "def create_openai_conversation(sample: dict) -> dict:\n",
        "    \"\"\"Converts a sample to the OpenAI conversation format.\n",
        "\n",
        "    Args:\n",
        "        sample: A dictionary containing 'sentence' and 'label'.\n",
        "\n",
        "    Returns:\n",
        "        A dictionary in the OpenAI conversation format.\n",
        "    \"\"\"\n",
        "    return {\n",
        "        \"messages\": [\n",
        "            {\"role\": \"user\", \"content\": sample['sentence']},\n",
        "            {\"role\": \"assistant\", \"content\": str(sample['label'])}\n",
        "        ]\n",
        "    }\n",
        "\n",
        "def write_training_file_to_disk(samples: iter, filename: str) -> None:\n",
        "    \"\"\"Writes the training samples to a file in OpenAI conversation format.\n",
        "\n",
        "    Args:\n",
        "        samples: An iterator of samples.\n",
        "        filename: The name of the file to write the samples to.\n",
        "    \"\"\"\n",
        "    with open(filename, 'w') as f:\n",
        "        for sample in samples:\n",
        "            conversation = create_openai_conversation(sample)\n",
        "            f.write(json.dumps(conversation) + '\\n')\n",
        "\n",
        "# Specify the number of samples per category\n",
        "sample_count_per_category = 100\n",
        "\n",
        "# Specify the path for the output JSONL file\n",
        "file_path = 'train.jsonl'\n",
        "\n",
        "# Generate the JSONL file\n",
        "write_training_file_to_disk(phrasebank_split['train'], file_path)"
      ],
      "metadata": {
        "id": "Uz1kNA0eSRJz"
      },
      "execution_count": null,
      "outputs": []
    },
    {
      "cell_type": "markdown",
      "source": [
        "## Initiate Fine Tuning\n",
        "Now that the training file is ready, it's time to upload the data and then initiate a training job.  Once you have the training job initiated, you can monitor its progress using the openai API like this:\n",
        "\n",
        "```python\n",
        "# List the most recent 10 events from a fine-tuning job\n",
        "openai.FineTuningJob.list_events(id=fine_tune_response['id'], limit=10)\n",
        "```\n",
        "Or you can watch the progress using the [OpenAI web portal](https://platform.openai.com/finetune).\n",
        "\n",
        "**Note that it could take over an hour to fine-tune**"
      ],
      "metadata": {
        "id": "SOR5QmqTWpyz"
      }
    },
    {
      "cell_type": "code",
      "source": [
        "def initiate_fine_tuning(filename: str, model_name: str) -> dict:\n",
        "    \"\"\"Initiates the fine-tuning process with OpenAI.\n",
        "\n",
        "    Args:\n",
        "        filename: The name of the training file.\n",
        "        model_name: The name of the model to be fine-tuned.\n",
        "\n",
        "    Returns:\n",
        "        The response from the fine-tuning API call.\n",
        "    \"\"\"\n",
        "    with open(filename, 'rb') as f:\n",
        "        file_upload = openai.File.create(file=f, purpose='fine-tune')\n",
        "\n",
        "    fine_tuning_job = openai.FineTuningJob.create(\n",
        "        training_file=file_upload['id'],\n",
        "        model=model_name\n",
        "    )\n",
        "\n",
        "    return fine_tuning_job\n",
        "\n",
        "# Initiate fine-tuning\n",
        "fine_tuning_response = initiate_fine_tuning('train.jsonl', 'gpt-3.5-turbo')\n",
        "print(f'Fine Tuning job created! (job id: {fine_tuning_response[\"id\"]})')"
      ],
      "metadata": {
        "id": "Q-NiZOnRWmvz"
      },
      "execution_count": null,
      "outputs": []
    },
    {
      "cell_type": "code",
      "source": [
        "# List up to 10 events from a fine-tuning job\n",
        "openai.FineTuningJob.list_events(id=fine_tuning_response['id'], limit=10)"
      ],
      "metadata": {
        "id": "RyfPpaPdYcTQ"
      },
      "execution_count": null,
      "outputs": []
    },
    {
      "cell_type": "code",
      "source": [
        "# Retrieve the state of a fine-tune\n",
        "openai.FineTuningJob.retrieve(fine_tuning_response['id'])"
      ],
      "metadata": {
        "id": "1bwgMLbmZNo5"
      },
      "execution_count": null,
      "outputs": []
    },
    {
      "cell_type": "code",
      "source": [
        "# Once the fine-tune is complete, you can retrieve the name of the model\n",
        "status = openai.FineTuningJob.retrieve(fine_tuning_response['id'])\n",
        "if status['status'] == 'succeeded':\n",
        "    print('Fine-tuned model name: ' + status['fine_tuned_model'])\n",
        "    fine_tuned_model = status['fine_tuned_model']\n",
        "else:\n",
        "    print('Fine tune not complete!')"
      ],
      "metadata": {
        "id": "0QKb99e3ZS4U"
      },
      "execution_count": null,
      "outputs": []
    },
    {
      "cell_type": "code",
      "source": [
        "# Once the model is available, we can use the same inference generator as before!\n",
        "# All we have to do is add the new model name\n",
        "gpt3_fine_tune_infer = create_gpt3_infer(fine_tuned_model)"
      ],
      "metadata": {
        "id": "JsdZ7PP9atja"
      },
      "execution_count": null,
      "outputs": []
    },
    {
      "cell_type": "code",
      "source": [
        "gpt3_fine_tune_0shot_results = evaluate_decoder_inference(gpt3_fine_tune_infer, phrasebank_split['test'].select(range(num_test_samples)), phrasebank_split['train'], 0, \"Classify the sentiment (negative, neutral, positive) of the following statement\")"
      ],
      "metadata": {
        "id": "biQQtESUbXXA"
      },
      "execution_count": null,
      "outputs": []
    },
    {
      "cell_type": "code",
      "source": [
        "gpt3_fine_tune_1shot_results = evaluate_decoder_inference(gpt3_fine_tune_infer, phrasebank_split['test'].select(range(num_test_samples)), phrasebank_split['train'], 1, \"Classify the sentiment (negative, neutral, positive) of the following statement\")"
      ],
      "metadata": {
        "id": "btU0M6lpbwjz"
      },
      "execution_count": null,
      "outputs": []
    },
    {
      "cell_type": "code",
      "source": [
        "gpt3_fine_tune_2shot_results = evaluate_decoder_inference(gpt3_fine_tune_infer, phrasebank_split['test'].select(range(num_test_samples)), phrasebank_split['train'], 2, \"Classify the sentiment (negative, neutral, positive) of the following statement\")"
      ],
      "metadata": {
        "id": "E-BWXkMXbwpQ"
      },
      "execution_count": null,
      "outputs": []
    },
    {
      "cell_type": "code",
      "source": [
        "gpt3_fine_tune_3shot_results = evaluate_decoder_inference(gpt3_fine_tune_infer, phrasebank_split['test'].select(range(num_test_samples)), phrasebank_split['train'], 3, \"Classify the sentiment (negative, neutral, positive) of the following statement\")"
      ],
      "metadata": {
        "id": "86yG8n9Sbwue"
      },
      "execution_count": null,
      "outputs": []
    },
    {
      "cell_type": "code",
      "source": [
        "# Prepare the ASCII table\n",
        "header = \"|  Model Name    | Average Accuracy | Average F1 Score |\"\n",
        "separator = \"-\" * len(header)\n",
        "\n",
        "# Print the ASCII table\n",
        "print(separator)\n",
        "print(header)\n",
        "print(separator)\n",
        "print(f\"|GPT-3.5 FT (n=0)| {gpt3_fine_tune_0shot_results['Average Accuracy']:<16.4f} | {gpt3_fine_tune_0shot_results['Average F1 Score']:<16.4f} |\")\n",
        "print(separator)\n",
        "print(f\"|GPT-3.5 FT (n=1)| {gpt3_fine_tune_1shot_results['Average Accuracy']:<16.4f} | {gpt3_fine_tune_1shot_results['Average F1 Score']:<16.4f} |\")\n",
        "print(separator)\n",
        "print(f\"|GPT-3.5 FT (n=2)| {gpt3_fine_tune_2shot_results['Average Accuracy']:<16.4f} | {gpt3_fine_tune_2shot_results['Average F1 Score']:<16.4f} |\")\n",
        "print(separator)\n",
        "print(f\"|GPT-3.5 FT (n=3)| {gpt3_fine_tune_3shot_results['Average Accuracy']:<16.4f} | {gpt3_fine_tune_3shot_results['Average F1 Score']:<16.4f} |\")\n",
        "print(separator)"
      ],
      "metadata": {
        "id": "s_0Y-aerec7Q"
      },
      "execution_count": null,
      "outputs": []
    },
    {
      "cell_type": "code",
      "source": [
        "import matplotlib.pyplot as plt\n",
        "import numpy as np\n",
        "\n",
        "# Data preparation\n",
        "n_values = [0, 1, 2, 3]  # n-values for GPT-3.5\n",
        "gpt3_base_accuracies = [\n",
        "    gpt3_0shot_results['Average Accuracy'],\n",
        "    gpt3_1shot_results['Average Accuracy'],\n",
        "    gpt3_2shot_results['Average Accuracy'],\n",
        "    gpt3_3shot_results['Average Accuracy']\n",
        "]\n",
        "gpt3_finetuned_accuracies = [\n",
        "    gpt3_fine_tune_0shot_results['Average Accuracy'],\n",
        "    gpt3_fine_tune_1shot_results['Average Accuracy'],\n",
        "    gpt3_fine_tune_2shot_results['Average Accuracy'],\n",
        "    gpt3_fine_tune_3shot_results['Average Accuracy']\n",
        "]\n",
        "roberta_accuracy = roberta_results['Average Accuracy']\n",
        "finbert_accuracy = finbert_results['Average Accuracy']\n",
        "\n",
        "# Plotting\n",
        "plt.figure(figsize=(12, 8))\n",
        "\n",
        "# Plot GPT-3.5 base accuracies\n",
        "plt.plot(n_values, gpt3_base_accuracies, marker='o', linestyle='-', label='GPT-3.5 Base', color='orange')\n",
        "\n",
        "# Plot GPT-3.5 fine-tuned accuracies\n",
        "plt.plot(n_values, gpt3_finetuned_accuracies, marker='x', linestyle='-', label='GPT-3.5 Fine-Tuned', color='m')\n",
        "\n",
        "# Plot Phi-1.5 accuracies\n",
        "plt.plot(n_values, decoder_accuracies, marker='o', linestyle='-', label='Phi-1.5', color='b')\n",
        "\n",
        "# Plot horizontal lines for Roberta and Finbert\n",
        "plt.axhline(y=roberta_accuracy, color='r', linestyle='--', label='Roberta')\n",
        "plt.axhline(y=finbert_accuracy, color='g', linestyle='--', label='Finbert')\n",
        "\n",
        "# Adding labels, title, and legend\n",
        "plt.xlabel('Number of Shots (n)')\n",
        "plt.ylabel('Average Accuracy')\n",
        "plt.title('Model Accuracy Comparison with n-shot Learning')\n",
        "plt.xticks(np.arange(min(n_values), max(n_values)+1, 1))\n",
        "plt.yticks(np.arange(0, 1.1, 0.1))\n",
        "plt.grid(True)\n",
        "plt.legend()\n",
        "\n",
        "# Show the plot\n",
        "plt.show()"
      ],
      "metadata": {
        "id": "xrEAgp9yuwgI"
      },
      "execution_count": null,
      "outputs": []
    },
    {
      "cell_type": "markdown",
      "source": [
        "# Note:\n",
        "### Please note that the time (1-2 hours) required for OpenAI to fine tune GPT-3.5 Turbo will likely cause this notebook’s session to expire. Because this plot requires both the fine tuned model as well as data from earlier in the notebook, you will be required to rerun the setup and inference cells again to generate the plot. See below for the expected output!\n",
        "\n",
        "![image.png](data:image/png;base64,iVBORw0KGgoAAAANSUhEUgAAA+kAAAK9CAIAAADXN7p9AAABWWlDQ1BJQ0MgUHJvZmlsZQAAKJF1kLtLQgEUhz/LMFQqekBDg9SSZWUqQaPZg8DBtOix3W4+ArXLVYkgorU9/BOiPciloYb2QChocrM9cCm5nauVWXQOh9/Hj3MOhwMdTkXT0lYgk83r0ZUF19b2jstWxU43/cwwpqg5LRiJhKWFL22P2iMWU8tT5i7H0MToS+Fk7n4mYVt2F8/+9reFfS+eU0XfpQKqpufB4hWOHOY1k0+FB3U5Svjc5GSTL03ebfJNo2c9GhJ+EO5TU8qecEXYs/vDT/7gTLqgft5gXu+MZzdiosNSIyyyRFjSRQw/PslZ1oj9MxNozIQ4QOMInX2SpMjLdFAcjTRx4VWyqEzjEfbhlfKbv/79w5Z33APz4loSLS/aD1dl6K22vPFrGJiEu4qm6Mr3Zy01ay7h9zXZUYKuomG8boLNDfUnw3grGUb9Ajqf4bb2AeD1YRqMU1azAAAAOGVYSWZNTQAqAAAACAABh2kABAAAAAEAAAAaAAAAAAACoAIABAAAAAEAAAPpoAMABAAAAAEAAAK9AAAAAIfq9cAAAEAASURBVHgB7J0HfBRl/sbf3fRCaKGGpqhIMCQIgohKkSJFERvqeSAqnu1s59kF0VPu9M7Dgodd/3d6UkQ4BSlSVRCQ3pUaWkgQSEhCev7Pu+9mMpnd7Cab7Gx75jPiO++89fvOZJ/3N795x1JeXi64kQAJkAAJkAAJkAAJkAAJ+D0Bq9+3kA0kARIgARIgARIgARIgARKQBKjdeR2QAAmQAAmQAAmQAAmQQGAQoHYPjHFiK0mABEiABEiABEiABEiA2p3XAAmQAAmQAAmQAAmQAAkEBgFq98AYJ7aSBEiABEiABEiABEiABKjdeQ2QAAmQAAmQAAmQAAmQQGAQoHYPjHFiK0mABEiABEiABEiABEiA2p3XAAmQAAmQAAmQAAmQAAkEBgFq98AYJ7aSBEiABEiABEiABEiABKjdeQ2QAAm4ImCxWF544QVXKSrOHThwAIk/+eSTigj+PxgI9LNtftuTDh063HHHHS6ahwQjRoxwkcB7p3A7PPjgg94r369KrvkfCr9qNhtDAoFIgNo9EEeNbSaBKgQgl/HDie2HH37QnygvL2/bti3ifaVd9I3RwvPnz0eTWrduXVZWpkUGcSAnJ2fSpEmpqanx8fExMTEXXXTRk08+efTo0SDusq+6tmPHDswzMYf0VQPqsd6a9AWdxa104sSJeqyXRZEACfg/gXD/byJbSAIkUBMC0dHRn3/++eWXX64lXrFixeHDh6OiorQYfwh89tlnMIVCYC1dunTgwIH+0CTvtWHfvn3oY3p6+k033XTPPfdERkZu2bLlww8//Oqrr3755Rfv1VuPJS9atKgeS6v3onbv3m212o1Q0LuYJuE5AS6weq/I5AIDri9nz54ND6eiMPkyYXUhSoB29xAdeHY7+AgMGzZs5syZJSUlWtcg5bt3796yZUstxueBvLy8uXPnPvbYY926dYOIN789aIBplWIsrr/++uPHjy9fvvy///3vAw88MH78+LfeeguCHlLetGZ4XFF+fj7yYr6BzeNCvJ0RU9OIiAhv1xLK5RcUFNTkERlsB9TuoXydsO9mEqB2N5M26yIBLxK49dZbf/vtt8WLF6s6ioqKZs2addtttxmqhHj905/+BF8aiJ5OnTr9/e9/h2uNlqawsPDRRx9t1qxZgwYNrr32WpjttVMqcOTIkTvvvLNFixbI3qVLl48++siQwPUh7M2wz0G53nLLLbNnz4Ys0KfHIdwALrjgAuiAVq1aQfju3btXJYB6eOONN1JSUnAKzbv66qt//vlnnIL9Hm4DBid7xKAclVH5FcCKCRSNGzdWzyVg/IaT9LnnnovSMLdBj4BOpVf/opt33XUXHHvQzXPOOee+++4DT2hulPzPf/5Tn3LVqlWIhDTXR6rwl19+uXnz5meffVb/MASnEhISXn75ZS09ZlyYYsGdJjEx8fbbb0fV2ik0Ep42MNvD6wmBpKSkqVOn4uzWrVsHDBgQFxfXvn17zNC09Mp7auXKlX/4wx+aNm2KisaMGXPq1CktASZOw4cPV/3q2LHjSy+9VFpaqp2FxRouPevXr7/yyitjY2OfeeYZnEIkNi0N5h4Yd5wFzB49euhr37hx49ChQ1EpmnrVVVf99NNPWi7VsB9//BHTNgwfWj5q1KisrCwtgT7wv//9D0gxRioSGHGIi0FL07lz59GjR6tDmNiVvzuqUDOi/v37Iz02TJm0LHAn69mzJ4Ybg/5///d/WrwhoC4n3BTvvfce+GD0L7nkknXr1hmS6Q9//fXXG264AVcRCm/Tpg0u7OzsbH2COXPmgKq6XxYsWKA/VR0x133Rl+AivGvXrhtvvLFJkyZoGEYKVLXEJ0+efPzxx3E3YaQwXhg1XKjaWXADvS+++OK5557DJYexht+XuhRxcV533XXIhUFECfqLB1kMN92ePXuQq1GjRg0bNhw3bpyaCqpa8EfgoYcewgWv/s6gWH12rSUMkAAJOCXAJ1xOsTCSBAKPAERM7969ISLxS4zWf/vtt9AQUBJvvvmm1hnIdCjyZcuWQZimpaUtXLjwz3/+M344NT169913/+c//4HMveyyy+DTAp2n5UUAJuRLL70Uv7J4Aw8/3qgC5eB3/ZFHHtEncxGGrR3SCkIHDXvqqae+/vprzQINHQCFumTJEpx6+OGHz5w5g3nItm3bIKFQICqCoEHX0ELYs7///ntIQygSF3XpT6GW888//5VXXlETFZQMIQ49gZZs374dQg3/okB0DbngjA6dd/r0aXi5XHjhheCDWRCUB2Rfnz590AVMb7TCcQj9MXLkSC1GCyi19Pvf/16LcQygU2gGBOLkyZOBF/MTCFxIOigelRhY0GuI6VdffRV1gTyEL+YDv/vd7yBnp02bBnWOcccEQyscaZAdQgr+JP/6178OHjyo1BgSoDoILwho/IvxnTBhAobvtdde0/JiDoPqMASYRWCGpsWrwPvvvw/JBUWIAcJEC/J6zZo1an4IgFdccQWE4BNPPAFD+LvvvgvFD6+tXr16aYX88Y9/hOKfOHEiJPKUKVPQzunTp2tntQCmOhgIzEC6du2KSIw1vGK0dzmg+KFKkVdLrwJAhLbhaseUA+IekepfBCAi0WZcQmPHjsVsE4ISkyXMQAwlaIeYkODyw/wHzQB2cMbV4tS6jxndkCFDMONF13At4VL55ptvcOVArarS0GzMUe+//35cJGgbVD5mYphW4awLYi76ojXSdQCF41qF8sZdhgtmxowZ0NyYBWHKhIzoDmYUuClw2eCqw2D17dsX81tM6rRiMa/D8xYIdPROPXjBpYjOYkAxt/nuu+/+8Y9/4N7EtFbLYgjcfPPNKB8X9oYNGz744IPmzZv/7W9/U2kwBGgSbg38PcFFYvg7YyiHhyRAAkYC+CXjRgIkENAEPv74Y9zYsA6+/fbbkAhQmegOfpihkhGAaRY/jaqD+MFGyr/85S9af6FpIFAgbhCzadMmnIXO0M4qWQaxpWKgfmAOx7txWgKIPMgUVeP+/fuRHY3RzhoCUAl4qg79p+IxPYDk1dIoE/7rr7+uxSAAczv+hcpEyVBmjqecVorEWpsRwCEeSujzqgZrMcpqDrGoYqCGIRbBU0uAgGoJVA5K27lzpzoF6QbbIRShPqUWhl8Q4GiHjgFkh6CBURZmSHUWyg/lQ1KrQ5SMQzXlQAws6DDPY7xgE1UJoGKRQOusuhIgTFGySgDpiQQwt6tDQ8chT2FVhQpXZyHgkBjzAXWoRSJehTFekLz6s1oY0hAKD89JVAzmP7gUoUHVoWoYXP8VRkRi/hMWFgaZq5WgD6AWKD8Vc/HFF6sJnsIOKYxGwk6szuLy1vjjCQZOYWqqLwoJEKkNbmZmJkzgePSkT6OF1eUEbQ3LtIoEOmTHJFNLow9gloWzqFcfqYVxCkzUzYVIZdvGgwuVwDUxp33RSlYBdW1jMmOIxyGee8Csro0ssON2w/RVpUQ8hLiWC70GkxdffFHFACBajpmq/mpRl6KWBilxeeNK0wpBFu06VA3D4yztLOYMoKoO8WAHiTHh185Cyuuza/EMkAAJOCVAnxn8xeBGAkFCAHIHKhD6D1ZD/KuUt75vWOMFggkiWItUIgYWdMTgLP7Vn9Ub1PEXBHa7a665BgHId7XBDgfrPuxqWoEuAlCc0MQwPao00NOoV/PoQOHQwbBf6kuATsWh8ppQgkA7q05ph64D9957rz4BFLA6hIhBR2D8w6HqBVQOZjjopsGor6oDYXggwP6tsuPBBbLDRK0vXAvDpA39qh06BuD2AymJyRLKVGcxy4Klf968efrEeNSgDmFNh5sTzKhohorBISJhRtWnx+MCzUgMsyjmS2pkkUbrOK4QtByWcugzNQFQJUDD4TmAvjR9GHXBjcrRhwRCEK+0QoxC8Kn0mOPh8oPVGRC0EtAwbdRQNXLhmYB2Vh/AWZjbEYN2QvIiI64NFYN/0QxMePTpXYeTk5NRoEqD50WAZiBmyA6HHDwfUJEqY3XplX0dlwEwGgpRh5iuqAdHOMRjBDyXUEXVkJjTMt1GYuKB6S4uEjXKGGg8TsGtCvcePBlAdoyyesEXzcApPIQBE8NdDLGuXS1ajfr7CGSqw6LSGxKjInUxKMchXPZasYa7XotngARIwCkBanenWBhJAgFJALoEWgFP/GGbxK8ybOqGbkAq4bG4XlAqvwIlofAvftE1qYG8+EXXSoB5D1ZSuJegFm1TOg8CVEvmIgBvHPii4CcclkhssNvBPKzsi8gFky2qc/q6G06h2fDcdVG461N6lxKkhLiB1wd8QqBO0Bd1Vrkpo5tQGNVJQ6hGyHrNyRsiHm4JcD13WjuEGsST01MqUmHXQ0Y8tLuKV2kg69FCrRCIRThVawoY8YjR5j8qGcyrWnrIMsho+KioGLhSwAKKLGgbilWzDr1/NrqjHCS0EvQBrG6JAjGIqAKv3sK9R50FNIhXQ0dwaWEidOjQIa2Edu3aaWEljg0t185CFx47dgwXiXqdAE5BiNG0O7xBlPTU0rsO6OtFSlRdXb2qHH16fTsxMc7QbUiMKwcOSHAIwdQC4hhvI+hhIoG+KH3VNSSm2lPbf8ENE+znn39eu08RUFNfdatiXOAmh0GEiEfLcRbuT4aWG24ZtMFwKXqMUf2d0Zd/3nnn1baPTE8CoUyA/u6hPPrsexASgLETi5lAYMBrGUKzHnuI33uUBrWnnp7rS1Z+yfoYxzBsfspeq1eWSAb5C6uqY/oaxuhVrMqCSYtjXoMFESZJiEL4+sPpH2IUXcPLr6qDjnkNMfCowXwD2eGTAI92mA+r05FQ4fCpgHjFm8GGQmp+iOckhsSOMRBqhjRODzH1gvcLVDs8HzBDgxSDqRVyXN9xAyhDOZDj8KHHIx2YTvEw5J133oF7D5ZlNCSr7rDmLVdv98LRBZZd+MzgUQO0O/zFc3NzgVT/pm91denja16vylVdenjn6x9KKOxw+4bLB1xr8OQBz6zg3o0XJzC/cl2Uvnn1HlYDCld1TCcMhSuVDC8sKHv4tMCpHVNiXMB4wqa/DJDL8UpwxGIo3HDomL6GF6qhHB6SAAkYCFC7G4DwkAQCmwCsqnBihnpw+hYgfH/xkhmMwZrpXflLKJ9g/Ivfb2X/VhQg1DQcMM4hF5QxTPtaZM0D0Ohw5Pj3v/+t/0WHTwUEGd7eg3kSahIvPhYXF2v+HlrhOAW3BBjLHU3vyiwKVaol1huttUh9ADZXvBELxQndqeIxr9ASoJtQt3hHVosxBKDykQbdwUt7MDa7eBUVFnp40uNpw9NPP20oRB0q7ICst9zjUMU7zVKTSHQHrzqolBC7MGBj/VAc4o1VPPTAMxm4oauzyr27JmVqaSCj4VKCDc9M8BInZDR6ByDwm9dfLUiPSwui0LN5C64HbDC0Q7tDtaM0tBkWbsyacAVq7ddapQKOEzlDgjoeQgpr6zjpi8IsDhtWZcGMDs8E8MIAXinRJ3AMuyVWl74ozyXcR9Xdqnj3GlcIvjOgNQx3EAzw2qFXA+rvDK49bRqPBwVerZGFk0CQEaDPTJANKLsT6gRgRcbSIlhjBMLRkQU0HKQPXmnVTuHROVQCjPSIUf9CTGtnsRiIFobmhqs6rK0GXYun/1oaFwGIXYgwaD548mgbLN/Iol4VReFwzNW3DaeUoQ6nEDDYd9Up6GxoDhhotaphDNbCTgNq8qA3Aeq7CbkJv228m6jWoNRK0NLDqwee+lglA2u2QLG5eOaAbiIB1O3q1au1chDA3AkLxSAAl3q8qwqph6U8VAK8AIA3Muu47Ab8mjAFUgXiYsCyPGpkDR2H+HbLShWi/Qvpr4XhWgM/cmBBXSh58ODBsD1rzjl4LxmeRTCfY4C0LLUK4GqB0/batWuVdscTEkwd//rXv8IejFcknRaFeQXi9RM5p8k8joT3EdSwtqEcuFfpv6iA4cb1o42mi4rcEqtLX3BRYZEfvFeNaZu+Ddqtitq16xkJMCNSfvD6xN4Lq6cB+msP7+96rzqWTALBR4B29+AbU/Yo1Ak4+rRoRCDoYW+DcITGSk1NxVN+6C08Llc+7pBHUKX4TYXnK1algHHaYA+DcsIaFLA3wy0Hug2GcDhdwJCPgFaF0wAM6ijKcV0/eFfDIwKyHp4b8EXBwtuwrSq5hnXoUTI8UrC2CdoM8zYmFbAoK+cWWGQRqQrEq5xoGP6FFIaId/u9UqhJGG6xAAtEJxoACAbzMzwKEAn3EjjzwEsEAgjiBo8INB8kNBWNAQptzTunvYbhE0ZuSD1UBy8dWGQRA49ziFo8LoCmxyFKgBsG6gJ5tUYk1vrUr0HptGTXkRDlWGYENcIQjtGEgMbCoMiCMUW9uDzg2oEJG56B6AWc6zLVWQh0rISIjuBVAcwxMNHCNEM9w4GlGTZp1IUhw/QGwhESVq1yU5OSHdNAsuPCQDuV/wzkJtqPxy9QpdV55OMCRjIgxQUMT248zYCKdSy5HmMwu8BFiGVw8FECiHj1WEl7G9t1Ra6J1bwvWJoJDz20ujB5wCqZ8LwHN8wlcKvCDI9LCxNIvGes1rrBYqzwm8KFB6T4VgA4ay8Za+V4L4CpFxBhwoypoFojUt2zdXnU4L3WsmQS8EcC+NvNjQRIIKAJaGtEOu0FnlBra0QiAYy+kIZ49RPCEc+ssbY3/GS0jOqbKVjNDWY/CH31oqG29BuSQQTgJUU4QiA7ZBw0Iqy8KrtSwE7XiFTrSGgLCGrVIaC+56KW/IMLCuYVeIlNFQ67tZYFwghNhQc5dBv8DWBIxkpzqhzkwuKVeP8SIhKCVb2Np7VZvaIHi6O+UogYOBdBiyMXhBcWNMRfZy0LUsLxBgIdFUECQtagy1Ci+hKwiCFEEsrRRzoNw0UHzjlQURBYcDHHW7BwMsF8QEsM7ya8touK4BGEVdv1ZUJnYyC0lAhA5RtWadSPr7oSsGA2Zh2Q6XgIgwKhkLQS8HYp1BJM17gAsBA7pDA6jkmISuBYuKoR8SoBFDnmIbg80FrM9/DYBCpZncK/mMjBpIpK0VPMrOBAop1yvETVQoRa1VpKLYBJDtqGuZMWoxxR4KitxSCA7oOSFoMVSDFeUPBav/R8VDJ0R+uRllEF1DWMK00fb7g29Kfg0gOvcaDAyGL40GtMOLUEyIgrRztEwNBaF8SQ2LEv+qIQVtc2atFvyqaOs7h3cA3jJsXdhDkq9DpcZVQJWF4JC0zhMQKuBMzEIOv1TNTQYL6qr87xUlS1a2nQBu0OUqf0N526AIBXpcfMHGRADFcLHnMpbyvMwLXSGCABEnBBwIJz+tueYRIgARIgAbcEoLahPPBowm1KMxOoLz3hnWDDApdmtoF1kUBtCeDLErih8GYIppq1zcv0JBCCBOjvHoKDzi6TAAnUiQBc4aE2YNSsUynMTAKhSgDP9/Rdh/8MnmJV9wqyPiXDJEACIEB/d14GJEACJFBTAnhPF746WBYQ/gZ477am2ZiOBEhARwAvQuA+gosRXo3A+9nY4OXl2ZJEulIZJIFQIUC7e6iMNPtJAiRQdwLwGMYbfnjJFWvjwMW57gWyBBIIQQJ4RxYvuGN1ebjd40VVvPSCl2tDkAO7TAKeEfCuvzvWfMBLP5he48Wsr776Cq+kOG0lVh3G4hJ4MwnTbiyRi+9cOE3GSBIgARIgARIgARIgARIIZQLetbvjXXKsQ+d6Po0Xz7EIBp6dwX8Ua9VhoTe19EEojwr7TgIkQAIkQAIkQAIkQAKOBLxrd9fqw7qt1dndsa7zvHnztK+93HLLLfiyBj64reVlgARIgARIgARIgARIgARIAAR8/64qVpbFt0u0wcDywLC+a4daAIsrY1OHWI4arnJYY5ifctD4MEACJEACJEACJEACJBDoBLB6O77Egq9wYP0lp33xvXbPyMjAJ/q0xiGMr0xjASl8M0KLRGDy5MmGL6LrzzJMAiRAAiRAAiRAAiRAAsFBAN9GbNOmjdO++F67O22WYyS+RIj3WVU8vuTXrl07OMqrb3E7JvZ2DFaZwJfn4KOP79V5uy6WTwJBTIC3UhAPLrtmMgHeTSYDZ3VBTMC3dxOM7vi+uAuJ63vtji824yvr2hWAcEJCgsHojrP4BDc2LRkC+KghUupjTAtjUPHRbzjtULubxpwVBSUB3kpBOazslE8I8G7yCXZWGpQEfHs3KW3pwi3cuSeNmSPRu3dv/XfFFy9ejBgzG8C6SIAESIAESIAESIAESCAgCHhXu+fm5mLlR2xgARcXBNLT0xGGA4z2OfF777133759TzzxxK5du955550ZM2Y8+uijAcGOjSQBEiABEiABEiABEiABMwl4V7v//PPP3WwbugRvdQQnTJiAMD7VpEQ8wvDpwRqRMLdjJXh8afyDDz7AUjNmImBdJEACJEACJEACJEACJBAQBLzr796vXz+sdOMI4pNPPtFHItnGjRv1MQyTAAmQAAmQAAmQAAmQAAkYCHjX7m6ojIckQAIkQAIkQAIkQAIkQAIeE6B29xgdM5IACZAACZAACZAACZCAqQSo3U3FzcpIgARIgARIgARIgARIwGMC1O4eo2NGEiABEiABEiABEiABEjCVALW7qbhZGQmQAAmQAAmQAAmQAAl4TIDa3WN0zEgCJEACJEACJEACJEACphKgdjcVNysjARIgARIgARIgARIgAY8JULt7jI4ZSYAESIAESIAESIAESMBUAtTupuJmZSRAAiRAAiRAAiRAAiTgMQFqd4/RMSMJkAAJkAAJkAAJkAAJmEqA2t1U3KyMBEiABEiABEiABEiABDwmQO3uMTpmJAESIAESIAESIAESIAFTCVC7m4qblZEACZAACZAACZAACZCAxwSo3T1Gx4wkQAIkQAIkQAIkQAIkYCoBandTcbMyEiABEiABEiABEiABEvCYALW7x+iYkQRIgARIgARIgARIgARMJUDtbipuVkYCJEACJEACJEACJEACHhOgdvcYHTOSAAmQAAmQAAmQAAmQgKkEqN1Nxc3KSIAESIAESIAESIAESMBjAtTuHqNjRhIgARIgARIgARIgARIwlQC1u6m4WRkJkAAJkAAJkAAJkAAJeEyA2t1jdMxIAiRAAiRAAiRAAiRAAqYSoHY3FTcrIwESIAESIAESIAESIAGPCVC7e4yOGUmABEiABEiABEiABEjAVALU7qbiZmUkQAIkQAIkQAIkQAIk4DEBaneP0TEjCZAACZAACZAACZAACZhKgNrdVNysjARIgARIgARIgARIgAQ8JkDt7jE6ZiQBEiABEiABEiABEiABUwlQu5uKm5WRAAmQAAmQAAmQAAmQgMcEqN09RseMJEACJEACJEACJEACJGAqAWp3U3GzMhIgARIgARIgARIgARLwmAC1u8fomJEESIAESIAESIAESIAETCVA7W4qblZGAiRAAiRAAiRAAiRAAh4ToHb3GB0zkgAJkAAJkAAJkAAJkICpBKjdTcXNykiABEiABEiABEiABEjAYwLU7h6jY0YSIAESIAESIAESIAESMJUAtbupuFkZCZAACZAACZAACZAACXhMgNrdY3TMSAIkQAIkQAIkQAIkQAKmEqB2NxU3KyMBEiABEiABEiABEiABjwlQu3uMjhlJgARIgARIgARIgARIwFQC1O6m4mZlJEACJEACJEACJEACJOAxAWp3j9ExIwmQAAmQAAmQAAmQAAmYSoDa3VTcrIwESIAESIAESIAESIAEPCZA7e4xOmYkARIgARIgARIgARIgAVMJULubipuVkQAJkAAJkAAJkAAJkIDHBKjdPUbHjCRAAiRAAiRAAiRAAiRgKgFqd1NxszISIAESIAESIAESIAES8JgAtbvH6JiRBEiABEiABEiABEiABEwl4HXtPnXq1A4dOkRHR/fq1Wvt2rWOnSsuLn7xxRc7duyINKmpqQsWLHBMwxgSIAESIAESIAESIAESIAHvavfp06c/9thjEydO3LBhA3T5kCFDMjMzDdCfe+65d99996233tqxY8e99947atSojRs3GtLwkARIgARIgARIgARIgARIwLva/fXXXx8/fvy4ceOSk5OnTZsWGxv70UcfGaD/+9//fuaZZ4YNG3buuefed999CPzjH/8wpOEhCZAACZAACZAACZAACZBAuPcQFBUVrV+//umnn1ZVWK3WgQMHrl692lBjYWEhvGW0yJiYmB9++EE71AJIhk0d5uTkIABnG2xaAjMDql5f1W5mT1kXCXiVAG8lr+Jl4SFFgHdTSA03O+tVAr69m9zKSy9q9xMnTpSWlrZo0ULji/CuXbu0QxWAIw3M81deeSVc3pcsWTJ79mzkMqTB4eTJkydNmqSPX7RoEQz5+hiTw4sXLza5RlZHAkFJgLdSUA4rO+UTArybfIKdlQYlAV/dTfn5+a55elG7u65YO/vGG2/Ar+bCCy+0WCyQ73CwcfSrQWLY7+E6r3LB7t62bds+/fokJCRo5SAQZg2LDreb8POK8vSnVNhqscZExKiw2wT5xfnl5eWGQtDI2IhYTIkwomhAeLgRoEqgcp0tPltWXmYoAYdxkXE1TFBQUlBa5mQmo5VQXQI0Ei1BLYUlhSVlJY5tcJsAoIALGYtKi4pLnTzfcJsAY4ERcVGClgDloxbHRkaFR4VbJWG3CdBH9NSxhMiwyIiwCMS7TQDOgOlYArKjEMS7TYCxxoi7KKG6BOgjeoqMuN5w1TmW4DaB2yvfbYL6ujVU413cOyqBdmvgVlq6dOmAAQMiIuQwaRe2lsBAQ0tQ3ZXvNoHbK99tArdXvtsE2pVf3c2lJXB75btN4PbKd5vA7ZXvNkF1V752c1WXwO2V7zaB2yvfbQJf3RrVXfkubg31w3RF/yusYU68YXlrKKTaz4rbK99tArdXvtsE1V35vDXUYPlQUOl/m9z+KLhN4PZHwZBAeZcY/gjoD43SU3+ujuHExMSwsLDjx49r5SDcsmVL7VAFmjVrNmfOnIKCgt9++61169ZPPfUUHN8NaXAYZdv08e3fbC8qfW3kmWHnD5t32zyVJum1JEcZ1Ld93+V3LFcJzp9y/on8Eyqs/dujdY9149epw9SpqQezD2qnVCC5WfL2+7er8JX/uXLniZ2GBO0btj/wyAEVedknl/189GdDgsTYxKw/Z6nIQZ8NWnFwhSEBLoK8Z+wTj+tmXjf/1/mGBDgsn2ifVNw257ZZO2Y5Jsh9OjcuQs4Qxs8b/+nmTx0TZD6e2SyuGeIfWfTIOz+/45hg/8P7OzTqgPhnlj3z99V/d0yw7b5tXZp3QfzLP748acUkxwRr7157SdIliJ+ydsoT3z3hmGDZ2GX9OvRD/Hsb33vw2wcdE3xz6zfDLxiO+M+2fzZu7jjHBDNunHFTl5sQP2f7nJtn3eyY4OORH9+RdgfiF/2yaMR/RzgmeHvo2w/0fADxPx74sf+n/R0TvDrw1T/3+TPiNx3Z1PODno4JJvad+EK/FxC/PXP7Rf+6yDHB470ff23wa4g/cPrAOW+c45jg/h73Tx0+FfFZeVnN/97cMcHY1LGfXPcJ4jHhbPz3xo4Jbky+ceZNM1V841ecJDD51rjs/ct2ZO0wtNPVrbFVpuWtoRHjraFQ8NZQHGp1a9z+v9u/3futdi1pAf5qKBT81VAcAv5Xw9aNWt0anggq22+TDwSVE0OidivLgJPZeZXzdTiIjIzs3r073GBUGWVlZQj37t3baZFweU9KSiopKfnyyy9HjhzpNA0jSYAESIAESIAESIAESCCUCVgc3ULqEQfWiBw7diyWgOzZs+eUKVNmzJgBf3d4vY8ZMwZKHS7sqGvNmjVHjhxJS0vDvy+88ML+/fuxoGSjRo1cNANPExo2bHg066gPfWbmz5/fb1A/+sxgmNw+93ebwO1zf7cJ3D7cdJvA7cNNtwn49BOPjNRtWyufmYULF+KlF/rM6P/i0WdG0XDrEuM2gVuXGLcJAstnBj9MAwYPoM8Mrh/+arh2xXR75btNEEC3hvp7UitPS/jMaL9Nbl1i3CYwuMTo/9qrsCEBVG7rZq2zs7MNKlfL6EWfGdQxevTorKysCRMmZGRkQJ3ju0vq1dX09HQsO6MaAW8ZLPG+b9+++Ph4LBCJJSNdC3et6fDe0xz4tEgt4OKUSuM2gSZEtDINASRQgsMQrx1iMLSw04DbBPgJd5pRi3SbAHdvlJC+1NVtbhPA21s5fFdXQt0TwLcPe3XlI95tAvyEh0e6upjdJsDfKdeXhNsE+EPmugS3CeDb57oEtwnAynUJ9ZKgJreGi9HEKe3KL7YUR4dFo82GW0lLUF05bq98twncXvluE9T9yndbgtsr320Ct1e+2wRur3y3Cdxe+W4TuL3y3Saolyvf7c1Vj7dGdVd+TW4Nw91kKIq3hgLi9sp3m8Dtle82gdsr320Ct1e+2wQhdWsY7gXDof7WcPrb5PZHwW0Ct3/zVYLSSCcvOupb60ru6NN5HH7QthmyL1++XIvp27cvvsqkHTJAAiRAAiRAAiRAAiRAAiTglIAX/d2d1sdIEiABEiABEiABEiABEiABzwhQu3vGjblIgARIgARIgARIgARIwGwC1O5mE2d9JEACJEACJEACJEACJOAZAWp3z7gxFwmQAAmQAAmQAAmQAAmYTYDa3WzirI8ESIAESIAESIAESIAEPCNA7e4ZN+YiARIgARIgARIgARIgAbMJULubTZz1kQAJkAAJkAAJkAAJkIBnBKjdPePGXCRAAiRAAiRAAiRAAiRgNgFqd7OJsz4SIAESIAESIAESIAES8IwAtbtn3JiLBEiABEiABEiABEiABMwmQO1uNnHWRwIkQAIkQAIkQAIkQAKeEaB294wbc5EACZAACZAACZAACZCA2QSo3c0mzvpIgARIgARIgARIgARIwDMC1O6ecWMuEiABEiABEiABEiABEjCbALW72cRZHwmQAAmQAAmQAAmQAAl4RoDa3TNuzEUCJEACJEACJEACJEACZhOgdjebOOsjARIgARIgARIgARIgAc8IULt7xo25SIAESIAESIAESIAESMBsAtTuZhNnfSRAAiRAAiRAAiRAAiTgGQFqd8+4MRcJkAAJkAAJkAAJkAAJmE2A2t1s4qyPBEiABEiABEiABEiABDwjQO3uGTfmIgESIAESIAESIAESIAGzCVC7m02c9ZEACZAACZAACZAACZCAZwSo3T3jxlwkQAIkQAIkQAIkQAIkYDYBanezibM+EiABEiABEiABEiABEvCMALW7Z9yYiwRIgARIgARIgARIgATMJkDtbjZx1kcCJEACJEACJEACJEACnhGgdveMG3ORAAmQAAmQAAmQAAmQgNkEqN3NJs76SIAESIAESIAESIAESMAzAtTunnFjLhIgARIgARIgARIgARIwmwC1u9nEWR8JkAAJkAAJkAAJkAAJeEaA2t0zbsxFAiRAAiRAAiRAAiRAAmYToHY3mzjrIwESIAESIAESIAESIAHPCFC7e8aNuUiABEiABEiABEiABEjAbALU7mYTZ30kQAIkQAIkQAIkQAIk4BkBanfPuDEXCZAACZAACZAACZAACZhNgNrdbOKsjwRIgARIgARIgARIgAQ8I0Dt7hk35iIBEiABEiABEiABEiABswlQu5tNnPWRAAmQAAmQAAmQAAmQgGcEqN0948ZcJEACJEACJEACJEACJGA2AWp3s4mzPhIgARIgARIgARIgARLwjAC1u2fcmIsESIAESIAESIAESIAEzCZA7W42cdZHAiRAAiRAAiRAAiRAAp4RoHb3jBtzkQAJkAAJkAAJkAAJkIDZBKjdzSbO+kiABEiABEiABEiABEjAMwLU7p5xYy4SIAESIAESIAESIAESMJsAtbvZxFkfCZAACZAACZAACZAACXhGgNrdM27MRQIkQAIkQAIkQAIkQAJmE/C6dp86dWqHDh2io6N79eq1du1ap/2bMmVKp06dYmJi2rZt++ijjxYUFDhNxkgSIAESIAESIAESIAESCGUC3tXu06dPf+yxxyZOnLhhw4bU1NQhQ4ZkZmYacH/++edPPfUU0uzcufPDDz9ElmeeecaQhockQAIkQAIkQAIkQAIkQALe1e6vv/76+PHjx40bl5ycPG3atNjY2I8++sgAfdWqVX369Lnttttgnh88ePCtt95anXnekJGHJEACJEACJEACJEACJBBSBMK919uioqL169c//fTTqgqr1Tpw4MDVq1cbarzsssv+85//QK/37Nlz37598+fP//3vf29Ig8NC26bic3JyECi2bY4pTYhBzaoBJtTFKkggiAnwVgriwWXXTCbAu8lk4KwuiAn49m5StbvA60XtfuLEidLS0hYtWmjVI7xr1y7tUAVgcUfKyy+/vLy8vKSk5N5773XqMzN58uRJkybp8y5atAiGfH2MyeHFixebXCOrI4GgJMBbKSiHlZ3yCQHeTT7BzkqDkoCv7qb8/HzXPL2o3V1XrJ1dvnz5K6+88s477+Bl1j179jz88MMvvfTS888/ryVQAdjv4TqvwrC7461WONgkJCQYkplziCkRRnTQoEERERHm1MhaSCAoCfBWCsphZad8QoB3k0+ws9KgJODbu0l5l7gA60XtnpiYGBYWdvz4ca16hFu2bKkdqgBkOpxk7r77bhympKTk5eXdc889zz77LHxs9CmjbJs+BrrZt9LZ5w3Q02CYBAKXAG+lwB07ttzfCPBu8rcRYXsCl4Cv7ibU6xpaFX3sOmltz0ZGRnbv3n3JkiUqY1lZGcK9e/c2lINHA3qZDrmPBPCfMSTjIQmQAAmQAAmQAAmQAAmEOAEv2t1BFl4uY8eO7dGjB95DxSLusKljzRnEjxkzJikpCS7sCF9zzTVYjqZbt27KZwZmeMQoBR/iY8PukwAJkAAJkAAJkAAJkICegHe1++jRo7OysiZMmJCRkZGWlrZgwQL16mp6erpma3/uuecsFgv+PXLkSLNmzSDcX375ZX0TGSYBEiABEiABEiABEiABEgAB72p3VPCgbTOwxvupWkx4eDg+zIRNi2GABEiABEiABEiABEiABEjAkYAX/d0dK2MMCZAACYDA/hf2H3jpgAEFYhBviOQhCZCAawK8m1zz4VkSCD4C1O7BN6bsEQn4OwFLmOXAhAN6+Y4wYhDv701n+0jAzwjwbvKzAWFzSMDrBLzuM+P1HrACEiCBQCPQ4fkOaDLEellpmegmDr18KH1SeocXO6j4QOsN20sCviTAu8mX9Fk3CfiCALW7L6izThIIeQKa4EiwJqSXpcd3jy88VLj7nt0hD4YASMATAriDMAFOsCSkl6c37NvQEmE5/NbhsLgw7NZYqzEQZw2LCeNjLk9AMw8J+AEBanc/GAQ2gQRCkkDjgY2ln0yZ9JPJXZ+LPSQxsNMkUG8ELOXybspekY3dbaHWaKsVIj7Wpu8RgNCPDZMxTgPO5gByYhBjtVjp6uYWNhOQQH0SoHavT5osiwRIoIYEsldnb+q3CYnLITfKLY2uatS4f+Ma5mUyEiABA4FTy06dXnK63FqOyXCDng3ikuNK80tL80rL8soqA3mlCJfllwnbxw/LCsqwl/xWYiiqtoeQ71LEa9Z9/XzA9cRAnwtzAAvnALVlz/QhSoDaPUQHnt0mAR8SyP5JCvfyovKoDlGZf81M2ZmCx/2N+jaiv7sPB4VVBy4BvOoN4d5uYrut3bambJR3U9MRTau7m/DZ8rKzUtBLWQ81D32fbww4jawyDVBzABsylIa97vQq1b82DdACTucDziYGeJjAOUDdx4Il+DkBanc/HyA2jwSCjUDOmhwl3KM7RKdtTFu4YmHbZ9taw6zwn0FXqxMcwUaB/SGBeiKg1mjCq95JTyVtnb/V7d0EaSv9ZGLDRGKdWlBeZpsDKFu+mgZ4NB+A7V+1A1MI7MVZxXVqlkW4mANUeT7gcmJgjeIcoE7jwMxeJUDt7lW8LJwESKAKAQj3zYM3lxdKi/sl2y4pi7T/bCvJXl5qe5ZfJQcPSIAEXBHAXaPWaCoutqtec+4muLlLz/i4MFeNq8E5zAHsDwE0Jx+P5gP4qyJrKxd4PoC9WNRtDmAVTrz/9U4+mvSvCDidGFgiMVeiL1ANrgMmqQ0Bavfa0GJaEiCBOhDIWSuFe2lOacMrG3ad3xU/dWXFlY/aaXGvA1pmDV0C57xwjmPnA+huwhwgPD5cxDt2onYxmMNUevZr0wDHgLuJAXz5ZMVlojS3FHtd5wBhcg4gZb3e7adWbwPb5gbWSH6Np3bXQ3CnpnYP7vFl70jAXwjkrKsQ7lc0TJmXUndznb90jO0gARLwAwJY8jK8QTj2OralrES67lT3JoDB6V++GGDwF6pwHCovts0BSkXpmVLsdWyVJdxS6QuknwbUcmJgjeAcoI5D4RfZ63qV+0Un2AgSIAH/JpDzc87mQZtLs0sbXt4wZX6KNLNxIwESIAH/I2ANt1oTrOEJdf0bhYeKjnOAmrwEbJgPlJfIOQD+xRNL7HUEhoX/tTmAUyefKs8HtImBw4MCUKpjS5i9LgTqenXWpW7mJQESCAUCZ9af2TJoC4R7Qp8ECvdQGHH2kQRIABZua0NreMO6qqyyIo8WBdIeHVQsEipssh9PA/CnGHsdBwh+/M6lv0vvf8eJgb99IGz/C/vRJIPLGV4Hh0eWU+e0OmL0OHtdryqPK2ZGEiCBUCAA4b554OaS0yUQ7l2/7Vr3J9qhAI19JAESIAFFAJ7u0tm9UZ14YGFQ+PFXvg/gzulfe2Lg+KAAbwJgQ2klRSXiVJ1ahcyWKNsbz44fBXP2WrDz2QI8iOrvI8EQ7mrFM6zapPqmreNU167Wa35q93rFycJIgAR0BM5sOANXGSncL6Nw13FhkARIgARMJCAXu4myYOHLiMYRdalWfhygUC7jUzkN0N4GruV8QH0gDKsDlRSWlJys8wfCDB8Jrt7bBxMAp3MAGRljVRZ3yPey0jLRTRx6+RC+lqDWcaoLt3rPS+1e70hZIAmQgCQghTss7qdKEnpTuPOSIAESIIGAJ4ApQFh0GPaIpnWeAxTIF4I1A7/H8wHFtH4/EhzWMAySPUEkpAt/FO7oMrV7wN9L7AAJ+CGBMxt1wn1B17q/+OWHfWSTSIAESIAEPCAg5wAxYdg9yKvPYv9IMEz++mmAg6+/24mB9mFg/UeCLcICt36D77u+dh+Gqd19CJ9Vk0BwEjizqUK4X5rQlcI9OAeZvSIBEiABHxOQcwC4x+Ajwc3q1JLKjwTb5gCH3zx87L1j5WHlokjA390P5Tu1e53Gm5lJgAQMBKRwv2oz/Bcb9GpA4W6Aw0MSIAESIAF/I6D/SDDEOoR7u4nttnbbmrIxRb266m/yndrd3y4htocEAphA7uZcTbinLkyt+/poAcyCTScBEiABEggoAtqqMlhnZuv8rW2fbWsNs/qhfKd2D6jLio0lAT8mAOG+6apN0uLeswGFux8PFJtGAiRAAiTghADWcVeryhQXF6vTyuKOeCepfRdF7e479qyZBIKIQO4Wm3D/raTBJQ26LuxKi3sQjS27QgIkQAIhQcDpB5j8zWEGI8Gv2obE5chOkoBXCeRutbnKQLj3aNB1UdeIRnVaPsyrTWXhJEACJEACJBDQBKjdA3r42HgS8D2B3G25mwdsLj5RHN89nsLd9+PBFpAACZAACQQ1AWr3oB5edo4EvExAL9xTF6fW8aN9Xm4siycBEiABEiCBgCdA7R7wQ8gOkICvCORtz5MW96zi+IvjKdx9NQqslwRIgARIIKQIULuH1HCzsyRQbwTyduRtGrBJCvduFO71RpUFkQAJkAAJkIBrAtTurvnwLAmQgBMCUrj331ScaRPu36VGNOHLqU4oMYoESIAESIAE6p0AtXu9I2WBJBDkBPJ22izuEO5p8akU7kE+2uweCZAACZCAfxGgdvev8WBrSMDPCUjhDov7cQp3Px8oNo8ESIAESCA4CVC7B+e4slck4A0Cebvswj0uNU5a3JvSVcYbmFkmCZAACZAACVRLgNq9WjQ8QQIkoCcA4b65/2ZY3OO6UrjrwTBMAiRAAiRAAuYRoHY3jzVrIoHAJZC/Ox/CvSijSAr3JamRiZGB2xe2nARIgARIgAQClwC1e+COHVtOAiYRgHCHj7sU7ikU7iYxZzUkQAIkQAIk4JQAtbtTLIwkARKwE8j/xSbcjxXFXUThzquCBEiABEiABHxMgNq99gNQVmrJXJFUshL/irLS2udnDhIIGAL5v9qFe2yXWOkq04yuMgEzdmwoCZAACZBAUBIID8peebFTh2aL9Q+H5x/ugTpWvC5i24jub4i213uxRhZNAj4ikL/HJtyPFkG4py1Ni2xO4e6jkWC1JEACJEACJFBBgHb3ChI1+T+E+/c3ivzDlWnzj8gYxHMjgeAiIIV7v01FR4pikyncg2to2RsSIAESIIFAJkDtXuPRg3vM+oeFKK+awXa4/hE6z1TFwqPAJnB271m5qgyFe2API1tPAiRAAiQQhASo3Ws8qFnfV7G4V+YrF/mHBM5yI4GgIADhDot74eHC2M42i3sLusoExbiyEyRAAiRAAkFBgNq9xsN49pirpEfni9IiVwl4jgQCgcDZfWexHKQU7hfGpi5NjaRwD4RRYxtJgARIgARChwC1e43HOqaVq6Q7XxOzm4vVd4gjFPGuOPGcPxOQwh0W90M24b4sNapllD+3lm0jARIgARIggRAkQO1e40FvdoVcVUZYnGQIjxfRLUVxttj/qVgxXMxuIX4aJ45+S0u8E1aM8lcCZ/fbLO6HCmM6xcDiTuHurwPFdpEACZAACYQ0AWr3Gg+/NUwuByk3vXxH2CJ6fyquOywGrhAXPGgT8afFvk/E8mE2EX+nOLpAlBXXuBomJAEfEJDCHRb3dCnc05alRbWixd0Ho8AqSYAESIAESMAtAWp3t4h0CbCO+xWzRGxSZRQs8YhBPJR98ytFj7ekiL9quTj/ARHdQhRDxH8slg+1ifi7xNGFFPGV6BjyGwJnD9gs7hDuF1C4+82osCEkQAIkQAIk4IwAv83kjIqLOMj0pJElx5Zt+unbtEuHhrfqL1W7fsNhi75yh5Eei8+kzxSHZomCTLHvI7lHNhFtR4l2N4sWyBihz8cwCfiEgBTusLgfLIw5n8LdJyPASkmABEiABEigFgSo3WsBy57UGlbevO+R8LzU5n2Nwl1fmBTx/eTe/U2RtVKK+PRZojBL7P1Q7lFNRRtNxHMU9OAYNo9AwcECrONeKdxb01XGPPisiQRIgARIgAQ8IEDV6AG0WmaRIr6/3CHiMyHiZ8jvsEoR/4HcoxKliG9/s2jeT1g5HLVky+R1IFCQXgCLe8GBgpjzbBb3JAr3OtBkVhIgARIgARIwhYAZ/u5Tp07t0KFDdHR0r1691q5d69ivfv36Wapuw4cPd0wW8DGQ5i0HiJ7TxKijYsB34rx7pHAvPCH2vi+WDhJftRJr7xUZS0RZScD3lB3wewKacI/uGJ2K5SAp3P1+yNhAEiABEiABEgABr2v36dOnP/bYYxMnTtywYUNqauqQIUMyMzMN6GfPnn2sYtu2bVtYWNhNN91kSBNUh1LEXyV6vitGHRMDFouO46ULDUT8nnfF0oHiq9Zi7X0iY6koKw2qXrMzfkOg4FABPsBUsL8Awj1teVp0m2i/aRobQgIkQAIkQAIk4IqA17X766+/Pn78+HHjxiUnJ0+bNi02Nvajjz4ytKhJkyYtK7bFixcjTZBrd63/UsQPFL3ekyK+/yLR8W75MivcafZME0uvEnNai3X3i+PLKOI1YAzUnYAU7nCV2VcQfW40loOkcK87UpZAAiRAAiRAAqYR8K6DdVFR0fr1659++mnVH6vVOnDgwNWrV7vo3ocffnjLLbfExcUZ0hTaNhWZk5ODQLFtMyQz5xA1qwbUZ3WJ/QT2tDcsmcuth2dZDs+xYHWaX/+FvTyqRVmbUeVtbihvdrmwVF3Wpj5bwLKCn0Dh4cJtg7Yp4X7R4ovCWoapi9lXPffKreSrzrBeEvApAd5NPsXPyoOKgG/vJre/y5by8nLv8T569GhSUtKqVat69+6tanniiSdWrFixZs0ap5XCGx4+8Tjbs2dPQ4IXXnhh0qRJ+sjPP/8cFnp9TDCFLeUliaVbk0p/aFWyJlLkqq4VWBodDbvsaHif36wXUsQH03Cb0xfLCUvcc3FhGWFlLcpy/5Jb3syL9745PWItJEACJEACJBBkBPLz82+77bbs7OyEhASnXfOu3d1plS4iYXRPSUlxFO7IAuM9/OZVXtjd27ZtO3jw4Op65aKKejmFKRF8ewYNGhQR4dU12q+VrS0rKslcZj00y3JkbnTx6XNL5mMvj25Z1ub68jY3lideJixed3yqF2gsxLcECo/YLO4ZBVHnRKUsTolq5xeryph1K/mWPWsnATMI8G4ygzLrCA0Cvr2blHeJC9Le1e6JiYl48fT48eNaCxCGZ7t2qA/k5eV98cUXL774oj5SC0fZNu0QAehmL0tnfW1OwmY1IEK0HSH30iJxfIlticmvLAUZYXveEdhjWom2N8qPPTWjiHcyRoxSBCDctw/aXrCnILqDzce9vX+9nGrWrcTLgQSCnwDvpuAfY/bQLAK+uptQr+suetdkGxkZ2b179yVLlqhGlJWVIaz5zxhaNnPmTPi033777YZ4HtoJhEWK1kPFpR+L6zNF33ninLEioqE4e0z88pb47goxp634+WGR9aMoLyMxEtATgHDHqjJn95yVwh2ryviZcNc3lWESIAESIAESIAHXBLxrd0fdcHQZO3Zsjx494AkzZcoUGNex5gzix4wZA1f4yZMna+2Dw8x1113XtGlTLYYB5wQg4pOGyb20UGQsll9sPTxHnD0qfnlT7jFJop3NEp94Kd1pnAMMpdjCozbh/uvZqPZRWMedwj2UBp99JQESIAESCEICXtfuo0ePzsrKmjBhQkZGRlpa2oIFC1q0aAGQ6enpWHZGI7p79+4ffvhh0aJFWgwD7gmERYmkEXKHiD+2SIr4I3PF2SNi9xtyj21jd6dJ7EUR7x5mMKaoFO7tomBxj+kQE4y9ZJ9IgARIgARIIIQIeF27g+WDts0Adfny5fqYTp06eXXFG31dQRiGiG9zjdxLC+wi/vBckX9Y7J4i99i2UsS3v1k0hYi3BGH32SVnBAqPFW4asOnsL2fxWiqFuzNCjCMBEiABEiCBwCNghnYPPCqB2+KwaNHmWrlLEb/Q5k4DEX9I7P6n3GPb2d1pmvakiA/cQa5JywszCjcP2Hx299motlH4AFPMObS41wQb05AACZAACZCAvxOgdvf3EfKwfVLEj5R7yVmbiJ8hjnwt8tPFrtflHtdetLtJtL1JNL2EIt5Dwn6cTQr3/pvzd+VL4Q5XmXMp3P14tNg0EiABEiABEqgNAWr32tAKxLThMaLtdXKXIn6BXGISIj7voNj5d7nHdZAiHnuTHhTxgTi8jm0uOl4Ei7sU7m1sFncKd0dGjCEBEiABEiCBgCVA7R6wQ1fbhksRP0ruUsR/Kw7OEEe/EXkHxM7X5C5F/M02Ed+dIr62aP0nPYQ7loPM32kT7rC4d6TF3X8Ghy0hARIgARIggXogQO1eDxADrAgp4q+Xe0m+OPqtzRKvRPyrYuerIu4c+VYrdHzjbhTxgTWyUrgPkMI9MikSy0FSuAfW8LG1JEACJEACJFATAtTuNaEUpGnCY0W7G+RekqcT8fvFjr/JPf5cmyUeIj6NIt7/r4CiTJtw3yGFO3zcY8+L9f82s4UkQAIkQAIkQAK1JUDtXltiwZg+PM62/syNNhE/3+ZOM0/k7hM7/ir3+I5SxMMY3yiVIt4/h79SuLeOxKoyFO7+OUxsFQmQAAmQAAnUnQBLyyH6AABAAElEQVS1e90ZBlEJUsTbXl0tzhVH50t3mqMQ8XvFjslyjz/P7k7TqCtFvP+MelFW0earNudvz4+EcIfF/Xxa3P1ncNgSEiABEiABEqhnAoGs3fPyRFhYFR44jI62x+Cs44YvucZUvL3nNkF+vigvN5aBbxvFVmgjJAh3AKhPcPasKCszloDjuDh7pNsEBQWitNRVCdUlQCPVZ5gKC0VJiZMS3CSw2D/nBBF/YK7YP0MuNHlijzjxilj/imhwnnzn9fzbRBObJb6oSBQXO6kCY6EGyG0CZEcaxy0qyk7YbQL0ET113CIjRUSEjHabAJwB03FDdhSCzW0CjDUG1HHTSqguAa4i9BQbrjdcVI5b9Qkg3LcO33p2R0Fkq3hpcYdwd3phm39ruL53tCu/uDgM2NFmNUwBcGsI+TdEfRO6ugvbbQLeGuoi9+atYb+N3F75bhPU+69GDW8Nw9+BWt0aTv+caiV461eDt0bFmGkXtl/+aoT0rVFzQaX/bXKjl4SUha4Vl9sfBUMCp7/jFdeX/D++ZhpwW3Z2NlqO/6Csq+zDhlX2JTa2yimVsm/fygSJiU4S9OhRmaB9eycJkpORoKioaM6cOWWdOztJgFzahtIMLcQh6tU2tMcxAVqubeiRYwLEaNuNNzpPkJtrTzJ2rPMEmZn2BPff7zzB/v32BI8/7jzB30T5153KNz1X/uS9zhOsXWsv4dVXnSdYtsye4O23nSf45ht7go8/dp5gxgx7AgScgkJGtaEopwlQtdrQGKcJ0Hi1oTtOE0ycaE+wbZvzBACoNiB1WgKGQG0YFKcJMIhqw7A6S5AV3T9vV549jbME5WbdGvY24DZxbEbo3Bq4EtSGa8ORA2J4aygs3r81yvEXUtucjkUQ3Rrqh6l06FDnV53GwYe/Grw11EXoB78aIXVr2K99fxZUVW8NqXGhcrOztbvWEHAwG9sy8B8ScE/AEiFydovtfxG/uk/LFF4l0Khvo/BOFY+DvFoTCycBEiABEiABEvApAQu0vE8b4EnlOTk5DRs2zD56NCEhoUp+s55+FhcXz58/f1i/fhFB6zNTg6ef4cXSG/7QTJE+XxRV+MwkdBJtsADlKNEoWfovYUSwVedaoCVw6xLjNoFblxi3Cdw+3HSboDqXGO35aXUJqneJsV/eDgmKfyveMnxL3ra8yOaRKd+mxCUnuPEWM+vWsDfYrb9Zhc8MbqWFCxcOGTIkgj4zdna2//HWUDQcrnw9JBl2m8Dtle82QeD4zNh/mAYMiFA+XQZY9JlRQDRXTLc/Cm4TuP1RcJuguh8FL/xqGC4H+euMvzNqc+qh4TZB4Nwa9m5W5y3m7Nao8tvk1iXGbQKDS4xxMIyKS6rc1q1hdzeq3IqMgazdq+9VRe+89X/7n8hhw+yCw1v1BEi5RdnyW63pM+V3W8sq3NYbJts/9oQAt3olAOG+6apNeZvzIlpE4OXUuAsrXp+o11rMKYy3kjmcWUsoEODdFAqjzD6aQ8C3d5PdQl29yrWaQ4G1BDOByIbinNtF37ni+kzR+/9E6xHCGiGyd4itL4h5XcS8i8TWF0X2zmAmYGLfINw3D9xsF+7LAlu4m4iNVZEACZAACZBAkBCgdg+SgfSLbkgR/3vR72sp4i/9VLQebhPx28XWiWJespiXIra+JLJ3+UVTA7MRxSeLNw/anLspN6J5RNrStLjOAWxxD8wRYKtJgARIgARIwMcE+K6qjwcgOKuPbCTOHSP3otPi8Fy5TnzGYpG9TWzFPkE0SrG708A5nluNCUjhPnBz7kabcIfFPZnCvcbsmJAESIAESIAEgoUAtXuwjKR/9kOK+LFyLzolRfxBm4g/vVVg3/K8wDee8MVWfA0q4QL/bL7/tMpucYdwb2azuFO4+8/YsCUkQAIkQAIkYCIBancTYYdyVZGNxbl3yL3wZIUl/jtxeovctzwnGqdJBd8WIv78UIZUXd+LT9lcZTbYhDss7l1oca8OFeNJgARIgARIIMgJULsH+QD7XfeimoiO4+QuRfwcmzvNd+LUJrlvflY07iZFPHZ8upWbjYBeuKcuTaVw53VBAiRAAiRAAqFMgNo9lEffp32XIv5OuRf+JkU83GmOLxGnNsp98zOi8cUVIr6jT1vp48qLTxdvGbwld31uRGIEhHv8RfE+bhCrJwESIAESIAES8CkBanef4mflIBDVVHS8S+4FJ+yW+ONLxakNct/8tGjS3S7i488NNVpSuA/acubnMxTuoTb07C8JkAAJkAAJVEeA2r06Mow3nUB0ojjvbrlLEf+VdKeBiD+5Xu6bnhJNethfbI3vYHrLfFChsrhDuIc3DU9dkhqfQou7D0aBVZIACZAACZCAvxGgdve3EWF7hJAifrzcC7KkiIc7TeYycfJnuW96QjS5RLS/WbS9UQSviC/JLtkyZMuZdVK4py1Ji+9K4c77ggRIgARIgARIQBKgdud14McEopuJ8+6Re0GmODRbpM8UmcvFyXVy3/hn0bSnzRJ/o4hr78d9qHXTINw3D9l8Zu2Z8CY24Z5K4V5rhsxAAiRAAiRAAsFKgNo9WEc2uPoV3Vycf6/czx4Xh5WIXyF+Wyv3jY+Lpr0qRHy7QO92SU7Jlqu3nFkjhbt0laFwD/QRZftJgARIgARIoF4JULvXK04W5m0CMS3E+ffJ/WxGhSUeIn6N3Df+STS91O5OE9fW2w3xRvlSuA/ZkvNTTnjj8NTvUhukNfBGLSyTBEiABEiABEggcAlQuwfu2IV2y2Naigvul7sU8V/KF1szvxe//ST3DY+JxN52S3xsm0DBpCzuduG+JLVBNwr3QBk6tpMESIAESIAEzCNgNa8q1kQC3iAgRfwDYuAKMeqI6P6WaHaFEBZxYrXY8KiY01Ys6iN2vSHyj3ij5noss+RMyZahW3JWV1jcKdzrES6LIgESIAESIIEgIkDtHkSDGeJdiWklOj0oBq0U1x0W3d8UzS63ifhVYsMjYk4bsfhysftNkX/UDyFJ4X71lpxVOeGNbK4yF9Pi7oejxCaRAAmQAAmQgF8QoHb3i2FgI+qTQGxr0emPYtD34rpDovsbolkfWXjWj2L9wzYRf6XY/Zb/iHi7xZ3CvT6vAJZFAiRAAiRAAkFLgNo9aIeWHROxSaLTQ2LQD1LEXzxFJF4mRLnI+l6sf0iK+O/6it1vi7PHfAgKwn3rsK05P0qLe9fFXRt0p8Xdh6PBqkmABEiABEggAAhQuwfAILGJdSWAN1YvfFgM/lGMTBcX/1O+yQoRn7lSrP+j+CpJfNdP/DJVvvNq7laSK4V79g/ZYQ3DINwTeiSYWz9rIwESIAESIAESCDwC1O6BN2ZssecEsHbkhY+IwatsIv51uaakFPErxM8Piq9ai+/6i1//JZeQ9/5WKdwTwlIXp1K4ex85ayABEiABEiCBYCBA7R4Mo8g+1JqAFPGPiiGrxciDots/5NedpIhfLtbdL+a0FksGiF+nyY+5emeTwn341uzvs8OUcL+EFnfvgGapJEACJEACJBB0BKjdg25I2aFaEYhrJzo/Job8JK7dL7q9Jpr2FOVl4vgyse4+8VUrseQq8eu7oiCrVkW6TlyaV7p1xNbslTbhvig1oSeFu2tgPEsCJEACJEACJFBJgNq9kgVDIU0gvoPo/LgYskZcu0+kvSqaXGIT8UvFunvFVy3FkoFiz3t1F/F24b4iO6xBWNeFXRN6UbiH9EXHzpMACZAACZBAbQlQu9eWGNMHO4H4c0Tyn8XVa20i/m+iSQ+biF8i1v5BWuKXDhJ73hcFJzygUJpfuvWaraeXn5bCfVHXhpc29KAQZiEBEiABEiABEghlAtTuoTz67LtLAlLEPyGuXieu3SvS/iqadBflpSLjO7H2HmmJXzpY7PlAFP7msojKk1K4j9h6eplNuC+kcK8kwxAJkAAJkAAJkEDNCVC715wVU4YqgfhzRfKT4uqfxTV7ROpk0fhim4hfLNaOF7NbiKVDxN4PXYt4u8Udwj0+rOuCrg170+IeqtcS+00CJEACJEACdSNA7V43fswdUgQadBRdnhJD14trfhWpr4jGaTYRv0isuVvMbimWXS32fiQKTxqQSOF+7dbTS23CHRb3yyjcDYR4SAIkQAIkQAIkUFMC1O41JcV0JFBJoMF5osvTYuhGMeIXkfqyaJQqykvEsYVizV3SEr9sqNj7sSg6hfSlZ0u3jdx2ekmFxZ3CvRIiQyRAAiRAAiRAArUmQO1ea2TMQAKVBBLOF12eEcM2iRG7Rde/iEZdbSJ+gVhzJ0R86cKR2wYtOvXdKWucNeXblIZ9aHGvJMcQCZAACZAACZCABwSo3T2Axiwk4EAg4QJx0bNi2GYxYpfo+pJolFJaYNn2+OWnfoyxRp3tOvmzRq3niqLTDtkYQQIkQAIkQAIkQAK1IBBei7RMSgIk4JZAQidx0XOlHZ/eNmLNqW1F1ujCrn9+slHTreKn94Q1QrQcItrdJNqMFJG0wbtFyQQkQAIkQAIkQAJGAtTuRiI8JoE6EigtKN02atuppUXWWGvXb3s1Sp0u0meK9Bkie7s4+o3crZGiFUT8zaLNtSKCn2eqI29mJwESIAESIIEQIkDtHkKDza6aQEAK9+u2nVp4Sgr3+V0bXdlIiEYiZYLcs3dIEX9wusjZKY58LXcp4q+2ifhrKOJNGB1WQQIkQAIkQAKBToDaPdBHkO33IwIQ7ttHbVfCPWVeSqO+EO66rWGySJko99PbpRkee84uceR/crdGidY2EZ8EEd9Al4dBEiABEiABEiABEqgkQO1eyYIhEqgLgbLCsu03bD+54KQ1xgrh3rhf42pLa9RFNJokUl6QXjR2Eb9bHJ4rdynih0pLfNIIivhqAfIECZAACZAACYQqAa+vMzN16tQOHTpER0f36tVr7dq1TjmfPn36gQceaNWqVVRU1AUXXDB//nynyRhJAn5LAMJ92/XbTs6vgXDX+mCxiEYXia4viuE7xbAtostzosEFoqxQHJ4jVt0mZjcXK68XB74QxblaDgZIgARIgARIgARCnIB37e7Tp09/7LHHpk2bBuE+ZcqUIUOG7N69u3nz5nroRUVFgwYNQuSsWbOSkpIOHjzYqFFVTwN9aoZJwP8ISOF+Q4Vw/yalcf/qLe5OGy9FfIrcoeNPb7Vb4s/8Kg5/JfewaNF6mLTEtx4uIuKdFsBIEiABEiABEiCBECHgXe3++uuvjx8/fty4caAJBT9v3ryPPvroqaee0sNFzMmTJ1etWhUREYF4GOn1ZxkmAT8nIF1lbtx+ct5Ja7Q15euUxgNqKdz13YOIb9xV7lgh/vQWKeIPzhC5e8Sh2XIPi7GL+KThIjxOn49hEiABEiABEiCBECHgRe0Og/r69euffvpphdJqtQ4cOHD16tUGsv/73/969+4Nn5m5c+c2a9bstttue/LJJ8PCwgzJCm2biszJyUGg2LYZkplziJpVA8ypjrX4LQEI91237Do17xSEe+c5neOvjFfXRj00OD5ZJL8gOk8U2Zuth2ZZD31pydsrDn2JvTwsprzV0LI2N+LfQBfxvJXq4VJhESRgI8C7iRcCCdQXAd/eTW6FhBe1+4kTJ0pLS1u0aKGhRHjXrl3aoQrs27dv6dKlv/vd7+DmvmfPnvvvvx+NnjhxoiHZ5MmTJ02apI9ctGhRbGysPsbk8OLFi02ukdX5F4FiEftqbMS6iPLI8pync1YVrBLeelPjMlHeu2H0/talPyaV/BBXetxyeLb18OwSEXU8rMeR8D6ZYd1LLVH+Bac2reGtVBtaTEsCrgjwbnJFh+dIoDYEfHU35efnu26mpby83HUKj88ePXoU/utwhoFZXRXyxBNPrFixYs2aNfoy8XJqQUHB/v37la0dbjavvfbasWPH9GkQNtjd27Zti7lBQoJvvmuD2QVGFG76ys/H0FQehgKBsqKy3bfsPvmNdJXpPLtzo4FmvaSBG/b0RmmJPwxL/H6Fujwstrz18LI2N5S3vFqE+3JCW9uh561UW2JMTwLVEeDdVB0ZxpNAbQn49m6Cd0liYmJ2dnZ1KteLdndUDDl+/PhxDRnCLVu21A5VAMvLQAFrTjKdO3fOyMiAv01kZKQ+JZagwaaPQS5s+hiTwz5vgMn9ZXUaAQj3Xb/bBeFuibJcNPeiJoObaKfMCDTvJbBf/Ko4uV59sdWSd8ByaKb10EzpQoMV4tvdJKQ7TYwZjamPOngr1QdFlkECkgDvJl4HJFBfBHx1N6Fe113w4hqREN/du3dfsmSJakFZWRnCmg1ea1afPn3gKoOzKuaXX36BmjcIdy0xAyTgcwIQ7jtG7/ht7m8Q7ilzU8wW7lr/8WJr0x6i29/EtfvEkLWi859FXHtRkicOfiG+v0EuMfnjbeLQV6LkrJaDARIgARIgARIggUAn4EXtDjRYIPL999//9NNPd+7ced999+Xl5ak1Z8aMGaO9w4p4rDPz8MMPQ7VjIZpXXnkF760GOla2P1gJlBWX7bhlx4k5J6TFfc5FTYaYa3F3ilWK+EtEt1fFtfvF4DWi8+Mitp0oyRUH/yu+v94m4n8nv/pUWuA0NyNJgARIgARIgAQCiIAXfWZAYfTo0VlZWRMmTIAbTFpa2oIFC9Srq+np6Vh2RmGC5/rChQsfffTRrl27wj8eIh7rzAQQQTY1dAhI4T56x4mvTlgipXBvenVT/+o7RHxiT7mnvSp+W2tbJ36myD8kDn4u9/AGos21cp34VoPlmvHcSIAESIAESIAEApCAd7U7gDxo2wxkli9fro+BI81PP/2kj2GYBPyNgBTut/qxcNfzkiK+l9y7vSZFPBaJhyt8/mFx4DO5SxE/skLEV3mHRF8GwyRAAiRAAiQQigTKSi2ZK5JKVloy40Sr/sJqXLXc50y8rt193kM2gATqTgDCfedtO098abO4f3VR06F+ZnGvrocWq0i8VO4X/12cWCMt8Ydm2UT8f8SB/4iIBJE0UrS/WbQcJMIo4quDyHgSIAESIIGQIYAvIa5/ODz/cA/0eMXrIraN6P6GaHu9X/Xfu/7uftVVNoYEPCMghfvvdmbNypKuMrMvajosQIS7vrcQ8c16i+7/FCMPikE/ik4Pi5gkUZwjDvxbrLhGzG4hVo8VR+aJ0iJ9JoZJgARIgARIIIQIQLh/f6O0cGlb/hEZg3h/2qjd/Wk02Bb/I1BWYhPuM7MsEZYuX3ZpOjwAhbueqhTxl4nuU8R16WLQD+KCh0RMK1GcLfb/n1gxwibi7xBH5lPE65kxTAIkQAIkEPwEykphcRfC8NUj2+H6RwTO+s1G7e43Q8GG+B+BKsJ9dpfEEYn+10ZPWyRFfB/R4w1x3WEx8HtxwR9tIv602P+pWDFcivifxomj31LEe8qX+UiABEiABAKKQObKKhb3yraXy1Ufsr6vjPB1qEb+7hMnTrzzzjvbt2/v69ayfhIwj4AU7rfvzJpht7gHlXDXU4SIb3653GGMz/rRtjrNLFGQIfZ9IvfIxqLNKPmxp5ZXCaubr0XoS2WYBEiABEiABPyXAD5SfvaoyN5u309vF6c3u2rt2WOuzpp7rkbafe7cuS+//HLfvn3vuuuuG264wfB9U3MbzNpIwAwCEO67fr8ra7pNuM/qknhNEFncq+MnRfwVcr94ijjxo211Goj442LfR3KPbCLajhJtIeIHUMRXh5DxJEACJEAC/khAKvVjlUo9e4cMw1+05hv8S/1mq5F237Rp08aNGz/++GMsvo4PJ91yyy0ww19yySV+0ws2hATqk4AU7mN2ZX6RKX3cZ3ZJvDYEhLueH9bDan6l3PFyfdYP9tVpCjLF3g/lLkX89dIS3wIrZ9ESrwfHMAmQAAmQgB8QgFLH02Ooc1jT8W/ODhkoPm1smSVMNDhPNOxi3xMuFMuHS2O80eXdIlebaXaFMbvvjmuk3dG8brbtH//4x9dffw0R36dPnwsvvBBm+DvuuKNhw4a+az9rJoF6JiCF+9hdmf/NtITbhPvIEBPuepwQ8S36yr37myJrpUifKQ59KaSI/0DuUU1FG03E1/Qvib54hkmABEiABEigrgSkUj9eYVO3GdSh14tOGYvFs+V4nVJv1EU0uMC4PnKPN+WqMsKik+8IC+lT6k+rvNfuF7e8vLy4uLioqAiBxo0bv/32288///z777+P76caGfGYBAKQQHlpuRTun0vhnjwjOTGUhbt++KSI7y93iHi8zaNEfGGW2Pu+3KMSbZb4m0XzvsJauz8p+koYJgESIAESIAE3BKRSz3RQ6ieNuaRS71hpU4dxPaGTUakb8wj5W3bFLLnajLZMpFzffYq/re9e0x/a9evXw9z+3//+F87uY8aMmTp16nnnnYdev/XWWw899BC1u+MFwJiAIwDhvnPsTrtwn57cbFSzgOuC1xsMaQ5/d+w93hKZKypE/Amx5z25RzWrEPFXUsR7fSxYAQmQAAmEAgG7Uq8wqMOmXvibQ78tUqnDlF7pAAOlHu2QrAYRkO9JI0uOLdv007dplw4ND9zvqqakpOzatWvw4MEffvjhNddcExZW+XnYW2+9FU7wNYDBJCTg1wSkxX3crszPMkWYSP4iudn1FO4ux0uK+Kvk3uNtkbm8QsRniT3vyl2K+BvkF1ubQcRX/rlwWSJPkgAJkAAJhDyBgiyhXiSFRld74QkHKFDq51bKdOn90kmExzgk8zTCGlbevO+R8LxU+TDZH3/CamR3v/nmm/FyalJSkiOGxMTEsrIyx3jGkEAAEZDC/c5dx/99HMK9y/QuzW6gcK/x6EkRP1DuEPHHIeJniMNfCbjT7Jkm9+jmUsS3g4i/wslfwLJSS+aKpJKVlsw44Ze2jRpTYEIS8DGB0lKxYoVl5cqkuDhL//5CZ2HzccNYPQm4IgALuhLo6qVSaVPPckgPpX5OpVJvmCzwUml4rEOyEIqwwHM94Lqbk5ODF2Szs7MTEhJ80ng4/c+fP3/YsGEREVxnwycjUJ+VSuF+167jn0rhDot78xub12fpIVhWWbE4vsy2Os1XoqjCBzG6RYWIv9wu4vGJaaNP4Rv+5lMYgqPHLgcigdmzBZ5/Hz5sb3ubNuKNN8T11wdiV9jmoCZQeLLCT73Cpg5/GMctzqbUYU1PSJZuMAmdzVfqvpV5blVujezuWNO9Z8+eTz75pEb41VdfXbdu3cyZM7UYBkggEAlAuO++e7dduP+Xwr0+xhALR7YaLPdL/iUyltot8VgE4Nd35B7dUor4mJZiywTdi/xC5B+Rb/fjJSH4GnIjARKoMQEI9xtvFHor3JEjMmbWLMr3GkNkQm8QwEovmjVdGtd3yHUbHbe4DhU29WRbAEo9zjEVY/QEaqTdV65c+cILL+izDR06FOtF6mMYJoGAI1BeVr57/O6MTzKkxf3z5OY30eJer2MIEd96iNzLpomMJXZLPP52/zrVWTV4AGgR6x/BS0JOvGucZWAcCZAAXGVgcdcLdzDBocUiHnlEjBxJ5xleI2YRKDpdxfsFS6o7/RBpXHubQFcy3WZTj4g3q4nBU0+NtHtubm5kZKS+0/AVgUlfH8MwCQQWASnc796d8bFNuH+W3PxmCnevDaAU8VfL/ZJp4vgSsfsNcWyhs8rKRf4h8cubos118kMYyMWNBEjAJYHvv690ldEnhHw/dEhMmiQGDRJ4Va11axHt0ZIb+jIZJoFKAkXZOu8X2wow8pNGDltsuypKvWFnEdHAIREjak2gRtod68xMnz59wgQ847ZvX3zxRXJycsUR/08CAUbAbnGHcLeKZAj30RTupoxgWKRoPVTAPONcu9vasOExgR1L88a0EfEdBBwf8URVBmy71PQ1+qtlSn9YCQn4hkBhoVizRixbJqZPd9WAl14S2NXWtKlU8NDx2q4dJiYKq9VVOTwX6gSkUteWaFRK/YgTJrFtBV4k1VZpRJhK3Qmmeoiq0a8gPsB0/fXX7927d8CAAahzyZIlWOidzu71gJ9F+IKAFO737M74SAr3zp91pnA3exBiWrmqEZId6wyUFYr8dLmLlVUS4xPWkO8Q9JqaV8o+JomavgooHgQdAej1tWvF8uVSsq9eLQoK3PcwJUXk5Qm4vyPvb7/JfetWJ7mw5kKrVpWaXtnpNYkfG+skC6OCmUBxToVSr9Dr2oeK9N3Gn2K8Swqlbl9VHUrdN8uH6BsVIuEaaXes6T5nzpxXXnll1qxZMTExXbt2/e677/r27RsijNjNYCIA4f7LH37J+NAm3P/TucUtLYKpd4HRF6wXiT/6eDlVGBa5ssj4a/dLX12825p7QOTZ9tz99kDeQVFWJPAv9syqfbWEC5h8DIIesl5qen9cnbdq63lEAs4JFBVV6vVVq6ro9RYtRL9+4sorpWX9+HGjyzvuIaw2s3Gj9HeH/8zJk+LoUSni1a4PZ2aK4mKRni53p1vDhtXK+ubN6U/vlFlARRafcVDqh5x0IKa1zqCOTyAli8iGTpIxyhQCNdLuaMlw22ZKk1gJCXiLgBTu9/5y7INj0uL+784tbqVw9xZqV+VCTHd/Q64qg5dTK+U7wkJ+elpJbdjmsTfrXaWc8jJxNqNCxx8QStND4udD0xeLPEj8/VXS4wCaPq6d3d9GWejxr9T0ranpjax47B8EoNfXrbPb16HXz56tbBa0MvQ6dqzg3qmTnORia9lSriqDsPbGqoqfMsUurHEIhxnsMMM7bqguI8O5rIfQz88X2XCXyBY7djhmleWjds1CrznhqJgGDZxkYZSPCRTnSqWOF0mx8ItaBEY+3nTY8Oe30vVFKfVGDokY4TMCNdXuPmsgKyaBeiIghft9vxx73ybc/69zi9so3OuJrAfFYCFILAdpXN99ipsFIuEEH9ta7s0uq1Kn1PTHpKaXpnqbkV7Z7PGbBE2fu0/uhs0aIfASlV7Ny/A5csKAWriRgLkEIKB//tmu13/8sYpeb9bMrtch2Tt3tut1feuwjjuWgzSs7w7hXsP13bEORbt2cnfcMBnAmhSatR4BvcEexn6scqPOOuZFTHx8tbIeij+c6sMptfqNLMkT2Tt1L5Vulw8tHTcs3auUuub9EtnYMRVj/IdAje6e0tLSf/7znzNmzEhPTy/C35iK7SSew3EjgUAgIIX7/b8ce+8YTL0Xfnphi99RuPt62CDfk0aWHFu26adv0y4dGl6X76pKTZ8k92Z9qvSqrFQUHLMLes0DR/rhKE2/V+TuFcer5JCL28S2r+p7Y3tZFgvSU9NXRcWjOhKAp4rS63Bh/+EHaeHWNrw8CqWudqwKoezo2lnHAGQ6loNctqzk2283DR2a1r9/eL18VxX1wmEGu9OVKUpKpK+Opuz1sh5hiP7cXLF7t9wdN5QMnx9lnjdY63HYqJH7LjuWyRgBpZ6zq8qS6vhz57jhS3kGm3pUE8dUjPFnAjXS7pMmTfrggw/+9Kc/Pffcc88+++yBAwfg/q5fdsafe8i2kQA+HvzrA78ee9cu3Fve3pJM/IKANay8ed8j4Xmpzft6xYMF7jdwoMcuLq/SX2h6LGcGC71e0CNst9PvEbl7qqTHgTVSYFli5W8jveorVr/BryA1vREWj6slAL2+fr20ryu9jhdJtQ0+LXq9brVqZ2oUgFjv27c8L+9I376p9SLc3dYKw7kS305TnjlTaaQ3yPpjxwR0Pxx1sIOG4xYTU62sh7LHgwJukkBJvlTq8ptHFd4vUqkbXiISIrq5g1JvSoCBTqBG2v2zzz57//334fGOLzTdeuutHTt2xOuqP/3000MPPRTo/Wf7g56AEu5Hpx2VFvdPLmz5ewr3oB9zdx2Epo9rK/fmV1ZJWlYiNX3lq7HKCQea/pB8R/bMr3I3bNYou6bXC3pIfKnpbc7IhvQ8DD0C0Kl6vQ5rtLY1aVKp17t0CaqFGuHsDo987I4bPG2ysuwGe4OshxX/1CnpMrRnj9ydbnAiwpzB0VqPSMx/gva2KzlbqdSVXsdfKkelHtWs0vtFLQITnegUIyMDmkCNtHtGRgaWeEc/4+Pjs/HSihAjRozAwpEB3XM2PhQISOH+4K9H/2UT7h9f2HIMhXsoDLunfcTK8fLFVnj+9q1SBDQ9lkiTzjYVal6FpaYvFGd+kbthC4uusNNXXc4SNrCgFRcGBCF9CL2+YYPdvo7PJxn0OhZpUyb2iy4KKr1ewyFXb7jC5b17dyc54DukBL2jrEcMnHah+7Fv2uQkb1SUXdPrlb0K41+Y8wNmKy0wer/Il3YcbOpRiRU29YpV1aObBUwf2dA6EKiRdm/Tps2xY8fatWsHi/uiRYsuvvjidevWReEu4UYCfkxACvc//nr0HSncO33UqeVYCnc/Hi1/bho0Pczq2A0bXoRVmr6K781+cfaIkD+9u+Vu2MJiKuz0Nq8bzQkH1jJqegOrQDuEXseajMofBnodTiPaBgdu6HUsDgPJDjtYbf1htHJCIYDl5M87T+6OG96dPXFCGuz1sl47xCksY79/v9ydbnjKYTDYaxIftnxfDor6c6Gs6fLfHfJVHLyCb9iimtqVOgzq6qVS2AK4hSSBGmn3UaNG4XtMvXr1+uMf/3j77bd/+OGHeGn10UcfDUli7HRgEIBw3/PQnqNTbcL9w06t7nD5PaDA6BNb6WcErBFyaRrshjefS4vE2cOVzvR2Zb9fLmlfanvwDS9VwyY1vW2hG03NqwDsatT0Blb+dAj3DxiA8bEkSHbodbygqW3Q61h8XdPr5viga7UHZQC3AkQ29rQ0J/2DcIemdyrroe/xKSssroHdxdepNCmv/Pi1w7g4J9V5HlVaKGf1VZT6HidKPbKJTalXGNTxdimf2nkOPdhy1ki7//Wvf1X9Hj16dPv27VetWnX++efjg03BBoP9CRYCUrg/vOfI20ekxf2DTq3GUbgHy9AGRD/CIkX8uXI3bND0cLOp4ntje18WTvZS0++Uu2ELi7UtelPxaqwS9PgXFjhqegMrsw6h1zdvtuv1lSur6HUsyaLp9a5d+d0is4bEVg9cAc45R+6OGwz2cKOvTtbX5OtUmo43yHqsluNmVgalDp86tZK6WlX9DJR6qbGRWJNRrv2iV+p8Z8YIiccaAffavbi4+A9/+AO828+x3ROX2jYtPwMk4G8EpHB/ZM+Rt/DZTptwv5PC3d+GKFTbA03foKPcDRt+3ZWmVxZ67WVZqenxaRx8RcXhuzjh8bpFb2xfm4JLDzQ9bHXU9Aa89XEIvb5lS6Vet732ZS83IaFSr6emulNy9dEYllFbArgn4DCDHS8YOG5Y/Ef/dSrNCQcB7FgLSH2daqfDzBpFwdNG/3WqpFYlrZtkJCXsSYrbkhS9LqHkZ/mCu6NSj8DSm1Dqtt3u/YJVaPl2u+PgMMY5AffaPSIi4ssvv+Sbqc75MdbPCEjh/uieI29SuPvZwLA5LgiERYkG58ndsMELNk+z09u+OaVs9vgQVQk+jrhN7oYtvEHVxemVrD9HRHDFbAMp94dlZVKvwxkGLjGwr58+XZkFi6jAvg7ndbjEwH/DjeW1Mh9D/kggIkK0bSt3xw0Ge7y3oES8+ldvvM/IKC8rsyhHHXwK17ZBU2FRWuz9cBgffaZ146NJTY4ntcxPal3eum1M0jmNk85rnXRuYstWFtTLjQQ8I+Beu6Pc6667Dgu608HdM8TMZRoBCPe9j+098oYU7he8f0Gru2hxN409K/ICASxWk3C+3A2b1PTptkVvKgS9MtgXZIiSM+L0VrkbtogEu50etnlloYebvrTT8zvnVUhBr8MfWtPrcLTQNuj1K66o1Ov8LOj/s3ce4FEVXxs/KSSQ0DuEQOi9I70LoajAn2pBioKKoiiIgAUBFUQRQUXgExFREZSiKIgg0sEC0psIhJAQIJQASYBAst87e8nNZpNsNmX7O88+y9x75075zS5579kzZ3QybpyBKRy/q+CFHW3VJs0woqvfwYwh1a8dToz570JMscgrQZFXg/B+LqasysdUiLwWEnm51PW4gNhbBf6Nqo6XHDaHhJpLlrwXxj7tCtoiRWiFNyfGY1MCVml3eLdPmTJlx44djRs3DjRZtcH47qYomXcsASXcx5yMmBWBblSbX63ssLKO7Q9bJwFbEVCavpp6mSVEgMb2UkrHGzW9Juhhqr91Qe5cl5gD6mWW8Nu9ruZVJjn6jV8hs4JufAi9fuhQil433S48f/4Uvd6woVCvu/HHwHxoSqn/Z6rUlds6TpokHy8pWyK2bBWf+wohAkxl5QMDB5h8QZruRmBQ3UivZzTjvbY7FXalxQuxRNMmhLPUPez1jOZqX6aMMMhfWmKedsYq7Y7AMoULF95jTDogLy8vanedBjOOJaCE+8snIz40Cvd51co+ReHu2Alh644g4JtPClZXL7OE/ReVnT61oFea/qLcuSYx+9XLLMHHRjPPQ9Drmh5nYL93iwS9fvjwPb2+ZYsKP6InmKc0+zpcYhCAnHpdJ+POGezhgLCMMKhri0qRuXHcTKmr4WOdielyUuQDgjOykOPBr1o19Uqb8PFLd3cqKHuofHwasTvVyZPqlW4qXjzDfWdxiW7z6UJzs5NWaffTGYVLdTMYHI5rElDCfezJiJlKuFedW7Xs0xTurjmR7LWNCPgGSKEa6mWW7sZJ3JmUWJZQ85qp/na03ImRq/vUyywhGoam5k0FPfJ5CpgVdMJDCKYjR5Rexwt6HeHA9QS93rq18ofR9DodkXUy7plRSv2U7vqiMgjaiL2TzZJvoOiR1LUgMAHlc0Uae3sLAtTg1aiRWZPqEMJdt9PrGU3W4x27U+GjixeCHaVNfn7p7E6l++S40u5UacfGMyYErNLuJuWZJQHnIgDhfuqVUxEfGIX7p1WDnglyrv6xNyTgtAQgTZQRsZZ5B6HpdX8bXdAjc/uSJFxVr6t7zW9BfBul5mGkTx3OMk9+85L2PcZaQ12vQ7Kb6nXsAaTr9SZNhHrdvjNjx9aSEtNT6rfNe4B4rCk2dWOsRmyx7OVtXsz2x1DYlSurV9qEz/Ply/fWzqaV9bDlQ9mHhalXuglu9GYxLnVZD+d7PFEwuQoBq7T7E088ke54Fi5cmO55niQB+xBQwn38qbMzzqK5qnOqBo2gcLcPeLbi1gSg6eG2i5dZunND2elN1TzyStNfloQr6nU1jeuufzGjnR47WBl9b6Dv1auC2FLTQ98gnJ9mX8c7BI2eoIpM9TqMlEzuRgBKHe5h2nLSe1HVj0lSukq9ZnKgRk2pV3CIUs8Sf/jDwCsGL0QjTZuwOxU86U01vW6tRwbmfKy9xgurO9Im+IbBk16X8mYSH/4/TE5FwCrtftVksT3CvR86dCgmJqZjx45ONRJ2xtMIKOE+4dTZ94zC/ZOqQc9SuHvaR4DjtS8BOMYUrqNeZgkLYdPxvTmtLPSQ9Xhd2WN2h2C/WFjoTQW9ylcQPDZkK0GvHzuWotex246eoNdbtbrnD3PffUK9rpNxh4whSbAfgqbUtXdsWoxATGYJ+xYXNCp1PJFqbjB4hnSETd2sX7l7iDWsISHqlTbhC4Igp6ZS3jSPJbN378rZs+qVbkKknYxkPTx/uCYkXWg2PWmVdl+1apVpJ5KSkkaMGFE53V90TMsxTwI2IwDhfvrV02enJwv35yjcbcaaFZOAZQJYwFq4rnqZpYRr9+z0KaZ64z6ycKaH+w1eV+7FxE65D7u+37PNJ8ey1Oz0cNlPkyBHjh9P0evQH3rKm1datlTB19u3F+h1xuXQybh2BkodnyV9OSnCNWIrYuxJbJZUICbNpm40qMNVHZ8ibx+zUh51CIM9HGbwsrA7lanB3jSPgDnXr6uXhd2pTIPhmOYh+tE0U64TsEq7m7Xq7e09evTo9u3bv/LKK2aXeEgCdiCghPtrp8PfDUdbVT6uEkThbgfobIIEskoAgSb96kmReub3JcSk9r0xCnr4OcB+j9A3eF3+y/yWvKU0TW8IDDkRXX/T3nqb/w7evKPA+fMpugACXdfrTZtSr5sjdL1jpdTPJNvUtajqUOrx5gPx9pdCNVMtKsVPOp6t1M0RZXZsYXcq3ArVbirlTQ322I8WWw7jKl67d6fTDFaBm0p50zxcdLjIJB1k1p3KjnZHzSdPnryLn1iYSMDuBJRwf/10+DSjcP+oSrmR2MGOiQRIwHUIYEMovIqk8dhVmj451g0cIZBXh6cNd278F1Zg05F6m4+033y0fVRMSiAp/zy3WtQ83OG+U+1bXGnazCdv0WBjiPryAssrk2sRUEo9PJVSh00dy6bNEpR6QQRNSjaow6aevxKVuhmk3D3UdqeqkSZOFVqBcId/GtS89jKT+Nfww1ucnDihXmkT7PElStxbO2vmXo9D7k6VlpjpGau0O6zs+j1QTlFRUWvWrBk8eLB+khkSsA8BJdzfOB0+1SjcZ1cp9zyFu33AsxUSsD0BpekbSJEGaAn+MAhuvWkTXGIMeJ07560375fnTosa+9pX39Chxq/NKv+Z1y95GeIBvYhIvjKpfW+0Paeg6f1NCjHrOAKYYOwjBu+X60aDupZJR6n7qf0KVHzG5JdS6lbpFseNzYNa9vFRK1zxQqSmtAnCXVfzekZT+VhTe+eO0v147U0TtgpVwe3N1EhvmkdzuOrhyarvwF4TtHCYKVGixAcffJBR8BkPB8rh244AhHvYxLDwd4zCfVaVci9QuNsONmsmAXsTgJw7dUr5rxslu7LkGRO8YrywwLR5c+W8Dhf2Zs3y5Mt3nxiaSMIzum0+xWAP3xtIwJtR6nVpl/kY8pW9p+m1ZbLaPrLYXoea3pxUrh4rpX7WaFPXXF8Oq/1K78aat+GdRwokK3UsKlU29cpU6uaUXOcYDjNVq6pX2oTNFhCwVdPxeDdV9sgjDuatW+p/A7zSTcWKpRjsTWU98gjC453ypJ/u3ZmfxO8JW7Z4bd0aFBjohf9z8IjibMkq7b4J/5UykYBDCSjh/mbYmbfPoBeVP6xcbhSFu0Png42TQG4QgKjD1n+6Xo+ISKkUvrC6XkfGfFsZ/OLuX1S9ijZKuQc51IholUZnGxNBr3xvlKv0zXPqdWlnqlvES6Dp9aA3mqDH6kal6RlFMjUqa46UUo9Q6jwl/AuU+g3zW5VSr5ZiUIdSL1CFSt2ckpseQ14jojxeDRumM0IId13N6xld4iMUJsQ9XgdMf2pLrgb/b+hqXs/oPjnY1SHTtHKljBolERGQx01mzpRy5WT2bOndO9P77FrAKu2OfVXh3V7V5OnpxIkTefLkCQkJsWtn2ZgHEwibFHbmLaNwn1k5+MVgDybBoZOAaxOAtMPeMbpeNw1Lh7+7zZrds69Dr1vzh9achdL0xdSraONUl9AqolXCKq9kvdGTHhktrzQ9wl9HSvSOVLdA0wcEmfjeJG87BU0P3cmkEQBYoNOVuub9gmXHZsnLVwqmVerEaIaJh4oAXGIqVVKvtAkftytX0nevh8qHBw5ccc6cUa90U+HC9wz2aWU9HiRgX4dw79tXWQD0hGcGnFm+3Lnku1XafciQIfCQMdXuf/7554IFCzbjf18mErA9gdOTTp+ZYhTuMyoHv0ThbnvibIEEcpuAptc1yR6uHN/uJQSH1vQ6XGIQKCY7ej25Kkv/QtPnLa5exe5LVUxp+kvKKq9JeU3Na3kEH4T9GK/o7aluQVzwfMmaXjPSazb7gHLur+mVUo8yMagbvV/uXEvFBwdQ6gWq3rOp3/N+qcIfMcwp8TjrBPA9hsMMXvXSxK9CZdhWFp70uoUeGe2lGe/j41WQe7wOH06nYQj30qXVVm6mwh3lcIhGX3xRevZ0IucZq7Q7/N1bYXMLk9S8efORI0eanGCWBGxFIGxy2JnJSrhXer9S8BgKd1txZr0kkOsEYP2CWNde0O56gl5HGEeIdU2vwy/WYUlp+hLqVbxpqj7gLzaiVaYV9DiDrX/gvY1X9LZUtyhNX87oe5NsoYfjjfK9gaa36k9tqtqc4UBBOK+UumlIdYTnN0tePilKXS0qraWcYehuZEaJh7Yn4OcnFSqoV9qEzzLi3mQk67E7BHzccTXdhHvx8+C2ber/KydJVv2H4uXldeNGKme1a9euJWKgTCRgYwJhU8LgLYNGKr1XqfzL5W3cGqsnARLIKQHY1HW9Dl92PUGvY5skTa/DFuRIva73yUIGmj5fKfUq3ixVKSVnL6RxvIHZ/owk3VaxU/CSralugbSFfE+7jyyM906l6bWhpTipG23q2BzXLCmlXsXET11T6v5mpXhIAk5FAF9oOMzgVbt2Ov1CzHPEqv/iC5k4MZ2r2ilY9J0nWaXd27ZtO23atG+//dbHuNoWqh2HrVu3dp5hsCduSSDs7TCsT8XQKk2vVH4shbtbTjIH5Q4EYJTS9bppaAj8xTDV6/nzu/5glaYvrV7Fm6cajCFJaXozT3rlXg9Nn2Dci+qMXEx1h3Isgeu8vkYWFnotrzR91gNbJCV6XdwSdHer18VAKdMh8xqUUr9o7v2CZb5mCT8m5NeVujGqOoI2MiyPGSUeujgBWBawJrVNG0vDQGxK50lWaffp06dDvlevXr2NcWTbtm27fv3677//buUw5syZ8/77758/f75+/foff/xxU/xWmjotWrRo6NCh+jl/f/9bWGbM5NkEzrxzJuyNMDCo9G6l8q9QuHv2p4Gjdz4CiAmj63XEYtcT9DqCPev29QIF9CtunVEOM2XUq0SLVOOEpr95PrXvjXEf2Xho+jvGtbMmv01od0LTB5Y3WSNrdLyBskcwnIw0/dmVsmeUb3yEirK9ZaYy8zeeLcG9U/VEU+qa94sWVR2Ld82SUuqVk23qulL3+GDaZpR46KYEoHCh4OE5gwdb04QH9kyVvWl5O+St0u61atU6cODAJ598sn///nz58g0aNAjO7kWLFrWmf8uWLcPWTvPmzWvWrNmsWbO6dOly/PjxkljQmzoVLFgQ57VzcNFJfZFHHkfgzNQz2DwVw644rWL5cRTuHvcB4ICdkwD+qul6/b//Uvro7S2NG6vg65Ds8IfBRoxM9whADQeUVa8SLVMxUZo+ysT3xijo4UwPlxto+thT6mWWvPNIgFHTpzLVV1Rh7Lf3x5q6lOLxkbKtr9SdpOLt6BFgsCTXPHkppY61pAWNMh0ZhFf3zWdeisck4BkEYHdAOEhElYEI1eW7JkhnzXKihaqYDau0O8qVLVt26tSp2Zi+mTNnDh8+XDOrQ8FjQ9aFCxeOHz/erCro9dJY4stEAiJnpp05/ZpRuE+tWGF8BSIhARJwIAGEaND1uune5tDrjRrd0+vwoKRez9ocKU0fpF4lUsWBkKREuRWV4nuTEgBH0/QnJfakXMi0KaOOP/hm6nJQ6pWMNnWjUsei0oI1qNRTI+KRpxNAHHeEgzTGd7+HAhZ3CHeXjO/+xRdf5M+fv1+/fvqsfv/99/Hx8YMHD9bPpJtJSEjYs2fPhAkTtKvYk7VTp067du1KWzg2NrZChQpJSUmNGjXCQ0LtNKsJbhuTdiM8dpC5Y0xpq7LDGbSsdcAObXlaExHvRZx5XUWVKT+lfNmXy2qoPQ2C54yXXyXnnGusytq61Qs7C27Z4n3iRMoPod7ehgYNDO3bG9q2NbRqZShUKKX7xv8UUw6Zyz6BPKWkCF5ma2QTsauUF7zn48O84vA6Ax96Lzje4F2SMmorqWgzQ4k2hkK1DAU1m3pAqpJQ+Jy2VER4QALy0EPSvTsMFokbNhzq3LlO+/ZqpaedvyiZKh8vbFeZ6VxVq1Zt/vz5HfCDaHLasmXLU089pXu5JJ82//fcuXNBQUE7d+5s0eKeC+Arr7yCexEe3rQo1Dw2e6pXrx7C18yYMWPr1q2HDx8uh4cdkzRp0qTJkyebnJAlS5YE2CoUsGk7zNuPgN9Kv3yL1S+2tx67dbvfbfs1zJZIwOMJXL3qf/hwsYMHix86VDwyMsVL3cvLULHitTp1LtWte6lmzcv589/1eFROBKDcnc2NE2Zl1KHd/qMjfdtmdJXnSYAEnJMAjOOPPvooJDH8ydPtoVU+M+Hh4RUrVjS9HzZynDQ9k5M8lL0u7lu2bFmzZk08Krz11lumdcJ4D7957Qzs7sHBwaGhoRmNyvRGW+TxSLRhw4bOnTtjc1lb1O+ZdUbMiDiz+AzGXn5S+eBXGcfdIz4F/Co5dpoR1Vi3rx8/7qV3Bnq9fn1p1y6pXTtD69aGwoURgB2vCnoBZpyEgIoqsyVD7d6gebf6Jds5SVfZDRJwIQKO/dukeZdYwGWVdsfSUqxVDQkJ0SvCotVi2Ngqs1S8eHH82HABfx+SE/KW/dqhhhs2bPif6TIo470IPoOUXI36FyWRTM/YOe/wDth5vDZtLvz98DOvKuEeMiUk5I0Qm7bFyp2NAL9K9pwRbBu+ZYtyYd+0SY4eTWkZS7Kg17HYFL+wtmnjVaQILmU9UmFKfczZhQDCQSKqDBanmq5VVS174byvNcEi7dJNNkICrkjAUX+bMhW3Vmn3Rx555IUXXihQoAAiRYI+nF5GjRr18MMPZzoTfn5+jRs33rhxY69evVAY7uzIW96QFcHjDx482B3eRkweQyB8RvipV1RQhZBJFO4eM+scqB0JYKNvXa8fOZKqYU2vQ7Ljf3frgoelup0HDiaAqJEIB4moMhDrKfLd+BNK41kZxpR0cKfZPAmQQI4IWKXd4b4SFhZ2//33+yJ+vVGCI0zkO++8Y03LcHTBktYmTZogrDtiRMbFxWkxZ1ADXOGxxxMqmTJlSvPmzatUqRITE4NI8GfOnBk2bJg1lbOMGxA4+8HZU2OVcK/wZoWQN0PcYEQcAgk4A4FLl1L0+uHDqXpUr56yr2t63YofUFPdywOnI4A47m2WI767xEfc65uK7z7LPL670/WbHSIBEsgmAau0O8znCNP+9ttv79u3D/Hd69atC393KxscMGBAdHT0xIkTsTdTgwYN1q1bV6pUKdwLd3mEndEquXr1KuJIokCRIkVgp8faVkSUt7J+FnNpAmdnnj35strWpcLEChUnVXTpsbDzJOBwAtDrW7feC+l48GCq7tStm6LXixdPdYkHLk8A8j2o592oTfv++AU+7nSVcfkJ5QBIwCIBq7S7VkNVY0IeTvRz5879/PPPd+/ebbHyexfhJJPWT2Yz3C2T04fGlHzEfz2FwNkPz54cYxTub1SAt4ynDJvjJIFcJXD5copeP3AgVdV16tzT6+3aCfV6KjTud+DtYyjZLtI3Ti1OzWj7VfcbNUdEAh5JIAvaHXw2bdqEnZVWrlxZqFCh//3vfx5JjIPOHQJnZ509Odoo3F+vEDI5hJvp5g5W1uIZBK5cSaXXTSP9Ym8M3R8mzQbWnkGHoyQBEiABtyZglXaPjIxctGgRdmiCPzr8WxBYvX///hRbbv3BsO3gImZHnHxJCffyr5VHYBl+lmyLm7W7BYGrV1P0+v79KVt2Y3DwMdT0Ouzr1OtuMdscBAmQAAlkSCAT7b5ixQr4xmCzpG7dun3wwQd4DwwMhL87xVaGRHkhMwIRH0X89+J/KFX+1fIV36rIz1JmwHjdcwnExKTo9X37Uun1GjVUMEdIduh14xoiz6XEkZMACZCARxHIRLtjpem4ceOwUBUBIj2KCwdrIwIRH0f8N8oo3CeUr/g2hbuNMLNaFyYAvb5t2731pnv3ptLr1aun6PXSpV14jOw6CZAACZBAtglkot2ffPLJOXPmYF3p448/Dh2PODDZbok3kkDEJxH/vWAU7uPLV3yHwp2fCBK4R+DatVR6PSkphUy1ail6vUyZlPPMkQAJkAAJeCaBTLT7/PnzEZT9u+++wxLVF198sUuXLgaDAVsseSYsjjonBCLnRP73vBLuweOCK06lcM8JS97rDgSuX5ft29Xmpoi59c8/2LouZVBVqypnjA/lbwAAQABJREFUGLjEwB+mbNmU88yRAAmQAAmQQCbaHYAQ0B2bKyGdOHECy1URF7JVq1YPPPBA3759e/fuTYIkYA2ByE8jT4w8gZLBrwRXmlaJPu7WQGMZ9yNw40aKXt+zJ5Ver1IlRa8HBbnf0DkiEiABEiCB3CGQuXbX20F496lTp2KHpjVr1mAB6yOPPHL79m39KjMkkBGByLmRJ54zCvexwZXepXDPiBPPuycB6PUdO+7Z16HXExNThlm5copeL1cu5TxzJEACJEACJJARgSxod60KbIb6kDFdvHgxo0p5ngR0ApHzIk88q4R7uTHlKk2ncNfBMOPOBGJjlV6HMwxcYrCFnaler1QpRa8HB7szBI6NBEiABEjAFgSyrN31TpRkGGGdBTMZEDg3/9yJEUbhPrpc5fcr01UmA0487Q4EoNd37kzR63fvpgyqYkWl17VX+fIp55kjARIgARIggawSyL52z2pLLO9pBM7937l/n/kXoy73UrnKMyjcPW3+PWK8cXEpev3vv8VUr4eEpOj1ChU8ggYHSQIkQAIkYAcC1O52gOyJTZz77Ny/TxuF+4vlKn9A4e6JnwF3HXN8/D29DpeYv/6SO3dSBgqburZfEkzs0O5MJEACJEACJJDrBKjdcx0pK5RzC879+5QS7kGjgirPpHDnR8LlCUCv79ql/GHw+vPPVHodPuu6XodvDBMJkAAJkAAJ2JSAtdo9JiZm+fLlJ0+eHDt2bNGiRf/5559SpUoFMZKZTSfHNSuP+jzq3+H3hHuVD6vQx901p5G9lps3U+n1hIQUJogJY6rXvbxSLjFHAiRAAiRAAjYlYJV2P3DgQKdOnQoVKhQWFjZ8+HBo95UrV4aHhy9evNimnWPlLkcgamHU8eHH0e2gF4Io3F1u+tjhW7dS9Poff4ipXoelQtfriBVDvc5PCwmQAAmQgEMIWKXdR48ePWTIkPfee69AgQJaL7t37/7oo486pMds1GkJRH0RdXzYcTFI0PNBVWbR4u60E8WOpSIAvQ6ZrvnDIGO6awX2NNX1OmKxU6+nAscDEiABEiABRxCwSrv//fff8+fPN+0evGXOnz9veoZ5DycQtSjq+JNG4T4yqMpsCncP/zg4+/Ah0OG2juDrkOxwZDfV62XK3Iu/jvWm2OuUet3Z55L9IwESIAEPI2CVdvf3979+/bopmX///bdEiRKmZ5j3ZALnvzx//Akl3Ms+V7bKRxTunvxZcN6xQ6AjLIyu12Fu11Pp0il6vWpV6nUdDDMkQAIkQAJOR8Aq7d6jR48pU6Z899136D6WHsLTfdy4cX369HG60bBDjiAA4X5s6DEl3EeUrfpxVS5OdcQksM30CUCvI+y6ptexcZKpXi9VKkWvV6tGvZ4+QJ4lARIgARJwNgJWafcPPvigb9++2Ej15s2b7dq1g7dMixYt3nnnHWcbDPtjfwLnFycL92fKVv2Ewt3+M8AWzQlggampXke4GD1hM2htc1N4sVevTr2ug2GGBEiABEjAZQhYpd0RYWbDhg3bt29HwJnY2NhGjRoh7IzLDJEdtRmB81+dPzZEWdzLPF2m6pyqXt4MlWcz1qzYIgHo9d27lfM6TOw7dqjwjnqCc5+u12vUoF7XwTBDAiRAAiTgkgSs0u7ayFobk0uOkp22AYHzX58/Ntgo3J8qU+3TahTuNmDMKi0RwIampnod2yfpqXjxFL1esyb1ug6GGRIgARIgAZcnYJV2/+ijj8wGCp/mvHnzVqlSpW3btj4+PmZXeej2BC58c+GecB9eptpcCne3n3BnGSD0+p49Kfb1uLiUjhUrdk+vw8peq5Z4e6dcYo4ESIAESIAE3IaAVdr9ww8/jI6Ojo+PL1KkCEZ+9erVgICA/PnzX7x4sVKlSps2bQrGtuBMHkPgwpILRwcdlSQpM6xMtXkU7h4z8bk90MRE2bLFa+vWoMBALzigZ2QEuHv3nl6HS8z27RIbm9IP6PV27e5J9tq1qddTyDBHAiRAAiTgrgSssk1NnTr1vvvuO3HixGVjQoDIZs2azZ49GwFnSpcu/dJLL7krHY4rLYEL3144+niycJ9P4Z6WEM9YRWDlSgkJkc6dfWfObIJ35HFGT9DriOf43nvSvbvAYtC8uYwfL+vWKeFetKj8738ye7bs3y8XL8qKFfL881K3LoW7Do8ZEiABEiABdyZgld399ddfX7FiRWXsK2hMcJWZMWMGYkSeOnUKm60yWKQ7f0BSj+3C0gtHByrhXvrJ0tUo3FPD4ZH1BCDT+/YVgyHljshIdebdd5VvOuzr27bJjRspVyHfdfs6ZXoKF+ZIgARIgAQ8j4BV2j0qKuou7GAmCYfavqply5a9Yfo31qQMs25G4OKyi0cfMwr3J0pX/7/qXJzqZvNrt+HAVWbUqFTCHU1rOn7cuJReFC6cotfr1aNZPYUMcyRAAiRAAp5MwCrt3qFDh6effnrBggUNGzYErL17944YMaJjx47IHzx4sGLFip5M0EPGfvG7i0ceO6Is7kNLV/+Mwt1Dpt0mw4RNPSIiw5pbtJB+/ZQLO/R6Rh7wGd7MCyRAAiRAAiTg7gSs8nf//PPPixYt2rhxY39jatKkCQ5xEnCwYhU7N7k7JU8f38XvLx559IgkSukhpasvoHD39M9DDscfFWWpAjivYwUNrAQU7pYw8RoJkAAJkICnErDK7o4Fqdib6dixY1ilClDVjUkjBpO8p6LzlHEr4f6IEu6lBpeicPeUWbflOMuUsVS75auW7uQ1EiABEiABEvAAAlZpd41DDWPyACYcYgqBi8uThfugUjU+r+Hl45VyjTkSyBaBoCBlU4fXu1nCKtVy5aRNG7PTPCQBEiABEiABEkghYK12j4iIWL16NYJCJmDz8eQ0c+bM5Cz/dUMC0SuijzxstLg/XqrGQgp3N5xi+w/pwAHp0uWecIdY10PNII80axZdZew/J2yRBEiABEjAlQhYpd03btzYo0cPbMMEt5k6deqEhYUZDIZGjRq50kDZ1ywSiF6ZLNwHlqrxBYV7FvGxeHoEduyQBx+UmBgVjh2hZiZNSlm0Cos7hHvv3undxnMkQAIkQAIkQALJBKxaqzphwoSXX34ZIWXy5s2LQO9nz55t165dPwSDYHJTAtGroo8MOGK4ayj5WMkaiyjc3XSa7TustWuxE5MS7i1bYjtVefJJCQuTDRvujh69G++nT1O423c+2BoJkAAJkIBrErBKux89enTQoEEYoK+v782bNxFbZsqUKdOnT3fNIbPXmRCI/iH6SH+jcH+0ZM0va9LHPRNevGwFgW++kZ495eZN6dYNel1tlYoEr/d27Qxt20binVFlrKDIIiRAAiRAAiQgVmn3wMBAzc29TJkyJ0+e1LBdunSJ/NyPwKUfLx3pZxTuj5Ss8SUt7u43ww4Y0UcfycCBgu3dHntMfvxRAgIc0Ac2SQIkQAIkQALuQcAqf/fmzZtv3769Zs2a3bt3HzNmDJxnVq5ciZPugYCj0AlcWn3pcL/DylXm4ZI1Ftfw9rXq0U6/nRkSMCOApahvvilvvaVOI3A7PNq9+ZkyY8RDEiABEiABEsgKAau0O+LJxMbGotrJkycjs2zZsqpVqzLITFY4u0DZSz9dOtz3sOGOUbh/ReHuAlPm5F1EFEjo9blzVTenTJHXXxctmIyTd5vdIwESIAESIAFnJpC5dk9MTESAyHrYoFwEzjPz5s1z5vGwb9kjoIR7HyXcSwwoUYPCPXsQeZcJAcSSxRqZZcuUXp8zR0aMMLnGLAmQAAmQAAmQQHYJZP4Dto+PT2ho6NWrV7PbBO9zdgKXfk4W7v1L1Py6Jl1lnH3CnL5/+JXuoYeUcM+TR5YupXB3+gljB0mABEiABFyHQObaHWNBTPdTp065zqDY0ywQuLzm8j2Le78SNb+hcM8COhZNl8Dly9Kpk6xfr9ak/vyz9O+fbimeJAESIAESIAESyA4Bq7T722+/jfjuP//8c1RU1HWTlJ0GeY8zEbi89vKh3ocMCYYSfSncnWliXLYvERHSpo38+acULSobN0poqMuOhB0nARIgARIgAackkLm/O7qN8DJ4x9aqXslrzbCvKvJwhXfKQbFTVhFQwv1/SrgX71O85pKa3nmsepCzqmoW8kgC//6rdl8KD5egIGV3r1XLIylw0CRAAiRAAiRgSwJWafdNmzbZsg+s2wEELv+SLNx7F6/1bS0KdwfMgXs1uWeP2ncpOlqqVVPCvUIF9xoeR0MCJEACJEACzkHAKu3erl075+gte5E7BC6vSxbu/yteaymFe+5Q9eRa8HSPbVNv3JBGjeSXX6RkSU+GwbGTAAmQAAmQgA0JWOsmsW3btoEDB7Zs2TIyMhLd+eqrr7Bbkw37xaptRuDKr1cO9TpkuG0o3ovC3WaUPaniVauka1cl3Nu3F4h4CndPmnyOlQRIgARIwN4ErNLuK1as6NKlS758+f7555/bt2+jj9euXZs6daq9O8v2ckzgyvorB3sehHAv1rNYrWW1vP2s+gDkuFlW4LYEFi6Uvn0F0dx79VIW94IF3XakHBgJkAAJkAAJOAMBq6Qb4sxgS6bPPvssD8I1G1OrVq2g451hAOyD9QSubLhyqKeyuEO41/6uNoW79ehYMl0C770nTz4pSUnyxBPy/feSN2+6pXiSBEiABEiABEgg1whYpd2PHz/etm1b0zYLFSoUExNjesZCfs6cOSEhIXnz5m3WrNlff/1loeTSpUsRvqYXLHhMuU3gym9XDvU4lHQrqVgPCvfchut59RkM8sorMm6cGjkyCxaIr1VrZzyPFEdMAiRAAiRAArlKwCrtXrp06f/++8+0XTi7V6pUyfRMRvlly5aNHj36zTffhJ2+fv368L25ePFiuoXDwsIQRb4NokMz5TYBJdwfMgr3h4rV/p4W99zm62H13b0rw4bJ+++rYeN9+nRJDh7rYSA4XBIgARIgARKwOwGrbGXDhw8fNWrUwoULYRQ/d+7crl27ILLfeOMNa3o7c+ZM3D506FAUhuPNmjVrUM/48ePN7kWo+Mcee2zy5MlYFJuuRR9+9pqrPW7E9lB4v2NMZvXY5xAtax2wT3M5bCXm95ijvY7C4l6ke5FqS6olIi7/HQbmzyFUz7391i0ZONBn9Wpvb2/D/PmJgwcbjN+GbAJxra9SNgfJ20jALgT4bbILZjbiEQQc+23SWrcA2irtDqmdlJR0//33x8fHw3nG398f2v3555+3UK92KSEhYc+ePRMmTNAO8de+U6dOkP5pb5wyZUrJkiWffPJJaPe0V3Fm2rRpUPaml9avXx+AXdcdlzZs2OC4xq1t2eeAT+DbgV4JXnea3AkbGha2MczaO1mOBNIQiIvznTq12eHDxfPkSRwzZneJEufXrk1TKOsnXOKrlPVh8Q4ScAABfpscAJ1NuikBR32bILYtE7VKu8Pc/tprr40dOxaeM7GxsbVq1cqfP7/lerWrly5dgkG9VKlSemHkjx07ph9qGXjgfP755/v27TM7b3qIBwD43mhnYHcPDg4ODQ0t6KCoFngkwox27txZX7xr2lXnycdsijk67WhSgrK411hWw9vfKhcp5+k/e+JUBODs9uCDvocPexUoYFi50tCuXaOcd89Vvko5HylrIAFbE+C3ydaEWb/nEHDst0nzLrFA2yrt/vXXX/fu3RtGbqh2C3Vl79KNGzcef/xxBLEpXry4hRpg7EcyLQDd7Fjp7PAOmNJIm7+66apylbmZVLR70Tor61C4p0XEM9YTCAuT0FA5cUJKlJB167waNbLqvw4r63fyr5KVo2AxEnAGAvw2OcMssA/uQcBR3ya0axmgVYbYl156CQ4tjz766Nq1a2FHt1yj6VXIcR8fnwsXLugnkcfKV/0QmZMnT2KV6kMPPeRrTIsXL169ejWyOG9ajPksEbi6+erBBw4q4d61aO0VtSncs0SPhc0IHD4srVop4V6hgmBPNmyeykQCJEACJEACJOAQAlZp96ioKC16Y//+/cuUKfPcc8/t3LnTmu76+fk1btx448aNWmE4zSPfokUL03tr1Khx8OBBOMxoqUePHh06dEAeXjGmxZi3nkDMlpgU4b6qtk9eH+vvZUkSMCOA9SkI/nTunOBXtx07pFo1s+s8JAESIAESIAESsB8Bq374hhX8QWOC+/yqVauWLFkCeV2uXDlrTONwUh88eHCTJk2aNm06a9asuLg4LebMoEGDgoKCsAIVcd/r1Kmjj7hw4cLIm57RLzFjDQEI9wPdDyTFJxXpUqQ2hbs1yFgmYwK//iq9ewuWzTRvLmvWSNGiGRflFRIgARIgARIgAdsTsEq7692AyzsCtF+9evXMmTNHjx7Vz1vIDBgwIDo6euLEiefPn2/QoMG6deu0pavh4eEIO2PhRl7KBoGYrcnCPbRInR/q0OKeDYa8RSewdKkMGoRgrNKli6xYIYGB+hVmSIAESIAESIAEHEPAWu2uWdy/+eYbOL3Am+WRRx5Zvny5lV0eaUxmhTdv3mx2RjtctGhRuud5MlMCMduShXtnCvdMabFAJgQ+/VRGjhTsnzpggCxeLH5+mZTnZRIgARIgARIgATsQsEq7P/zwwz///DOM7vB3x5ZMZg7rduglm8iUQMz2mAPdDiTFJRWBcP+xjk8++rhnyowF0icAvf7WW/Lmm+rqs8/KRx+JDz9N6aPiWRIgARIgARKwNwGrtDtixXz33XfwlkFG7+ChQ4fola7TcGzm2o5rB7sdVMK9E4W7Y6fC5VtPSpIXX5SPP1YDgXzHy8vL5QfFAZAACZAACZCA2xCwSrvDVUYfMMKxf/vttwsWLMCGqVmKF6nXwEzuEoBwP9D1QGJsYuH7C9PinrtsPa02uLYPGSJLlqhxQ77DZ4aJBEiABEiABEjAqQhkYbXo1q1bETEGMSJnzJjRsWPHP/74w6lG4pmdubYzWbh3LFx3dV2fgJQfRjwTCEedbQJxcdKzpxLuvr6Cp3UK92yT5I0kQAIkQAIkYDsCmdvdER8G60c///xz7NEKf/fbt2//8MMPtthg1XaDdNear+0yEe4/Ubi76zzbY1xXrsiDDwpCuefLp0LKdOtmj0bZBgmQAAmQAAmQQFYJZGJ3x3an1atXP3DgAEKznzt37mPNDTarjbC8DQgo4d7lQOKNxMIdCtelcLcBYc+pEvsutWunhDs2V/jtNwp3z5l5jpQESIAESMD1CGRid//ll19eeOGFESNGVK1a1fUG5749vvZHsnBvT+HuvtNsl5H995907ixhYVKmjGAnprp17dIqGyEBEiABEiABEsgWgUzs7tu3b8fi1MaNGzdr1uyTTz65dOlStlrhTblJ4Pqf1zWLe6F2her+XNcnkD7uuYnXo+rau1datVLCvXJl2bGDwt2jJp+DJQESIAEScEkCmWj35s2bf/bZZ1FRUU8//fTSpUvLli2blJS0YcMGCHqXHK7rdxrCfX/o/sTriYXaFqq3ph6Fu+tPqcNGsHWrtG8vFy9K/fpKuFes6LCesGESIAESIAESIAErCWSi3bVaAgMDn3jiCdjgDx48OGbMmHfffbdkyZI9evSwsg0Wyy0C1/9KFu5tCtVdQ4t7bnH1xHpWr5YuXeT6dWnbVrZskVKlPBECx0wCJEACJEACLkfAKu2ujwrrVt97772IiAiEeNdPMmMfAtf/NhHua+v65s9krYJ9esVWXJHAl19K795y65Y89JCsWyeFCrniINhnEiABEiABEvBEAlnT7hoh7K7aq1ev1TDcMdmLwPXd1/d33p94LbFQ60J1Kdzthd0t25k5U23AlJgogwfLypUqKCQTCZAACZAACZCAqxDIjnZ3lbG5TT9v7LlxoPMBCPeCrQpSuLvNtNp/IAaDvPqqjBmjWsb7woVqGyYmEiABEiABEiABFyLAP93OPlkQ7vs77b8bcxfCvd4v9XwLcMqcfcqcs38wtI8YIZ99pnr37rvyyivi5eWcPWWvSIAESIAESIAEMiRAIZghGme4cOOfG3CVUcK9JYW7M0yIq/bh9m157DG1Yaq3t8ybJ8OHu+pA2G8SIAESIAES8HAC1O7O+wFQwh0W96t3C7agcHfeaXL+niGga69e8vvv4ucnS5ZInz7O32X2kARIgARIgARIIH0C1O7pc3H42Rt7TYT7unq+BTlTDp8Tl+xAdLR07y67d0v+/PLjj9Kxo0uOgp0mARIgARIgARLQCFAROuMn4ca+ZOHevGA9CndnnCLX6FN4uISGyvHjUry4/PKLNGniGt1mL0mABEiABEiABDIiQO2eERmHnVfC/f79d6/cLdCsAIW7w6bB9Rs+elQJ94gICQ6W9eulRg3XHxJHQAIkQAIkQAIeT4AxIp3rIxC7P/aecG9aoP6v9X0L8eHKuSbIVXrz11/Spo0S7pDsO3ZQuLvKvLGfJEACJEACJJAJAWr3TADZ8zKE+7779ymL+30F6v1aj8LdnvDdqa3fflN+7Zcvy333ybZtyu7ORAIkQAIkQAIk4B4EqN2dZR5jDxiF+2WjcF9fL0/hPM7SM/bDpQgsX64Wp8bFSadOsnGj8nRnIgESIAESIAEScBsC1O5OMZWxB42uMhDuTQrUo3B3ijlxyU7Mny/9+8udO9K3r/z8sxQo4JKjYKdJgARIgARIgAQyIkDtnhEZ+52PPRS7v+P+O5fu5G+cn8LdftzdqyWDQaZOlWeeEWSeflqWLhV/f/caIUdDAiRAAiRAAiQgQu3u4E+BqXCvv6F+niJ0lXHwjLhi80lJMmaMvPaa6vvrr8vcueLj44rjYJ9JgARIgARIgAQyIcAwJpkAsunluMNxyuIefSd/o/wU7jZF7caVw0PmySflq6/UED/8UF580Y3HyqGRAAmQAAmQgKcToHZ32Ccg7kjcvo77lHBvSOHusFlw9Ybj45WD+5o1ytD+xRfy+OOuPiD2nwRIgARIgARIwBIBandLdGx3TQn3DvvuXDQK99/q5ylKVxnbwXbbmmNi5KGHZPt2yZtXvv9eHnzQbUfKgZEACZAACZAACWgEqN0d8EmIO2q0uEO4N8hfn8LdATPgDk2ePy9dusiBA1KokPz0k9qJiYkESIAESIAESMDtCVC723uKlXCHxf3CncD6gRTu9qbvLu2dOiWdOwveS5WSX3+V+vXdZWAcBwmQAAmQAAmQgEUCjDNjEU9uX4w7lizc6xmFezG6yuQ2Yg+oD7b2Vq2UcK9YUXbsoHD3gCnnEEmABEiABEggmQC1ezIJ2/8L4b6/w35lcYdw31jfr7if7dtkC+5GAN7tbdsKHGbq1lXCvXJldxsgx0MCJEACJEACJGCBALW7BTi5eSn+eDyEe8L5hMC6FO65Cdaj6kI8mdBQuXZN2d23bJEyZTxq9BwsCZAACZAACZAA92ayy2cg/t94+LhTuNsFtts28vXX0rOn3LwpDzwg69dLkSJuO1IOjARIgARIgARIICMCtLtnRCbXzsefMAr3qITAOkaLewm6yuQaW8+p6KOPVOz2xEQZOFBWrZKAAM8ZOkdKAiRAAiRAAiSQQoDaPYWFLXJKuLffl3AuIaB2gPJxp3C3BWW3rtNgkIkTZdQoNUi8f/ml5OEKZ7eecQ6OBEiABEiABCwQYIxIC3Byein+P6PF3SjcG/zewK8kLe45Repp98PQPnKkzJunxv322/Lqq+Ll5WkMOF4SIAESIAESIIEUAtTuKSxyN6eEOyzukQkBtQIo3HOXrYfUdvu2DBok332n9Pqnn8ozz3jIuDlMEiABEiABEiCBDAlQu2eIJicXbp68qaLKULjnBKJn3xsbK717y4YNykMGq1T79/dsHBw9CZAACZAACZCAkQC1e+5/ECDcYXG/HXE7oKbR4l6KrjK5D9m9a7x8Wbp3l7/+ksBAtTIVW6gykQAJkAAJkAAJkAAIULvn8sfg5qmbCAephHuNgPq/1/ejcM9lwO5fXUSECuJ+9KgULSpr10qzZu4/ZI6QBEiABEiABEjASgLU7laCsqqYEu6wuJ+9na96Pgh3/9L+Vt3GQiSQTOD4cSXcw8MlKEgFca9VK/kC/yUBEiABEiABEiAB4d5MufchuHnaaHE3CvcGmxr4l6Fwzz24nlHTnj3SurUS7tWqyY4dFO6eMescJQmQAAmQAAlkhQDju2eFVsZllXCHxT38dr5q+SjcM+bEKxkS2LRJ2reXS5ekcWPZvl0qVMiwJC+QAAmQAAmQAAl4LAFq91yY+pthRos7hXsusPTQKlaulK5dBbFlOnYUiPgSJTyUA4dNAiRAAiRAAiRgmQC1u2U+mV+9deaWsrifuZ2vqtHiXpauMplDYwlTAp9/Lv36SUKCCgq5Zo0UKGB6kXkSIAESIAESIAESSCFA7Z7CIhs5CvdsQOMtpgTee0+GDZOkJPWObZjy5jW9yDwJkAAJkAAJkAAJpCJA7Z4Kh+WD05NOh70VppeBdzvCQd4Ku+VbxFf5uAfR4q6zYSZzAgaDjB0r48apkuPHy//9n/j4ZH4XS5AACZAACZAACXgyAXto9zlz5oSEhOTNm7dZs2Z/Yb+ZNGnlypVNmjQpXLhwYGBggwYNvvrqqzRFnOKEl49X2MQwTb57RXsd7Hzw1ulb6FnpJ0pTuDvFDLlOJ+7elSeekBkzVI/xPm2aeHm5Tu/ZUxIgARIgARIgAQcRsHl892XLlo0ePXrevHkQ7rNmzerSpcvx48dLlixpOt6iRYu+9tprNWrU8PPz+/nnn4cOHYoCKGlaxhnyIW+EoBuQ7wlXEgK/Dbx94TYOy40pV2VGFWfoHvvgKgRu3pSHH5bVq5WhfcECGTLEVTrOfpIACZAACZAACTiYgM21+8yZM4cPHw45joFCwa9Zs2bhwoXj4SJgktq3b68fjRo16ssvv9y+fbuZdr9tTFqx69evI3PHmPQb7ZMJGh8E4X5u1jkfUf4NZV8sW2FaBXTEPq2zFTcgcO2a9Onjs3Wrt7+/4ZtvEnv0MHjyx0f77vAb5AYfbA7B4QT4bXL4FLADbkPAsd+mTP8m2la7JyQk7NmzZ8KECdp0ent7d+rUadeuXRnNrsFg+P3332GYnz59ulmZadOmTZ482fTk+vXrAwICTM/YJx/wZ0AeyYO2DL6Go+2PHl171D7tshU3IBAT4z95cvPTpwvny3fntdf+9PW9vHatGwwrp0PYsGFDTqvg/SRAAkYC/Dbxg0ACuUXAUd+m+Ph4y0OwrXa/dOlSYmJiqVKl9E4gf+zYMf1Qz1y7di0oKAi2dR8fn08//bRz5876JS2DBwD43mh52N2Dg4NDQ0MLFixoVswOh2E7wiJ3RUK4e931qru3bvBrwXZolE24AYGwMOne3ff0aa+SJQ0//SQNGzZzg0HlcAiwLuA/R3zf8+RRz8NMJEAC2SbAb1O20fFGEjAj4Nhvk+ZdYtYl00PbanfTliznCxQosG/fvtjY2I0bN0KjV6pUydSRBvf6G5NpJfhjb/+/91ioGvl+ZPk3yx9seBDCPXxyuLePt+YHb9o35knAjMChQ4IVHOfOqQ1TN2zwqlqVUjWFkEO+yynNM0cCbkSA3yY3mkwOxcEEHPVtylTc2la7Fy9eHHb0Cxcu6PiRL126tH6oZ+BOU6VKFRwizszRo0fhIWOm3fWSDsxAuGOhasiUEHi9H1x7EBZ3CHecQZco3x04L87fNNzEHnhArl6V2rXl118lKMj5u8wekgAJkAAJkAAJOCMB28aIRNyYxo0bw5SuDT0pKQn5Fi1aWCaBYnCesVzGIVcNiQYId1OZjjzO4LxD+sNGXYLAunXSqZMS7vjgb91K4e4Sk8ZOkgAJkAAJkICTErCt3R2DhgPM4MGDEb69adOmiBEZFxenxZwZNGgQHNxhX0cZvKNA5cqVIdnXrl2L+O5z5851QmAVJ1VM2ytTKZ/2Ks94OIFvv5VBgwTR3Lt2leXLJTDQw3lw+CRAAiRAAiRAAjkiYHPtPmDAgOjo6IkTJ54/fx7+MOvWrdOWroaHh8NPRus7BP2zzz4bERGRL18+RHn/+uuvcVeOhsWbScAJCMyZI88/L9g/9ZFHZNEi8fNzgj6xCyRAAiRAAiRAAq5MwObaHXBGGpMZpc2bN+tn3jYm/ZAZEnB1AtDrU6bIpElqHCNHyuzZkvyg6uojY/9JgARIgARIgAQcScAe2t2R42PbJGB3AklJMmqUfPKJahjyfeJE8fKyeyfYIAmQAAmQAAmQgDsSoHZ3x1nlmBxHICFBhgwRuLlDr3/8sTz3nOO6wpZJgARIgARIgATcjgC1u9tNKQfkOAJxcdK3ryCwjK+vLF6s3NyZSIAESIAESIAESCAXCVC75yJMVuXRBK5ckQcfFIRyz5dPVq5UgWWYSIAESIAESIAESCB3CVC75y5P1uahBCIj1baphw9LkSKyZo0K5c5EAiRAAiRAAiRAArlOgNo915GyQo8jcOKEhIZKWJiUKSPr10udOh5HgAMmARIgARIgARKwDwHb7qtqnzGwFRJwIIG9e6V1ayXcq1SRnTsp3B04FWyaBEiABEiABNyfALW7+88xR2g7Alu2SPv2cvGiNGwo27dLSIjtmmLNJEACJEACJEACJCDU7vwQkEA2CaxerXzcr1+Xdu1k0yYpVSqb9fA2EiABEiABEiABErCSALW7laBYjARSEVi0SHr3ltu3pWdPFRSyUKFUV3lAAiRAAiRAAiRAArYgQO1uC6qs080JfPCBDB0qiYlqG6blyyVvXjcfL4dHAiRAAiRAAiTgJASo3Z1kItgN1yBgMMiECfLyy6q3eF+4UG3DxEQCJEACJEACJEAC9iFA3WEfzmzFHQjcvSsjRsiCBWos06fLK6+4w6A4BhIgARIgARIgARciQO3uQpPFrjqSwK1b8uijsmqVeHvL/PkybJgjO8O2SYAESIAESIAEPJMAtbtnzjtHnTUCCCbTq5cKJuPnJ99+q1apMpEACZAACZAACZCA/QlQu9ufOVt0MQLR0dKtm+zZI/nzy48/SseOLtZ/dpcESIAESIAESMBtCFC7u81UciA2IRAeLp07y7//SvHi8ssv0qSJTVphpSRAAiRAAiRAAiRgDQFqd2sosYyHEjhyREJDJTJSypeX9eulenUP5cBhkwAJkAAJkAAJOAkBxoh0kolgN5yOwJ9/Sps2SrjXrCk7dlC4O90EsUMkQAIkQAIk4IEEqN09cNI55MwJbNgg998vV65Is2aybZuUK5f5LSxBAiRAAiRAAiRAArYmQO1ua8Ks3/UIfP+9PPCAxMUpT/fffpNixVxvCOwxCZAACZAACZCAWxKgdnfLaeWgsk9g3jwZMEDu3JH+/eWnn1RsGSYSIAESIAESIAEScBIC1O5OMhHshuMJGAzyzjtq51RknnlGliwRf3/H94o9IAESIAESIAESIAGdALW7joIZjyaQlCQvvSSvv64gvPGGfPqp+Ph4NBAOngRIgARIgARIwAkJMEakE04Ku2RvAvCQeeIJ+fpr1e6sWTJqlL07wPZIgARIgARIgARIwBoC1O7WUGIZdyYQH69c29esUYb2RYtk4EB3HizHRgIkQAIkQAIk4NIEqN1devrY+ZwSiImRBx9U4dvz5pXly1V4GSYSIAESIAESIAEScFoC1O5OOzXsmM0JREVJ165y4IAUKiQ//yytW9u8RTZAAiRAAiRAAiRAAjkhQO2eE3q814UJnDwpoaFy6pSULi2//ir16rnwWNh1EiABEiABEiABDyFA7e4hE81hpiKwf7906SIXLkilSoItVPHORAIkQAIkQAIkQALOT4AxIp1/jtjDXCawfbu0a6eEe/36ytOdwj2X+bI6EiABEiABEiABmxGgdrcZWlbslAQQT6ZzZ7l2TXm3b96sHGaYSIAESIAESIAESMBVCFC7u8pMsZ+5QOCrr6RnT7l1S8WWgY974cK5UCerIAESIAESIAESIAG7EaB2txtqNuRgArNny6BBkpgojz8uK1dKQICD+8PmSYAESIAESIAESCCrBKjds0qM5V2PgMEgb7whL76oeo53bMCUJ4/rjYI9JgESIAESIAESIAHGmeFnwM0JwND+3HMyf74a5jvvyIQJ4uXl5kPm8EiABEiABEiABNyVALW7u84sx6UI3L4tAweqDVOh1+fOlaefJhYSIAESIAESIAEScGEC1O4uPHnsumUCsbHyv//Jb78pD5lvvpF+/SwX51USIAESIAESIAEScHYC1O7OPkPsX/YIXLokDzwgf/0lgYGyapWKC8lEAiRAAiRAAiRAAq5OgNrd1WeQ/U+HwNmzEhoqx45JsWKydq00bZpOGZ4iARIgARIgARIgAZcjQO3uclPGDmdCAJIdwh3yvVw5Wb9eatbMpDwvkwAJkAAJkAAJkICrEGCMSFeZKfbTKgK7d0ubNkq4V68uO3ZQuFsFjYVIgARIgARIgARchQC1u6vMFPuZOYHff5cOHQSe7k2ayLZtUr585rewBAmQAAmQAAmQAAm4EAFqdxeaLHbVEgFsldqtmyC2TMeOAhFfooSlwrxGAiRAAiRAAiRAAq5IgNrdFWeNfTYnsGCBCgGZkCC9e6vFqQUKmBfgMQmQAAmQAAmQAAm4AQFqdzeYRI8egsEg06fL8OGSlKTev/tO/P09GggHTwIkQAIkQAIk4MYEqN3deHLdf2jQ62PHyvjxaqQTJsj8+eLj4/6j5ghJgARIgARIgAQ8lgBjRHrs1Lv8wO/elWHD5Msv1UBmzJAxY1x+RBwACZAACZAACZAACVgmYA+7+5w5c0JCQvLmzdusWbO/sNFlmvTZZ5+1adOmiDF16tQp3TJpbuIJjyZw86b06aOEOwztixZRuHv0h4GDJwESIAESIAHPIWBz7b5s2bLRo0e/+eab//zzT/369bt06XLx4kUzvps3b37kkUc2bdq0a9eu4ODg0NDQyMhIszI8JAGdwLVr0rWrrF6tXNsRXmbwYP0KMyRAAiRAAiRAAiTgzgRs7jMzc+bM4cOHDx06FBTnzZu3Zs2ahQsXjtc8lJPBfvPNN8lZWbBgwYoVKzZu3Dho0CD9JDK3jUk7c/36dWTuGJNpGbvl0bLWAbu1yIZ0AhcuyIMP+u7f71WwoGHVqsQ2bQzG2dCvM+NKBPhVcqXZYl+dmwC/Tc49P+ydKxFw7LdJa90CL9tq94SEhD179kzAKkJj8vb2hksMjOsWOhQfH49OFy1a1KzMtGnTJk+ebHpy/fr1AQEBpmfsnN+wYYOdW2RzFy4ETJrUIioqT6FCt958c9eNG9cREZLJ1Qnwq+TqM8j+Ow8BfpucZy7YE1cn4KhvE5SwZXS21e6XLl1KTEwsVaqU3gnkjx07ph+mzYwbN65s2bKQ+GaX8AAA3xvtJOzummtNwYIFzYrZ5xBPF5jRzp0758mTxz4tshUQOHRIRozwjYryCgkxrF3rU6VKa2JxdQL8Krn6DLL/zkOA3ybnmQv2xNUJOPbbpHmXWGBoW+1uoeF0L7377rtLly6F+zsWtpoV8Dcm05PQzY6Vzg7vgCkNt8/v3CkPPCAxMVKnjvz6q1fZsnxqcp8551fJfeaSI3E0AX6bHD0DbN99CDjq24R2LUO07VrV4sWL+/j4XICHcnJCvnTp0slHqf6dMWMGtDs8YerVq5fqAg88nsAvvwh+iYFwb9lStm6VsmU9nggBkAAJkAAJkAAJeCQB22p3Pz+/xo0bY+GpxjYpKQn5Fi1apEX93nvvvfXWW+vWrWvSpEnaqzzjyQS+/VZ69BAEhezWTdavlyJFPBkGx04CJEACJEACJODRBGzuMwMn9cGDB0ORN23adNasWXFxcVrMGYSRCQoKwgpU4J8+ffrEiROXLFmCMPDnz5/HmfzG5NEzw8EbCXzyibzwghgM8uijKo57Zr8jkRoJkAAJkAAJkAAJuDMBm2v3AQMGREdHQ5pDlDdo0ACWdW3panh4OMLOaGjnzp2LiDR9+/bVSSMe/KRJk/RDZjyQAPQ6AgtpsYVGjpTZsyX58+KBMDhkEiABEiABEiABElAEbK7d0cZIYzLjjQWp+pmwsDA9zwwJgEBSkjz/vHz6qYIB+f7GG+LlRTAkQAIkQAIkQAIk4OkE7KHdPZ0xx59FAgkJaqvUpUuVXofPzLPPZvF+FicBEiABEiABEiABNyVA7e6mE+uyw4qLkz59EAVSubYvXiwPP+yyI2HHSYAESIAESIAESCC3CVC75zZR1pcDAleuqCDuf/wh2DB35Urp0iUHdfFWEiABEiABEiABEnA7AtTubjelLjugyEgl1g8fVlEg166V5s1ddiTsOAmQAAmQAAmQAAnYhgC1u224stYsEjhxQjp3ljNn1L5LCOJeu3YW72dxEiABEiABEiABEvAAArbdm8kDAHKIuUBg715p1UoJ96pVZccOCvdcQMoqSIAESIAESIAE3JIAtbtbTqsrDQrBQtu1k+hoadhQtm+XkBBX6jz7SgIkQAIkQAIkQAL2JEDtbk/abMucwI8/SteucuOGku8Q8SVLmhfgMQmQAAmQAAmQAAmQgE6A2l1HwYy9CXzxhfTuLbdvS69esm6dFCxo7w6wPRIgARIgARIgARJwLQLU7q41X+7T2xkz5Ikn1P6pQ4fK999L3rzuMzSOhARIgARIgARIgARsRIDa3UZgWW2GBAwGGTdOxo5VBfD++efiy3BHGdLiBRIgARIgARIgARJIIUDRlMKCOTsQuHtXnnlG6XWk6dPllVfs0CabIAESIAESIAESIAE3IUDt7iYT6RLDuHVLHn1UVq0Sb2/57DPlM8NEAiRAAiRAAiRAAiRgPQFqd+tZsWSOCFy/rtakbtok/v6ydKnKM5EACZAACZAACZAACWSJALV7lnCxcDYJXLwo3brJP/9IgQKCuJAdOmSzHt5GAiRAAiRAAiRAAp5MgNrdk2ffTmPHhqmhofLvv1KihIoF2aiRndplMyRAAiRAAiRAAiTgZgSo3d1sQp1uOEeOKOEeGSnly8uGDVKtmtP1kB0iARIgARIgARIgAVchwBiRrjJTLtnPP/+UNm2UcK9VS3bsoHB3yUlkp0mABEiABEiABJyHALW788yFu/Vk/Xq5/365ckWaNZOtW6VcOXcbIMdDAiRAAiRAAiRAAnYmQO1uZ+Ce0tx338mDD0pcnHKY+e03KVbMUwbOcZIACZAACZAACZCA7QjQ3912bD235rlz5bnnBPunDhggixeLn5/nouDISYAESIAESEAjkJiYeOfOHdJwfgKYJl9f31u3bmHKbNpbPz8/b2x5k8VE7Z5FYCxukQD0+ttvy8SJqtCIEfLxx+LjY/EGXiQBEiABEiABdydgMBjOnz8fExPj7gN1k/FhvkqXLn327FkvLy+bDgnCvWLFilDwWWqF2j1LuFjYEoGkJHnpJfnoI1UG8n3SJLHxZ95SZ3iNBEiABEiABJyEgCbcS5YsGRAQYGs56CRDduluJCUlxcbG5s+fPxtGcesHjlbOnTsXFRVVvnz5LH0qqN2th8ySlgjgZ8ChQ+Wbb1SZ2bPlhRcsFeY1EiABEiABEvAQAvC7gMUdwr0Y1365yJRDVSckJOTNm9em2h0wSpQoAfl+9+7dPHnyWM+G2t16ViyZIYH4eOnXT9auFV9fWbRIHnssw5K8QAIkQAIkQAIeRUDzcYfF3aNGzcFaQ0DzlsHTHbW7NbhYJtcIXL0qDz2kwrfnyyfLl0v37rlWMysiARIgARIgAfcgkCWnCPcYMkeRKYHsfSpod88ULAtYIhAVJV26yMGDUriw/PyztGplqTCvkQAJkAAJkAAJkAAJ5IQAtXtO6Hn6vSdPSufOcvq0lCkjv/4qdet6OhCOnwRIgARIgARIgARsSiDLQSVt2htW7kIE9u9XVnYI98qVZft2CncXmjp2lQRIgARIwOkJJCXKhc0S9q16Rz6XEiLejBo1qkqVKliIWapUqVatWs2dOzceq9aMKSQkBF4cSIGBgY0aNfr+++9xWj+pXdLfhwwZot2lvW/fvh21YT1uvnz5atSo8eGHH5pe1fNhYWF6DVrmjz/+0K/qGdNicApHh99++22EbtQLeHKGdndPnv3sj33bNuXjfu2a1K8v69ZJ6dLZr4p3kgAJkAAJkAAJpCJwdqXsGSXxEfdOBpSTxrMluHeqMlk/OHXqFOR14cKFp06dWrduXX9//4MHD/7f//1fUFBQjx49tPqmTJkyfPjw69evf/DBBwMGDMClv//+W9uiaOfOnX369Dl+/HjBggVRGBrdtAuQ+yNHjqxXrx4y0PFPP/00Mk899ZRpGT3/22+/1a5dWzu0EH5HK3b79m1UOGzYsDJlyjz55JN6JR6bod3dY6c++wOHX3toqBLubdrI5s0U7tknyTtJgARIgARIwJwAhPu2vinCHZfjI9UZnM9ZevbZZ7Fd6O7du/v371+zZs1KlSr17NlzzZo1D8Eal5wKFCiAbYmqVas2Z84cqPOffvoJcQxxBqlo0aIohWCX2mGhQoWSb1L/NmzY8JFHHoEih51+4MCBXbp02QY7XwYJel2rBO8WQqxoxSpUqPDYY4/hqeOff/7R6sPjROfOnYsXL44+tGvXTj8Pw/ykSZMQLh2PJWXLln0hOV411P/LL7+M5xA8TjRr1mwztIsrJ2p3V549R/R98WLp1Utu3VJ2d/i4Y4kqEwmQAAmQAAmQgFUE4PVxN87SK+G67H5BxMw5xHi4e5TgqoXbLbqUXL58ef369c899xz0q1lX4btidgaHUPlQ1QhznvZSpmf27t0LIz1UdUYlYebHM0Dr1q1Xr16dURnT83je2LNnD2S3dvLGjRuDBw+GMR7+NlWrVu3evTvO4NKKFSvgqzN//vwTJ0788MMP+G1BK48fBHbt2rV06dIDBw7069eva9euKGBav2vl6TPjWvPl4N7Ce230aNWHQYNkwQLJyk4CDu45mycBEiABEiABxxNIjJfv8merGwa5GSHLU5m6zevpHyu+5rpcL/Pff//BLF29enX9DOzWt2CKE4Ggnz59un4eGUh2+Mxcu3atY8eOpuczzZcrVy46OhqbDcH+DS+XtOWxWSlqhhEd2x5Bavfq1QsiW/fYMSvfsmVLFENnECMf7jeDID6MybRX8PmBF9CWLVsefPDB8PBwGPI7deqEpw5Y35s2bYriOPnFF1/gHZZ4HMIAv27dOpyB45BWm8u9U7u73JQ5psN4mH/9ddE+5y+9JDNmiDd/s3HMVLBVEiABEiABEsgFAn/99Rc2EIU7ClxK9OrGjRv3+uuvQ9NDZL/77rsPPPCAfsksgwLaGXjIzJs3T8vDTyY2Nhbm8PHjx2OBKbxozO7CA8NozQooct9992FX0ffffz8j7b5s2TL49kC4Hzp06Pnnny9SpAi6hAovXLiATsL15eLFi/DFx1pbSHOch0191qxZ8AWCZR3GePgC4dcD+PSjDLyA9J5gvBac7PViTpuhdnfaqXGijiUmyrPPyv/9n+oS5Pv48ZLez2tO1GF2hQRIgARIgASckYBPgMA6biFd3CqbM97jsP1aKdk2w7tRecYJShq+MVhpqheBxkXebMnp2LFjEUAGuhxRaNL1pdFv37dvn5bXlq5q+YoVKyIDZxXIa5je02p3/XYtAzeYDRs2mJ3UD4ODg9FtHELBnzx58o033kCdiJADhxm4AM2ePRuu8HBtb9Gihebbg/IYIFa4ok449+OpAPZ4PEv4+PjA5Qbves36g4d+xoUy1O4uNFmO6SqexgcOVBumwtCO5+rhwx3TDbZKAiRAAiRAAi5PAKavjN1a1OhKhwqiymBxqrnLu5c6j6veKQI0SzRgacb6zk8++QQG7LQu73pVsItrclk/k1HGcjFY9E3N+RlVggcARI/J6KrpeShvuOJAo0O779ix49NPP4VlHQXOnj176dIlvSQeRWBuR4IjEEJVwuiORbSwu8NC3wYRNtwiUbu7xTTabBBY+/G//8nGjeLnJ0uWSJ8+NmuJFZMACZAACZAACUCaIxwkosoI1o/qK1aNa0kbz8q2cNe4Qu/C0bxJkyawXiOYI1zJEbDl2LFjjRs3zjl4xKWBiznkMqraunXrjBkz9DAveGBYtWrVRogJkS+//BLx2qGnkV+5cuXChQsXYP1cBgnGdQSkh2SHBIeVvUOHDpqNH+tTv/rqKwwEsSzxQ4H+08GiRYsg02HLDwgI+Prrr3Eehnk8tMAvCL7y8LNHu3DHR08wfAvuQBl0x1lOU7s7y0w4YT/wHItn2r//Fri0/fCD3H+/E/aRXSIBEiABEiAB9yKAOO5tlqeJ7z4r5/HdK1eujAgwWKM5YcKEiIgIeJvUqlULazfhXpJzgjC0o9rTp0/DxRwNYfErQrxr1cIuDo8XvYm33nrrzJkzKAahD4/2vn3xoJJ+wqpTXIDFHbZ5WNnfeecdrdznn3+OpavYPQpOMhgOhqCdx6JVOMTDnx4KHn47CHCp+bVjZSq2dhozZkxkZCR+WGjevDkWtqbfpCuc9XLFTarwmIWInlj+bOpiZU/aWDaxdu1afIwsBCW1Z39s0dbZsyqI+7FjUqyY/PILFpTYohHW6ekEPOGr5OlzzPHbiwC/TfYineV2sO4TihaO4HD2yMLN2Es1epvcjJJ8ZaREmxxa3LPQLouK4DkEUhMiEz9N2JRHup+NTFUu7e42nRRXrRySHcId8r1cOcEaEuMvYK46FvabBEiABEiABFyPAJxnSrV3vW6zx7YnYNvnCdv3ny3kPgE4ybRurYQ7JPvOnRTuuU+YNZIACZAACZAACZBA9ghQu2ePm9vehZUk2Ifh8mXlJIPNjIOD3XakHBgJkAAJkAAJkAAJuBwBaneXmzIbdnjFCrU4NTZWLUuFiC9e3IZtsWoSIAESIAESIAESIIGsEqB2zyoxty3/2WfSvz+2QVaBINeskQIF3HakHBgJkAAJkAAJkAAJuCgBancXnbjc7LbBINOmyVNPYWG1el+2TPz9c7N+1kUCJEACJEACJEACJJArBKjdcwWjC1cCvT5mjLz6qhoC3rFzqsmewS48LnadBEiABEiABEiABNyPAGNEut+cZmFEd+7IsGGyeLG6ZeZMeemlLNzLoiRAAiRAAiRAAiRAAnYmYHO7O/bIDQkJwX4E2KL2r7/+Sju8w4cP9+nTB2W8vLxmzZqVtgDP2IjAzZvKtR3CHYb2L7+kcLcRZlZLAiRAAiRAAiRAArlGwLbaHVvdYmfaN998859//qlfv36XLl0uXrxo1vf4+PhKlSphD9vSpUubXeKh7QhcuyZdushPPwl2eVu1SgYNsl1TrJkESIAESIAESIAEckpg8+bNsPPGxMTktCK73x8WFoae79u3L1datq12nzlz5vDhw4cOHVqrVq158+YFBAQsXLjQrN/33Xff+++///DDD/tzgaQZGpsdnj8v7dqp8O0FC8r69fLQQzZriRWTAAmQAAmQAAk4DYHz58+PGjWqSpUqcIgoVapUq1at5s6dCyuq1kHNCQIqMzAwsFGjRt9//z3O6ydx3jQNGTLEdFjbt29HbcWKFcuXL1+NGjU+/PBD06t6XlOxpvX88ccf+lU9k7bYwIEDW7ZsGRUVVahQIb1Y9jLt27c37YCex/nsVWjnu2zo756QkLBnz54JEyZoQ/L29u7UqdOuXbuyN8LbxqTde/36dWTuGFP2asvhXWhZ60AO63HI7adPI4i778mTXqVKGX766W6DBiDpkI6wURJQ32JQ0N6JgwRIICcE+G3KCT2b3oupMRgMScZkTUNhk8O8fLwqvF7BtPCZt88YEg0hb4aYnsxq/tSpU23atClcuPDbb79dt25d2EwPHjz42WeflSlTpkePHlptkydPHjZsGIQWzK8DBgzApT///DMxMRFXd+7c2a9fv6NHjxaE5dcDWiAAADBuSURBVE8EGh1j0vuAw2effbZevXrQ/dDxI0aMwJmnEL0uddJuWb9+fe3atbUrkPum9Wgn0xZDbb6+viVLlgRMpNS1Zu1o+fLl0Ki45+zZs82bN9c74+fnp7Wr1Y/3tB3LWkvJpbV68K5lkk8jvl8SWsEnxMckTkimfxNtqN0vXbqEycZTnd5F5I8dO6YfZikzbdo0fJ5MbwFrGPJNz9g5v2HDBju3mPPmwsIKTJ7c8urVPKVKxU2atPPcufhz53JeK2sggRwRcMWvUo4GzJtJwGYE+G2yGdrsVwzFCa/g2NhYTS9mWlHC3YTzU87DYll67D1f4vPvnz8/9XzpV0trtstMa8iowDPPPAND6m+//QZ5rZXpYEyQj1rNkJJ58uSBuEKaOnXqN998s2LFCng+a4VhqkcGGhpXtTOm/alsTNp5PAnAZr9p0yZ4VWhn9HdwQB5V6ZXcNCa9gJZJWwzn165d+9BDD8EkD9P7kiVLYB2GN8err74aGRkJCf7JJ5/o3teLFy/GesszZ86UL18ezw94GjGtHzOChDMYC961zuB5Q68cJ/FU07Zt2/3796OG7LUF+/VLL73077//1qxZcwwi+onExcWZEsMZfCQw+q1bt969exeHWtJ/Bkk+Yf6vDbW7eVM5O8YMwXVeqwMjDw4ODg0N1Z78clZxdu7GIxH+f+zcuTM+4tm530H37NrlNWSIT0yMV506hjVr/MqUae+gjrBZErhHwEW/Spw/EnBCAvw2OeGkaF26desW7Lv58+eHRlSm3PgUW3W6fa48vrKfl1/4O+F4Dx4XfHb6WQj38q+VRz7d8vpJ7wBvuH/oh2aZy5cv//777++88w5M6WaX9EMoe3RSF1cQOahQP9TUdoECBfQz+o1mmb179/79999TpkxJWxIcUPixxx4DlmrVqr388su6yd+0Eq0YnjFMazDtAPoJ1QuHn6+++grdHjRoEJr7+uuvUQkeObCK8qOPPmrYsCF68vTTT8O0P3jwYNP6tbxpK6aVY5r0AuhANtrCs8cjjzwCfxN05vTp0xDxqNBsODgDCHh+wEMCmtBaxLuZvtfP6xkbavfixYvjJ4ALFy7ojSGvPxLpJ63M4JcdJNPC+EghmZ6xc97hHcjSeNeulb59BbFlWraUn3/2KlLEkeiy1HMWdnsCrvVVcvvp4ABdmgC/TU44ffBBgAKGvkRKjEvcUXCHlZ2EfMdLK2yaz+j2NrFtvAMzXMcIhxlIUniioxtaDdBp0I7IP/fcc9OnT9dOal2FPfiDDz64du3a/fffr5fXMnjXMul2o1y5ctHR0bAiT5o0Ka3DDG6BFEbN8IxHJTDq9+7d+4cffkgr37UmWrdurbe1bds2LY93LeF5df78+TD3o9qRI0dCu+M88nDTQBN9IXpEcBUeH/ALwtpLHJolrbxWm2le92zRL2W1raVLl6IS/CwAUQ73pHPnzsGJSKvNtA84A+BmX1scmpZJm7ehdofbUOPGjTdu3NirVy80jDEgD7hpO8EztiawZInggRM/yHTrJsuXS/KPXbZulvWTAAmQAAmQAAk4KQFE7oY2gwkc/jl6F8eNG/f6669D08MmDev1Aw88oF8yy2hGa5zEKlLEI9GuQmHD5Izlp+PHj8eKWNieze7CA4PuRoFoJRC1CFiSVrtrdyFcIRxOtDwcLszWTMJSrgl3FMCPCVokQ/ilnDx58sknn0SsFO1GPEhoy1u7deuG7uFkhQoVEKBcu2rle1bbwqoAuP7r1vQWLVpY2ZA1xWyo3dE8pgc/UjRp0qRp06aI3Q6g2nMPftoICgqCCzvK4NnuyJEjWgYeSwigg08D5tua3rOMNQQ+/lheeEEVfOwx+eILyexxzpoqWYYESIAESIAESCDLBODWAuu4NbeFvxuO9alefl6GBAPWrZYfXz7Tu1C5hTJQVjDxHj9+XC+DCN3Iaz7f+smxY8cigAyUGNYoorx+Pm1Gj3ho6tZSsWJFlISlGa4WML2n1e5m9WDzHwuLNKDXLQhCU/s0uqo5umiO8jC0o2a9LW0l6IIFC+Bmg5OmN+plNLu77i0DQ7t+yewWa9oyvTfX87bV7lihjJ9OJk6ciJhEDRo0WLdunbZ0NTw8XGOE8eCRCw5J2sBmGFO7du0QwjPXh+qBFcJfCytM3npLDR3yHfGakn8o80AYHDIJkAAJkAAJOJgAZJ9PoE+mnQh7KwzCPWRKSMgbIciHTQyDiEc+0xstFIDPN9bpYUHn888/r69VTVsednELctm0vOVisOibmvNNbzTN4wHAgv+9aUkr89CZZcuWhYMQfk8wuwVWY7MzpoclSpTAIWJQFilSBBmsVTW9mm7eQlv4uQCO+Pj5QjO9pxsHM906rTlpW+2OHsBJJq2fjKk0R9xQ/SnHmh6zjJUEENDp+edl7lxVHPL9tdfE4vOzlbWyGAmQAAmQAAmQgA0JaGJdE+5oRpPskO96Ptttf/rpp3A0hzcELOLw6IAVFStK4Q4OD+ds16nfiLguCMkCf3qcQeAUGGNf0H70F8EDw6pVq+A4jUtffvklfKo1o+3KlSvhEQ5zuF5JrmTg746m4SfTtWtXPD/s3r376tWruqNORk3gUQRmfpDBcl4wwXAyKml6PqO2Hn300ddeew1+Owi1gsA4oGF6Vw7zNtfuOewfb88eAcQtxVapy5YpvY6P34gR2auGd5EACZAACZAACdiVgIrjbrS4661q8h3n9TPZy8A7HHFXEPwRgjIiIgIhQLB1JiK9IC579io0vQuGdlSLmCoIv4iGsPgVAV60AggaDh90vfBbb72F6I0oBqEPj3ZtUal+NecZRISEezrc6OH/g18Y4MDz4osvZlotHGm+/fZbrCjFUw0c8aG8zTafSreGjNqC09FPP/2EoJx4SgFk0OjTp0+6NWTj5D33oGzc6cBbED0Hj1NY/mzqYmXP/sALCkFGu3fvnq7LlD17km5bcXHSu7faMBWu7QiX1L9/uqV4kgQcT8DJv0qOB8QekIDVBPhtshqVvQvCcQKKFo7g+spFe/eA7WWRAJ5DIDUhMnUH7yxWYG3xdD8bmapc2t2t5esq5S5fFiwK//NPFUxm1SoJDXWVjrOfJEACJEACJEACJEACmRCgds8EkGtdjoxUYh1he4oWlTVrpHlz1+o+e0sCJEACJEACJEACJGCJALW7JTqude3ff5VwP3NGsJAaDjO1arlW99lbEiABEiABEiABEiCBTAhYCgWaya287EwE/vlHWrdWwr1aNdmxg8LdmeaGfSEBEiABEiABEiCBXCJA7Z5LIB1aDaLht28v0dHSqJFgy7AKFRzaGzZOAiRAAiRAAiRAAiRgGwLU7rbhasdaf/hBunaVGzeUfN+0SUqWtGPbbIoESIAESIAESIAESMCOBKjd7QjbBk0tXCgIGHr7tvTqJb/8IgUL2qANVkkCJEACJEACJEACJOAcBKjdnWMestWL996TJ5+UpCT1/v33kjdvtmrhTSRAAiRAAiRAAiRAAi5CgNrdRSYqdTcNBnnlFRk3Tp3F+2efiS8jBqVGxCMSIAESIAESIAEScD8C1O6uN6d378qwYfL++6rneH/3XfHycr1RsMckQAIkQAIkQAIZEUhMFASi+PZb9Y68TdOiRYsKFy6cbhNDhgzpBa9cJmciQO3uTLNhRV9u3ZJ+/QRu7t7e6v3ll624h0VIgARIgARIgARch8DKlRISIh06yKOPqnfkcSZXErS4lzH5+flVqVJlypQpd2ERzDjNnj0byj7d6ytXrgwNDS1WrBjq27dvX7plcBK3ay1q73np4JsRKavP09PCalROUPD6denZUz2C+/vL0qVqfSoTCZAACZAACZCAOxGATO/bV+Acqydsmo4zy5dL7976uexnunbt+sUXX9y+fXvt2rXPPfdcnjx5ypQpk1F1hQoVyuhSXFxc69at+/fvP3z48IzKaOcLFix4/PhxLQ8Fb7kwr2ZKgNo9U0TOUuDiRenWTbAHU4ECsnq1igjJRAIkQAIkQAIk4EIEoMjj4y31F+4xL7yQSrijNO6C4h01Sjp1Eh+fDG8PCLDKh9bf37906dKoZcSIEatWrVq9evXTTz+Nw19//fXFF188e/YsFDnEvSboYaePiYn5AeGo06THH38c58LCwtJcMT8Bva61aH6Bx9kiQJ+ZbGGz+03YMBXbpkK4lyih7O4U7nafATZIAiRAAiRAAjklAOGeP7+lF8zcsLKnTZDvERGCqxZut/xUkLZOnMmXL19CQgIy8fHxM2bM+Oqrr7Zu3RoeHv5yrrrkxsbGVqhQITg4uGfPnocPH063JzxpPQFqd+tZOawkPuetWsmJE2rD1O3b1eapTCRAAiRAAiRAAiSQbQIGg+G3336Drb1jx46o5M6dO/PmzWvSpEmjRo1Gjhy5cePGbNdsdmP16tUXLlz4448/fv3110lJSS1btozAUwhTDghQu+cAnl1u/eOP/2/vXOBsKtc/vga5zbgzLhmNg5TjfpcyRm4jouOfjjpuqVOiODoRCeXkdnKNJvoIp9NFKdQUEiH3u3JLnBEVhlwHYxj+v21l2e2Z2TN7z8zea89818dH73qvz/t998qznvW8z2vcd5/jLbxaNWPtWuPOO30yKoNAAAIQgAAEIJDZBOTWEh/v7s+XX7obUqVumqvz9FwxMTEhISHaMxoVFfXII4+MHDlSrQoWLFipUiWzubxl4uSn+8frvffeUyvz+vbbb/9Y6O6uSZMm3bt3r127dkREhLa3lipVasaMGe4aUJYWAfzd0yLk1/KlSx0bU/QVrHFj44svjOLF/SoNg0MAAhCAAAQgkAECclsPDnbXvnVro3x5h8HOea+qGqih8lXqxt/dXb9OZZGRkdHR0YozU65cuTw3T4fRjlWritzTZZW3bs3Egw8+2KhRIzN9++23u5Sm81aj1KlT58CBA+msT7UUCaC7p4jFFpnz5hnaB3LlitGmjfHJJ2k87baQGCEgAAEIQAACEMgAAanmU6Y4ospIWbf0Z6V1TZ6cCYq7+gkODlZ0SE9lLHTj8rSVS/2kpKTvv/++Xbt2LvncekQAnxmPcPmu8ptvGl27OhT3v/7VEVXG/Wu678RiJAhAAAIQgAAEspKAvrcrHKSzaVsW98wKEJmJgp86dUph3ffs2aM+FQJS6WPHjpn9y0lmyJAhZloh5L/66qv//e9/27Zt+9vf/vbTTz89oQMmuTJAALt7BuBlTVO9Z48aZYwY4ei9b19j6lTHMUxcEIAABCAAAQjkEAJS33Wci7zKjx41FHtd294y7iqT6egUXLJXr15mt3+VodGQ6jLC9J5XpJpcN3WX06dPKwC81PpixYrVq1dv3bp11bSBjysDBFJwacpAbz5qeu7cOR0WcPbsWUX799GQfxxG27F1ooE++jj7h/2xipd3164ZAwYYb7zhaC71XX/ML2VedkczCNibQNY9SvaeN9JBIPMJ8DRlPtNM6jEhISE2NrZixYocKZpJRLO8G8XDkaopJdN6A8miIVP8baSp5WJ3z6Ll8KZbecj07Gm8/76jrdT3fv286YQ2EIAABCAAAQhAAALZlQC6u11WVsFktDdl8WJDe77nzjUefdQugiEHBCAAAQhAAAIQgIBNCKC722IhTp822rc31q3TCWeOkDJRUbaQCiEgAAEIQAACEIAABGxFAN3d/8vx66+OKJC7dhlFizqCuN9zj/9FQgIIQAACEIAABCAAARsSQHf386LogAIdtRAb69hIrpOYatTwszwMDwEIQAACEIAABCBgWwJEH/Tn0uzYYdx7r0Nx1znEa9eiuPtzLRgbAhCAAAQgAAEI2J8Aurvf1mj1aiMiwjh+3KhVy6G4V6zoN0kYGAIQgAAEIAABCEAgIAigu/tnmT7/3OHjfu6c0ayZsWqVUbq0f8RgVAhAAAIQgAAEIACBACKA7u6HxVIIyIceMhISjAcfNJYsMYoU8YMMDAkBCEAAAhCAAAQgEHAE0N19vWQTJzoOYEpKMnr0cISDVFBILghAAAIQgAAEIGBDAitXrgwKCjpz5owNZcuxIqG7+27pr183hg41nn/eMaL+fucdxzFMXBCAAAQgAAEIQMA3BHr27CldXNdtt91WsWLFQYMGJcgNIIuvQ4cOacQdCtDBlRkEUB4zg2I6+pChvU8f4+23HVXHjjUGDTKCgtLRjCoQgAAEIAABCEAg8wi0bdt29uzZV65c2bp1a48ePaRVjxs3LvO6d+0pMTHRNYv7jBHA7p4xfulrffmy8cgjDsU9Vy5j5kxj8GAU9/SBoxYEIAABCEAg+xG4cMFI/sfZ/p28VDmXLt0ikbzCrbI0Uvny5StTpkxYWFinTp1atmy5bNkyNbh8+fJzzz0XGhqaP3/+e++9d/Pmzc69rF27tmbNmipq3LjxLp0lefNas2bNfffdV6BAAfWm5hck1Y0rPDx81KhR3bt3L1y48N///ncZ+JVdp04dvSc0b95cafXfqlWrkiVLFilSJCIiYtu2bTfa8Ve6CKC7pwtTRiqdP2888IDDtT1vXuOjj4wnn8xIZ7SFAAQgAAEIQCDACYSEGMn/dO58a1ahoSlUiIq6VSE83LXCrbL0pqSFr1u3Lq+0E0PuAIM++eSTuXPnSo2uXLlymzZtTp06ZXX0wgsvTJgwQQp3qVKlOnToIJu9ig4ePCgTfufOnb/77rt58+ZJj+/Xr5/V5PXXX69Vq9b27dtffvnlTZs2Kf/rr78+evTop59+qvT58+dl8leTDRs2VKlSpV27dsqx2pJwTwCfGfd8Mlp68qShZ23LFscjtmiR0aJFRjukPQQgAAEIQAACEPCaQExMTEhIyNWrV2Vrz5Ur17Rp02Qvj46OnjNnTtSN14O3335bxvhZs2ZJZTdHGTFihMzkSku5L1++/IIFC7p06TJmzJjHHntswIABypf+PXXqVFnQ1Y/M88pp0aLF8+YOP8PInTu3ckqUKCF7vxK6VGom9PfMmTOLFi26atWq9u3bW5kk3BBAd3cDJ6NFhw8brVsbP/xglCxpLF5s1K+f0Q5pDwEIQAACEIBAwBOIj09hCjcU3N/z4+JSqCC/W+s6dMhKepqIjIyUhi19fdKkSXny5DEN5zKlN23a1OxK21gbNmy4d+9eq+cmTZqY6eLFi1etWtUs2rlzpyzu7733nll0/fr1a9euxcbG3n333cqp71bpOX78+LBhwxTEJi4uLikp6eLFi4elM3GljwC6e/o4eV5Lv3kp7j//bISFGV99Zdx1l+dd0AICEIAABCAAgexHIDg4jTllvELqAwQHB8srRuXvvPOO3FpkX2/QoEHq1VMtiY+Pf+qpp+Tm7lyjQoUK5q1Gcc53Scth5rfffpsyZcodd9wh/3u9G7Cl1QWRm1t0dzdwvC/SHg99d/rtN4fKLsVd6jsXBCAAAQhAAAIQsA8BOcwMHTp04MCBBw4ckNe7NqRKk5Z4ssHLtd10hjGllVe6qZSfPn16//79pmW9bt26e/bsMV8D3E/KdKmXfd2qprHefPNNubkr58iRIyflYcyVbgJO31/S3YaK7gl8/bURGelQ3Bs2NL79FsXdPS1KIQABCEAAAhDwD4GHH35YzuhyoenTp4+825csWSJ1/Mknn5QTS+/evS2ZXn311eXLl2tvq8LDKziMAtSoaPDgwdrqqv2pCtz+448/Llq0yHmvqtVWCYWvUSwadS5XmbNnzypH/vHvvvuufG82btwop3mVOtcn7Z4Aurt7Ph6Xzp/viCqjKEna1LF8ucPTnQsCEIAABCAAAQjYkID83aVwjx8//rXXXpPje7du3WRNlxl+6dKlxYoVswQeO3Zs//7969Wrd+zYsc8//9y0oytqpDaYygyvMJGK/zh8+PBy5cpZTZwTGkU7WWfMmKEKHTt2VJEcdWTC11ga0YxN6VyftHsCQdpb4L6GDUvPnTungKB6dVPcUL+Ip89JX375pb71aD+HswCK3f7004aIPvyw8e67Rr58zoWkIQABVwKpPUqu9biHAATSIsDTlBYhv5Xr4FLt4FSMczMAi9/kYOB0E9CmW6maUjLlVpTuRt5UTPG3kaaWm7UyeTOPwGwjfX30aOOppxyKu/7+4AMU98BcSKSGAAQgAAEIQAACNiaA7p4Ji3PtmqEYpi+95Ohq2DAjOlqhTDOhW7qAAAQgAAEIQAACEICAMwHizDjT8Catw8W0nUMeMromTTJunFHgTT+0gQAEIAABCEAAAhCAgHsC6O7u+aRQqhhHq1YFrV59e3BwUOPGRteuRkyMw9A+e7bRrVsK9cmCAAQgAAEIQAACEIBAphDwhc/M9OnTw8PDtUWjUaNGmzZtSlHujz/++K677lKdGjVqaBtoinXskPnpp0Z4uGLI5Jk4sb7+LlHCobjr9N+FC1Hc7bA+yAABCEAAAhCAAASyM4Es193nzZunsP8jRozYtm2bju9q06aNzr91Iar4oF27dlUk0e3btytoqC7FEHWpY4dbKe7/93+Oo1KtKzHRkZSne/v2Vh4JCEAAAhCAAAQgAAEIZAmBLNfdJ06cqCD/vXr1qlat2ltvvVWwYEGdwesyFR2K27ZtWx0KoJO6Ro0apXif06ZNc6nj91u5yvTv7wgj43IFBRkKDel0WJhLObcQgAAEIAABCEAAAhDIHAJZ6++emJi4devWIUOGmMIqTGbLli3Xr1/vIrtyZJu3MmWbXygflD9el29cZp4iXyqhWLa6/lgrC+/k4/7zzyngkjZ/5IjxzTdXIyKS6fVZKA5dQyA7EDAfYV8+yNmBGnOAQEoEeJpSomKLPC2NztJRyHBdthAIIdIiYJ59ZK5aWnUzVK6fhEbRL0Sn21odpflvYgrKqNU444mTJ08mJSWVLl3a6krpffv2WbdmQsd0udRRjkudMWPGvPLKK86ZX331laz4zjlZmtbmVMOon9oQixfvuHDhl9RKyYcABNwQWLZsmZtSiiAAgfQT4GlKPyuf1dSpomXKlImPj5dB02eDMlDGCZw/fz7jnbjvQT+JS5curV69+urVq1bNixcvWukUE1mru6c4pHeZMt5btnnZ3cPCwlq3bu3Lc1UVVWbixFRlj4qqHRFRK9ViCiAAgZQIyLogVaNVq1YuRxSnVJc8CEDAHQGeJnd0/FqmszOPHDkSEhJiz3NVW7Rooe2IkxTlOvXr0KFDlSpVkidF7dq1U6+VfUpkC5fiXqhQoSA5Rmflpd9GgQIFmjVr5vzbML1L3Aybtbp7yZIl9RXg+PHjlgRK6+3TujUTykmzTr4bl3ND/WPvy3/vIyON8uWNX35xdXnXsio/MjKP0+cOZzFJQwACaRDw8bOchjQUQyCQCfA02XD15IAgFVBuw7r8Ll7Pnj3nzp3rLMbGjRu129C9bGapYwIZm4I4LFiwQCFJnAWwYdr0bjJXLUvFE0+N4vLYpqncZu3PKG/evPXq1Vu+fLk5c7FQukmTJi4glGPVUZHscMnruDTx/a1U8ylTHMM6v4OZ6cmTOUjV9wvCiBCAAAQgAAEIeExA0UGOOl3S02Rg9rgXDxvgL+QhMHfVs1Z318hydHn77bf1krd3794+ffpcuHBBMWeU3717d2sPa//+/ZcsWTJhwgS5wo8cOXLLli39+vVzJ7Wfyv7yF2P+fON2+b3fvGRxV47yuSAAAQhAAAIQgEB6CFxIvJD8T8LVBKtt8lLlXLpyyU0FqyjNhPwY5O9gXffff/+Am2fCh4eHjx49+vHHH5c2X6FChZmKo+d0SUm755575N1RvXr1VatWWSWK6x0VFSWnIO1d7Natm/Y6mkXNmzeXOqfO5YWhMCTqXPkPPfSQLM1m2uqBhEcEstZnRqI88sgjJ06cGD58uLafyk1KOrq5LfXw4cPWlxf9FN5///1hw4YNHTq0SpUqCjKjn4VH0/BZZanpHTs6ospoc6p83HGV8Rl5BoIABCAAAQhkDwIhY0KST6RdlXZfPPqFmR/6eujFK64bFiPuiFjZc6VZIXxK+MmLv6vIZs71EZkT7E6GVEXrlj42f/58mVwjIiKqVq1qDqFY3pMnT1bIb4X/7tChQ2xsbIkSJc6cOSOP+SeeeEIe89p2OXjw4C5duqxYscJsItOtOlm7dq1uixcvHhoaOnv2bBn+ncOqmDX5O/0Eslx3lyh669LlItPKlSudcx6+cTnn2DYt5xmFg1RUGW1OxcfdtsuEYBCAAAQgAAEIJCcQExMjG7mZL3u5S4V27do988wzypQWLnX8m2++sXR36XKdO3dWUXR0tEyxs2bNGjRokA7kqVOnjqz1Zj86w0fRRPbv33/nnXcqRwbZ8ePHm0Xm30WLFpXJ3zmHtKcEfKG7eyoT9SEAAQhAAAIQgEB2JRA/JD751HLnuhXhO+6frifQq36uoFt+zof6H0reQzpzIiMjpXyblYODg3WwvXPDmjVrmrfybJGSHRd3SxJrL6KiXtavX1++0Kq5c+dO6ffWy4DZ9uDBg6buLmd6585JZwoBdPdMwUgnEIAABCAAAQhAIF0EgvMGu6+X8Qpu+pe+Xrly5dQqOAc5kfqe5nlSilsv/5lx48Y5d1i2bFnzVmM555POFAK33uEypTs6gQAEIAABCEAAAhDIfgQ2bNhgTkoHCSnWuyJL6rZu3bq7d+/W3lO9D1hXaiq7XgwUMTP7kfHxjNDdfQyc4SAAAQhAAAIQgEDgEZg+fbqisyvaTN++fU+fPq1wNJqD0qdOnZLjzebNm+Uqs3TpUoUTTE1Bl4qvmOAKXqLmgTd/20iM7m6bpUAQCEAAAhCAAAQgYFcCY29cOoR1zZo1n332mSI/StJy5copjIyUdZ12X6NGDUWE1G5UK5Cgy1QUxEZn+Ggzq7a3uhRxm34C+LunnxU1IQABCEAAAhCAQAATmDNnjov0znH/Dh065Fy6Y8cO81b28uvXHTEoXTa2mqUKJvPpp586NzTTzj2bOfKM15W8JjkeEcDu7hEuKkMAAhCAAAQgAAEIQMBvBNDd/YaegSEAAQhAAAIQgAAEIOARAXR3j3BRGQIQgAAEIAABCEAAAn4jgO7uN/QMDAEIQAACEIAABCAAAY8IoLt7hIvKEIAABCAAAQhAwGMC5l5Pj5vRIFsT8O5Xge6erX8UTA4CEIAABCAAAb8SME8qvXjxol+lYHA7EkhMTJRYuXPn9kg4YkR6hIvKEIAABCAAAQhAwAMC0swU8jwuLk5tChYsGBQU5EFjqvqDwLVr16RVJyQkpBaoPlOE0ignTpzQTyJPHs+0cc9qZ4qsdAIBCEAAAhCAAARyDoEyZcposqb6nnNmHbgzlSvLpUuXChQokNUvWno3qFChgqejoLsH7k8LySEAAQhAAAIQCAACUs7Kli0bGhp65cqVABA3x4uoZVq9enWzZs1Mf6es45E3b14vTPvo7lm3IvQMAQhAAAIQgAAEficg5xld4LA/AS3T1atX8+fPn9W6u3co2KvqHTdaQQACEIAABCAAAQhAwNcE0N19TZzxIAABCEAAAhCAAAQg4B0BdHfvuNEKAhCAAAQgAAEIQAACviYQkP7uZij7c+fO+ZrWzfG0iUGBWiWAPR2hborJfyFgdwI8SnZfIeQLHAI8TYGzVkhqdwL+fZpM/dbNsU0BqbufP39eyx4WFmb3xUc+CEAAAhCAAAQgAAEIeEhAum6RIkVSbBTkRq9PsYEdMhXN/tdffy1UqJCnETEzS3i9EunN4ciRI4ULF86sPukHAjmQAI9SDlx0ppxFBHiasggs3eZAAv59mqSZS3EvV65cauEjA9LursmUL1/e7z8mKe7o7n5fBQTIBgR4lLLBIjIFmxDgabLJQiBGNiDgx6cpNYu7SZW9qtng18UUIAABCEAAAhCAAARyBAF09xyxzEwSAhCAAAQgAAEIQCAbEMg9cuTIbDAN309BZ241b948T56AdDryPS5GhEBqBHiUUiNDPgQ8JcDT5Ckx6kMgNQJ2fpoCcq9qaqDJhwAEIAABCEAAAhCAQDYmgM9MNl5cpgYBCEAAAhCAAAQgkK0IoLtnq+VkMhCAAAQgAAEIQAAC2ZgAuns2XlymBgEIQAACEIAABCCQrQigu2er5WQyEIAABCAAAQhAAALZmAC6u8eLO3369PDw8Pz58zdq1GjTpk0et6cBBCBgGKtXr+7QoYPOjdPpyAsXLgQJBCDgNYExY8Y0aNBAZ42HhoZ26tTphx9+8LorGkIghxOIjo6uWbOmeSpTkyZNFi9ebEMg6O6eLcq8efMGDhw4YsSIbdu21apVq02bNnFxcZ51QW0IQMAwLly4oCdIb8LAgAAEMkhg1apVffv23bBhw7Jly65cudK6dWs9Xxnsk+YQyJkEypcvP3bs2K1bt27ZsqVFixYdO3bcvXu33VAQI9KzFZGtXeaNadOmqdm1a9fCwsKeffbZF1980bNeqA0BCNwkILv7ggULZCy8mcF/IQAB7wmcOHFC1ndp882aNfO+F1pCAAI3CBQvXvzf//537969bcUDu7sHy5GYmKhXsZYtW5ptcuXKpfT69es96IKqEIAABCAAgSwjcPbsWfUthSPLRqBjCOQIAklJSR9++KE+Yclzxm4T5lhQD1bk5MmTWsvSpUtbbZTet2+fdUsCAhCAAAQg4C8C+ho8YMCApk2bVq9e3V8yMC4EAp3A999/L309ISEhJCREn4WrVatmtxmhu9ttRZAHAhCAAAQg4A0Beb3v2rVrzZo13jSmDQQgcINA1apVd+zYoU9Y8+fP79GjhzzQ7Ka+o7t78FMtWbJk7ty5jx8/brVRukyZMtYtCQhAAAIQgIBfCPTr1y8mJkYRnLTZzi8CMCgEsgeBvHnzVq5cWXOpV6/e5s2bp0yZMmPGDFtNDX93D5ZDy6mFXL58udlGXyeVtqEjlAdToioEIAABCAQ4gevXr0tx18f9FStWVKxYMcBng/gQsBEBaXqXL1+2kUA3RMHu7tmKKECkPqDUr1+/YcOGkydP1iaGXr16edYFtSEAAcOIj48/cOCASSI2NlYfKLW7rkKFCrCBAAQ8JSBXmffff3/RokUK8X7s2DE1L1KkSIECBTzth/oQgMCQIUOioqL0j9H58+f1WK1cuXLp0qV2w0KMSI9XRAEiFTBI/3+sXbv21KlTFTXS4y5oAIEcT0D/Q4yMjHTGoLfiOXPmOOeQhgAE0kNAgVZdqs2ePbtnz54umdxCAAJpElA4SLlUHD16VC/AOqRp8ODBrVq1SrOVjyugu/sYOMNBAAIQgAAEIAABCEDASwL4u3sJjmYQgAAEIAABCEAAAhDwMQF0dx8DZzgIQAACEIAABCAAAQh4SQDd3UtwNIMABCAAAQhAAAIQgICPCaC7+xg4w0EAAhCAAAQgAAEIQMBLAujuXoKjGQQgAAEIQAACEIAABHxMAN3dx8AZDgIQgAAEIAABCEAAAl4SQHf3EhzNIAABCEAAAhCAAAQg4GMC6O4+Bs5wEIAABCAAAQhAAAIQ8JIAuruX4GgGAQhAwI8EDh06pNM0d+zY4RsZ9u3b17hx4/z58+s86fSPKAkXLlyY/vpe1/ztt99CQ0PFxH0Pb731VocOHdzXoRQCEICAzQmgu9t8gRAPAhAISAI6kV6a69ixYy3ppcUmP7veKrV5YsSIEcHBwT/88INOC3cR9cSJE3369KlQoUK+fPnKlCnTpk2btWvXutRJ/23z5s0HDBiQ/vpmzddee61jx47h4eHuGz7++OPbtm379ttv3VejFAIQgICdCaC723l1kA0CEAhgArJSjxs37vTp0/acQ2JiYvoFO3jw4L333nvHHXeUKFHCpVXnzp23b98+d+7c/fv3f/bZZ1K+ZQV3qZOltxcvXpw1a1bv3r3THCVv3ryPPvro1KlT06xJBQhAAAK2JYDubtulQTAIQCCwCbRs2VJ26DFjxiSfxsiRI52dTyZPnmzZjGWw79Sp0+jRo0uXLl20aNFXX3316tWrL7zwQvHixcuXLz979mzn3uTKcs899+gloXr16qtWrbKKdu3aFRUVFRISok66det28uRJs0iKdb9+/WTYLlmypAzkVn0zce3aNQ2nUWRBl3hLliwx8/W5YOvWrSpSQpI7tzpz5ozM2HpFiYyMlGbfsGHDIUOGPPjgg1YdDf3QQw8VLFiwSpUq0uytfEmryhqobNmyL774ouaoIs1d+VOmTNFAuuQDozefxx57rFSpUgUKFFAPLtM3e/vyyy/Vj1x6zNuVK1eqrb4P1K9fX+OKjz4XWOPKZ0ZiXLp0ycohAQEIQCCwCKC7B9Z6IS0EIBAwBHLnzi0V/I033vj55589EnrFihW//vrr6tWrJ06cKGeV9u3bFytWbOPGjU8//fRTTz3l3Jt0+ueff15m7yZNmkgrNQ3e0qdbtGhRp06dLVu2SP8+fvx4ly5dLAFkIJf5WW4tcv62Ms2ElOYJEya8/vrr3333nTR7qeA//vijio4ePfrnP/9ZAynxz3/+07mVXg90yR3o8uXLzvlW+pVXXtHo6rBdu3bSwk+dOqWiX375RbcNGjTYuXNndHS0rOb/+te/lC8BNJEnn3xSA+kKCwt7+eWX9+zZs3jx4r1796qmXjmsnq2EXh7q1atn3ZqJl156SXMRgTx58shVxiqVQq/3BMG0ckhAAAIQCDAC17kgAAEIQCCzCfTo0UMe2OpV9mDpjkosWLBA/zyY40gjr1WrljXmpEmTZLQ2b9VQ6aSkJPO2atWq9913n5mW0imn8w8++EC3sbGx6k3+9GbRlStXZC+X/Vu3o0aNat26tZmvv48cOaKasj0rHRERIZ3eKnJJlCtXTo7jVqZ062eeeca8lbSS2SpyTsyfP1+vFrL9y8Ito7vUcatU4w4bNsy8jY+P1620cN0OHTpU85KZ3yyaPn26XgDMKUvC/v37Wz3ohaRXr17WbYoJcTYJm6XffPONBvr666/N2y+++EK3MrRbbSXtnDlzrFsSEIAABAKLAHZ3/V+dCwIQgEBWEZA+LVO3zMbpH0BG7ly5fv+fs5xeatSoYbaVIV/u5nFxcVZXslKbaVmXZVE2R5H2LP31hkHc8dddd92lOnJYN2smN1Gb+efOnZOxv2nTpuat/lY6PWLL310N5YjStm1b+avUrVtXmrHVSc2aNc203joKFy5sCq9uJbk8W8wiDSTN3vl7gtVcu2A//PBDOfAMGjRo3bp1Vr5zQnq53hycc5S2xpVPjm6docn9Ri7yLvW5hQAEIBAoBNDdA2WlkBMCEAhIAs2aNZP/iQzSztJLNZeZx8qR1dxKK3HbbbdZt1JwXW5lrrZKU0xID5a5WuEjrUuuLxLDrCwdOsVWGcmU6tyqVSv5t0i9ls+6LPRWb54KbzU0E/La/+mnn/7xj3/o9eD+++938dgx68iRJvmGYGtc8w3BGZr8duRA7zIQtxCAAAQChQC6e6CsFHJCAAKBSkCeLZ9//vn69eutCUh3PHbsmKW+S8m2ijxKbNiwwawvdxptJ7377rt1K8v37t27tfm1stOVpsouo7h8ZpzDOypdrVo1j+RRZTW5cOGC+1aSUzSs6WugQoUKyedHreSLL+cZ5+ZiJT+i//73v9rRO3PmTOciMy0vIPnEJ89PMUffHxISEtQkxVIyIQABCNifALq7/dcICSEAgcAmIKcXbdN0Dk2oeC8Kiz5+/HipkvL2lhe4dzNUW7nRK9pM3759ZXs2N2UqLdNy165dN2/erP6XLl0ql3EXhTjF4bTzVR4+8+bNk3O8Yr/ojUKu5ynWtDK1O1b7YqVYazeqXPA//vhjTUoO6FaFFBNyo5cX/rPPPivJFy1aJDv9wIEDTTchvXJoI6kizChAjYzlw4cPV4UDBw7obSQmJsZ8OXHpU581VJrc9O5SzbzVxtY//elPlSpVSrGUTAhAAAL2J4Dubv81QkIIQCDgCSjAorPbhnTQN998U5q39oBu2rQpRVeQ9MxZFn1d6mTNmjXyODfDsJjmcynr2rGq1wZFhFSsScuB3k23zz33nHRoxZNRKwWoUYcKy+imvorkT9+oUSPttZVPjuJUym1GUWKmTZvmvtXtt9+uwI6auCRX8ByFZteWVrOJUMitX8Z7mdsPHz4sM7zcjeS8rv6VL9/35D1LWn1q+Oijj5IXJc/RTl9JmDyfHAhAAAKBQiDI+moZKBIjJwQgAAEIQMCZgILJ6KOBotq7f0WReV5fCXSGVJEiRZybk4YABCAQQATyBJCsiAoBCEAAAhBITuCBBx7QflyFjVdI+OSlVo5ixv/nP/9BcbeAkIAABAKRAHb3QFw1ZIYABCAAAQhAAAIQyIkE8HfPiavOnCEAAQhAAAIQgAAEApEAunsgrhoyQwACEIAABCAAAQjkRALo7jlx1ZkzBCAAAQhAAAIQgEAgEkB3D8RVQ2YIQAACEIAABCAAgZxIAN09J646c4YABCAAAQhAAAIQCEQC6O6BuGrIDAEIQAACEIAABCCQEwmgu+fEVWfOEIAABCAAAQhAAAKBSADdPRBXDZkhAAEIQAACEIAABHIiAXT3nLjqzBkCEIAABCAAAQhAIBAJ/D8dn5rUaqxJ7QAAAABJRU5ErkJggg==)"
      ],
      "metadata": {
        "id": "k4xaVK1NCAZv"
      }
    }
  ]
}